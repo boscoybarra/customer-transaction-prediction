{
  "nbformat": 4,
  "nbformat_minor": 0,
  "metadata": {
    "colab": {
      "name": "customer transaction prediction.ipynb",
      "version": "0.3.2",
      "provenance": [],
      "toc_visible": true,
      "include_colab_link": true
    },
    "kernelspec": {
      "name": "python3",
      "display_name": "Python 3"
    }
  },
  "cells": [
    {
      "cell_type": "markdown",
      "metadata": {
        "id": "view-in-github",
        "colab_type": "text"
      },
      "source": [
        "<a href=\"https://colab.research.google.com/github/boscoybarra/customer-transaction-prediction/blob/master/customer_transaction_prediction.ipynb\" target=\"_parent\"><img src=\"https://colab.research.google.com/assets/colab-badge.svg\" alt=\"Open In Colab\"/></a>"
      ]
    },
    {
      "metadata": {
        "id": "2mxzn4V-XMV4",
        "colab_type": "code",
        "colab": {}
      },
      "cell_type": "code",
      "source": [
        ""
      ],
      "execution_count": 0,
      "outputs": []
    },
    {
      "metadata": {
        "id": "cjH15UJMa-5u",
        "colab_type": "text"
      },
      "cell_type": "markdown",
      "source": [
        "## Downloading Kaggle Dataset and dependencies\n"
      ]
    },
    {
      "metadata": {
        "id": "9JMN4RcC9_cM",
        "colab_type": "code",
        "colab": {}
      },
      "cell_type": "code",
      "source": [
        "# Load the Drive helper and mount\n",
        "from google.colab import drive\n",
        "\n",
        "# This will prompt for authorization.\n",
        "drive.mount('/content/drive/')"
      ],
      "execution_count": 0,
      "outputs": []
    },
    {
      "metadata": {
        "id": "aO95PNXAFH-c",
        "colab_type": "code",
        "colab": {}
      },
      "cell_type": "code",
      "source": [
        "# After executing the cell above, Drive\n",
        "# files will be present in \"/content/drive/My Drive\".\n",
        "!ls \"/content/drive/My Drive\""
      ],
      "execution_count": 0,
      "outputs": []
    },
    {
      "metadata": {
        "id": "Hz_xIW2NFNVS",
        "colab_type": "code",
        "outputId": "0371c5fc-ce5b-4d23-d141-c7e9bef37fa5",
        "colab": {
          "base_uri": "https://localhost:8080/",
          "height": 80
        }
      },
      "cell_type": "code",
      "source": [
        "# Install kaggle pip\n",
        "!pip install -U -q kaggle\n",
        "\n",
        "!mkdir ~/.kaggle/\n",
        "\n",
        "# We copy the json file into a apparently temp file .kaggle\n",
        "!cp \"/content/drive/My Drive/kaggle/kaggle.json\" ~/.kaggle/\n",
        "\n",
        "\n"
      ],
      "execution_count": 0,
      "outputs": [
        {
          "output_type": "stream",
          "text": [
            "\u001b[?25l\r\u001b[K    18% |██████                          | 10kB 18.9MB/s eta 0:00:01\r\u001b[K    37% |████████████                    | 20kB 2.8MB/s eta 0:00:01\r\u001b[K    56% |██████████████████              | 30kB 4.0MB/s eta 0:00:01\r\u001b[K    75% |████████████████████████        | 40kB 2.8MB/s eta 0:00:01\r\u001b[K    93% |██████████████████████████████  | 51kB 3.5MB/s eta 0:00:01\r\u001b[K    100% |████████████████████████████████| 61kB 3.7MB/s \n",
            "\u001b[?25h  Building wheel for kaggle (setup.py) ... \u001b[?25ldone\n",
            "\u001b[?25h"
          ],
          "name": "stdout"
        }
      ]
    },
    {
      "metadata": {
        "id": "EebfAwb-cQZK",
        "colab_type": "code",
        "colab": {}
      },
      "cell_type": "code",
      "source": [
        "!chmod 600 /root/.kaggle/kaggle.json"
      ],
      "execution_count": 0,
      "outputs": []
    },
    {
      "metadata": {
        "id": "qL7KR0GtVr_e",
        "colab_type": "text"
      },
      "cell_type": "markdown",
      "source": [
        "##Download the data "
      ]
    },
    {
      "metadata": {
        "id": "JeG1O6cHcX9o",
        "colab_type": "code",
        "outputId": "4d963c56-e768-4c9c-de31-c721f3a3e120",
        "colab": {
          "base_uri": "https://localhost:8080/",
          "height": 236
        }
      },
      "cell_type": "code",
      "source": [
        "!kaggle competitions download santander-customer-transaction-prediction\n",
        "!ls\n",
        "\n"
      ],
      "execution_count": 0,
      "outputs": [
        {
          "output_type": "stream",
          "text": [
            "Downloading train.csv.zip to /content\n",
            " 92% 113M/122M [00:00<00:00, 103MB/s]  \n",
            "100% 122M/122M [00:00<00:00, 136MB/s]\n",
            "Downloading sample_submission.csv.zip to /content\n",
            "  0% 0.00/463k [00:00<?, ?B/s]\n",
            "100% 463k/463k [00:00<00:00, 78.4MB/s]\n",
            "Downloading test.csv.zip to /content\n",
            " 87% 106M/122M [00:00<00:00, 96.7MB/s] \n",
            "100% 122M/122M [00:01<00:00, 125MB/s] \n",
            "drive  sample_data  sample_submission.csv.zip  test.csv.zip  train.csv.zip\n"
          ],
          "name": "stdout"
        }
      ]
    },
    {
      "metadata": {
        "id": "wJJkOvOR0ffP",
        "colab_type": "text"
      },
      "cell_type": "markdown",
      "source": [
        "##Unzip the Data"
      ]
    },
    {
      "metadata": {
        "id": "SqFB121A0ebL",
        "colab_type": "code",
        "colab": {}
      },
      "cell_type": "code",
      "source": [
        "# import pandas as pd\n",
        "# train = pd.read_csv('train.csv.zip', compression='zip', header=0, sep=',', quotechar='\"')\n",
        "# test = pd.read_csv('test.csv.zip', compression='zip', header=0, sep=',', quotechar='\"')\n",
        "# sample_submission = pd.read_csv('/content/sample_submission.csv.zip', compression='zip', header=0, sep=',', quotechar='\"')\n",
        "\n"
      ],
      "execution_count": 0,
      "outputs": []
    },
    {
      "metadata": {
        "id": "8uRND5an1ThT",
        "colab_type": "text"
      },
      "cell_type": "markdown",
      "source": [
        "#Starting point\n"
      ]
    },
    {
      "metadata": {
        "id": "_Yc29AVXpmV5",
        "colab_type": "code",
        "colab": {}
      },
      "cell_type": "code",
      "source": [
        "import numpy as np # linear algebra\n",
        "import pandas as pd # data processing, CSV file I/O (e.g. pd.read_csv)\n",
        "import lightgbm as lgb\n",
        "from sklearn.model_selection import KFold\n",
        "from sklearn import model_selection, preprocessing, metrics"
      ],
      "execution_count": 0,
      "outputs": []
    },
    {
      "metadata": {
        "id": "6m2Wq0rOpmlL",
        "colab_type": "code",
        "outputId": "bc9fafb1-22c6-487c-b2a2-458507220464",
        "colab": {
          "base_uri": "https://localhost:8080/",
          "height": 1969
        }
      },
      "cell_type": "code",
      "source": [
        "train = pd.read_csv('train.csv.zip', compression='zip', header=0, sep=',', quotechar='\"')\n",
        "test = pd.read_csv('test.csv.zip', compression='zip', header=0, sep=',', quotechar='\"')\n",
        "targets = train[train.columns[1:2]]\n",
        "# train = train[train.columns[2:]]\n",
        "# test = test[test.columns[1:]]\n",
        "targets[1:]\n"
      ],
      "execution_count": 0,
      "outputs": [
        {
          "output_type": "execute_result",
          "data": {
            "text/html": [
              "<div>\n",
              "<style scoped>\n",
              "    .dataframe tbody tr th:only-of-type {\n",
              "        vertical-align: middle;\n",
              "    }\n",
              "\n",
              "    .dataframe tbody tr th {\n",
              "        vertical-align: top;\n",
              "    }\n",
              "\n",
              "    .dataframe thead th {\n",
              "        text-align: right;\n",
              "    }\n",
              "</style>\n",
              "<table border=\"1\" class=\"dataframe\">\n",
              "  <thead>\n",
              "    <tr style=\"text-align: right;\">\n",
              "      <th></th>\n",
              "      <th>target</th>\n",
              "    </tr>\n",
              "  </thead>\n",
              "  <tbody>\n",
              "    <tr>\n",
              "      <th>1</th>\n",
              "      <td>0</td>\n",
              "    </tr>\n",
              "    <tr>\n",
              "      <th>2</th>\n",
              "      <td>0</td>\n",
              "    </tr>\n",
              "    <tr>\n",
              "      <th>3</th>\n",
              "      <td>0</td>\n",
              "    </tr>\n",
              "    <tr>\n",
              "      <th>4</th>\n",
              "      <td>0</td>\n",
              "    </tr>\n",
              "    <tr>\n",
              "      <th>5</th>\n",
              "      <td>0</td>\n",
              "    </tr>\n",
              "    <tr>\n",
              "      <th>6</th>\n",
              "      <td>0</td>\n",
              "    </tr>\n",
              "    <tr>\n",
              "      <th>7</th>\n",
              "      <td>0</td>\n",
              "    </tr>\n",
              "    <tr>\n",
              "      <th>8</th>\n",
              "      <td>0</td>\n",
              "    </tr>\n",
              "    <tr>\n",
              "      <th>9</th>\n",
              "      <td>0</td>\n",
              "    </tr>\n",
              "    <tr>\n",
              "      <th>10</th>\n",
              "      <td>0</td>\n",
              "    </tr>\n",
              "    <tr>\n",
              "      <th>11</th>\n",
              "      <td>0</td>\n",
              "    </tr>\n",
              "    <tr>\n",
              "      <th>12</th>\n",
              "      <td>0</td>\n",
              "    </tr>\n",
              "    <tr>\n",
              "      <th>13</th>\n",
              "      <td>1</td>\n",
              "    </tr>\n",
              "    <tr>\n",
              "      <th>14</th>\n",
              "      <td>0</td>\n",
              "    </tr>\n",
              "    <tr>\n",
              "      <th>15</th>\n",
              "      <td>0</td>\n",
              "    </tr>\n",
              "    <tr>\n",
              "      <th>16</th>\n",
              "      <td>0</td>\n",
              "    </tr>\n",
              "    <tr>\n",
              "      <th>17</th>\n",
              "      <td>0</td>\n",
              "    </tr>\n",
              "    <tr>\n",
              "      <th>18</th>\n",
              "      <td>0</td>\n",
              "    </tr>\n",
              "    <tr>\n",
              "      <th>19</th>\n",
              "      <td>0</td>\n",
              "    </tr>\n",
              "    <tr>\n",
              "      <th>20</th>\n",
              "      <td>0</td>\n",
              "    </tr>\n",
              "    <tr>\n",
              "      <th>21</th>\n",
              "      <td>0</td>\n",
              "    </tr>\n",
              "    <tr>\n",
              "      <th>22</th>\n",
              "      <td>0</td>\n",
              "    </tr>\n",
              "    <tr>\n",
              "      <th>23</th>\n",
              "      <td>0</td>\n",
              "    </tr>\n",
              "    <tr>\n",
              "      <th>24</th>\n",
              "      <td>0</td>\n",
              "    </tr>\n",
              "    <tr>\n",
              "      <th>25</th>\n",
              "      <td>0</td>\n",
              "    </tr>\n",
              "    <tr>\n",
              "      <th>26</th>\n",
              "      <td>0</td>\n",
              "    </tr>\n",
              "    <tr>\n",
              "      <th>27</th>\n",
              "      <td>0</td>\n",
              "    </tr>\n",
              "    <tr>\n",
              "      <th>28</th>\n",
              "      <td>0</td>\n",
              "    </tr>\n",
              "    <tr>\n",
              "      <th>29</th>\n",
              "      <td>1</td>\n",
              "    </tr>\n",
              "    <tr>\n",
              "      <th>30</th>\n",
              "      <td>0</td>\n",
              "    </tr>\n",
              "    <tr>\n",
              "      <th>...</th>\n",
              "      <td>...</td>\n",
              "    </tr>\n",
              "    <tr>\n",
              "      <th>199970</th>\n",
              "      <td>0</td>\n",
              "    </tr>\n",
              "    <tr>\n",
              "      <th>199971</th>\n",
              "      <td>0</td>\n",
              "    </tr>\n",
              "    <tr>\n",
              "      <th>199972</th>\n",
              "      <td>0</td>\n",
              "    </tr>\n",
              "    <tr>\n",
              "      <th>199973</th>\n",
              "      <td>0</td>\n",
              "    </tr>\n",
              "    <tr>\n",
              "      <th>199974</th>\n",
              "      <td>0</td>\n",
              "    </tr>\n",
              "    <tr>\n",
              "      <th>199975</th>\n",
              "      <td>0</td>\n",
              "    </tr>\n",
              "    <tr>\n",
              "      <th>199976</th>\n",
              "      <td>1</td>\n",
              "    </tr>\n",
              "    <tr>\n",
              "      <th>199977</th>\n",
              "      <td>0</td>\n",
              "    </tr>\n",
              "    <tr>\n",
              "      <th>199978</th>\n",
              "      <td>0</td>\n",
              "    </tr>\n",
              "    <tr>\n",
              "      <th>199979</th>\n",
              "      <td>0</td>\n",
              "    </tr>\n",
              "    <tr>\n",
              "      <th>199980</th>\n",
              "      <td>0</td>\n",
              "    </tr>\n",
              "    <tr>\n",
              "      <th>199981</th>\n",
              "      <td>1</td>\n",
              "    </tr>\n",
              "    <tr>\n",
              "      <th>199982</th>\n",
              "      <td>0</td>\n",
              "    </tr>\n",
              "    <tr>\n",
              "      <th>199983</th>\n",
              "      <td>0</td>\n",
              "    </tr>\n",
              "    <tr>\n",
              "      <th>199984</th>\n",
              "      <td>0</td>\n",
              "    </tr>\n",
              "    <tr>\n",
              "      <th>199985</th>\n",
              "      <td>0</td>\n",
              "    </tr>\n",
              "    <tr>\n",
              "      <th>199986</th>\n",
              "      <td>1</td>\n",
              "    </tr>\n",
              "    <tr>\n",
              "      <th>199987</th>\n",
              "      <td>0</td>\n",
              "    </tr>\n",
              "    <tr>\n",
              "      <th>199988</th>\n",
              "      <td>0</td>\n",
              "    </tr>\n",
              "    <tr>\n",
              "      <th>199989</th>\n",
              "      <td>0</td>\n",
              "    </tr>\n",
              "    <tr>\n",
              "      <th>199990</th>\n",
              "      <td>1</td>\n",
              "    </tr>\n",
              "    <tr>\n",
              "      <th>199991</th>\n",
              "      <td>0</td>\n",
              "    </tr>\n",
              "    <tr>\n",
              "      <th>199992</th>\n",
              "      <td>0</td>\n",
              "    </tr>\n",
              "    <tr>\n",
              "      <th>199993</th>\n",
              "      <td>0</td>\n",
              "    </tr>\n",
              "    <tr>\n",
              "      <th>199994</th>\n",
              "      <td>0</td>\n",
              "    </tr>\n",
              "    <tr>\n",
              "      <th>199995</th>\n",
              "      <td>0</td>\n",
              "    </tr>\n",
              "    <tr>\n",
              "      <th>199996</th>\n",
              "      <td>0</td>\n",
              "    </tr>\n",
              "    <tr>\n",
              "      <th>199997</th>\n",
              "      <td>0</td>\n",
              "    </tr>\n",
              "    <tr>\n",
              "      <th>199998</th>\n",
              "      <td>0</td>\n",
              "    </tr>\n",
              "    <tr>\n",
              "      <th>199999</th>\n",
              "      <td>0</td>\n",
              "    </tr>\n",
              "  </tbody>\n",
              "</table>\n",
              "<p>199999 rows × 1 columns</p>\n",
              "</div>"
            ],
            "text/plain": [
              "        target\n",
              "1            0\n",
              "2            0\n",
              "3            0\n",
              "4            0\n",
              "5            0\n",
              "6            0\n",
              "7            0\n",
              "8            0\n",
              "9            0\n",
              "10           0\n",
              "11           0\n",
              "12           0\n",
              "13           1\n",
              "14           0\n",
              "15           0\n",
              "16           0\n",
              "17           0\n",
              "18           0\n",
              "19           0\n",
              "20           0\n",
              "21           0\n",
              "22           0\n",
              "23           0\n",
              "24           0\n",
              "25           0\n",
              "26           0\n",
              "27           0\n",
              "28           0\n",
              "29           1\n",
              "30           0\n",
              "...        ...\n",
              "199970       0\n",
              "199971       0\n",
              "199972       0\n",
              "199973       0\n",
              "199974       0\n",
              "199975       0\n",
              "199976       1\n",
              "199977       0\n",
              "199978       0\n",
              "199979       0\n",
              "199980       0\n",
              "199981       1\n",
              "199982       0\n",
              "199983       0\n",
              "199984       0\n",
              "199985       0\n",
              "199986       1\n",
              "199987       0\n",
              "199988       0\n",
              "199989       0\n",
              "199990       1\n",
              "199991       0\n",
              "199992       0\n",
              "199993       0\n",
              "199994       0\n",
              "199995       0\n",
              "199996       0\n",
              "199997       0\n",
              "199998       0\n",
              "199999       0\n",
              "\n",
              "[199999 rows x 1 columns]"
            ]
          },
          "metadata": {
            "tags": []
          },
          "execution_count": 99
        }
      ]
    },
    {
      "metadata": {
        "id": "uGLJPdwx-IsW",
        "colab_type": "code",
        "outputId": "b7294f23-dc50-4fc2-c012-f4f01bde387e",
        "colab": {
          "base_uri": "https://localhost:8080/",
          "height": 68
        }
      },
      "cell_type": "code",
      "source": [
        "target_transactions = targets.sum(axis=None)\n",
        "print(target_transactions)\n",
        "\n",
        "targets.shape"
      ],
      "execution_count": 0,
      "outputs": [
        {
          "output_type": "stream",
          "text": [
            "target    20098\n",
            "dtype: int64\n"
          ],
          "name": "stdout"
        },
        {
          "output_type": "execute_result",
          "data": {
            "text/plain": [
              "(200000, 1)"
            ]
          },
          "metadata": {
            "tags": []
          },
          "execution_count": 113
        }
      ]
    },
    {
      "metadata": {
        "id": "5G5RBqk5T8Fq",
        "colab_type": "code",
        "colab": {}
      },
      "cell_type": "code",
      "source": [
        ""
      ],
      "execution_count": 0,
      "outputs": []
    },
    {
      "metadata": {
        "id": "5UHbJuHrT8Vm",
        "colab_type": "code",
        "colab": {}
      },
      "cell_type": "code",
      "source": [
        ""
      ],
      "execution_count": 0,
      "outputs": []
    },
    {
      "metadata": {
        "id": "s7JNR3SfTr35",
        "colab_type": "text"
      },
      "cell_type": "markdown",
      "source": [
        "#### TODO 0: get all values that have a target of 1 and try to generate a regression for all 200 variables\n",
        "\n",
        "\n",
        "#### TODO 1: train with 20098 taregets vs another 20098 random 0 targets ?\n",
        "\n"
      ]
    },
    {
      "metadata": {
        "id": "i_XYGP0kppZU",
        "colab_type": "code",
        "outputId": "a63b9dc3-8b37-43df-bdf1-8ab54610a05e",
        "colab": {
          "base_uri": "https://localhost:8080/",
          "height": 139
        }
      },
      "cell_type": "code",
      "source": [
        "features"
      ],
      "execution_count": 0,
      "outputs": [
        {
          "output_type": "execute_result",
          "data": {
            "text/plain": [
              "Index(['var_0', 'var_1', 'var_2', 'var_3', 'var_4', 'var_5', 'var_6', 'var_7',\n",
              "       'var_8', 'var_9',\n",
              "       ...\n",
              "       'var_190', 'var_191', 'var_192', 'var_193', 'var_194', 'var_195',\n",
              "       'var_196', 'var_197', 'var_198', 'var_199'],\n",
              "      dtype='object', length=200)"
            ]
          },
          "metadata": {
            "tags": []
          },
          "execution_count": 114
        }
      ]
    },
    {
      "metadata": {
        "id": "jShp-VEFppnT",
        "colab_type": "code",
        "colab": {}
      },
      "cell_type": "code",
      "source": [
        "train_test = pd.concat([train, test], axis =0)\n",
        "\n",
        "\n",
        "\n",
        "target = train_test['target'].values\n",
        "\n",
        "test_target = train['target']\n"
      ],
      "execution_count": 0,
      "outputs": []
    },
    {
      "metadata": {
        "id": "l_heEjlipphy",
        "colab_type": "code",
        "outputId": "61342ad2-2f43-4d4c-e9d7-306d2618debe",
        "colab": {
          "base_uri": "https://localhost:8080/",
          "height": 720
        }
      },
      "cell_type": "code",
      "source": [
        "param = {'num_leaves': 50,\n",
        "         'min_data_in_leaf': 30, \n",
        "         'objective':'binary',\n",
        "         'max_depth': 5,\n",
        "         'learning_rate': 0.05,\n",
        "         \"min_child_samples\": 20,\n",
        "         \"boosting\": \"gbdt\",\n",
        "         \"feature_fraction\": 0.9,\n",
        "         \"bagging_freq\": 1,\n",
        "         \"bagging_fraction\": 0.9 ,\n",
        "         \"bagging_seed\": 17,\n",
        "         \"metric\": 'auc',\n",
        "         \"verbosity\": -1}\n",
        "\n",
        "folds = KFold(n_splits=5, shuffle=True, random_state=15)\n",
        "oof = np.zeros(len(train_test))\n",
        "\n",
        "\n",
        "for fold_, (trn_idx, val_idx) in enumerate(folds.split(train_test.values, target)):\n",
        "    print(\"fold n°{}\".format(fold_))\n",
        "    trn_data = lgb.Dataset(train_test.iloc[trn_idx][features], label=target[trn_idx])\n",
        "    val_data = lgb.Dataset(train_test.iloc[val_idx][features], label=target[val_idx])\n",
        "\n",
        "    num_round = 10000\n",
        "    clf = lgb.train(param, trn_data, num_round, valid_sets = [trn_data, val_data], verbose_eval=100, early_stopping_rounds = 100)\n",
        "    oof[val_idx] = clf.predict(train_test.iloc[val_idx][features], num_iteration=clf.best_iteration)"
      ],
      "execution_count": 0,
      "outputs": [
        {
          "output_type": "stream",
          "text": [
            "fold n°0\n",
            "Training until validation scores don't improve for 100 rounds.\n",
            "[100]\ttraining's auc: 0.633934\tvalid_1's auc: 0.511805\n",
            "[200]\ttraining's auc: 0.680832\tvalid_1's auc: 0.512238\n",
            "Early stopping, best iteration is:\n",
            "[128]\ttraining's auc: 0.649589\tvalid_1's auc: 0.512908\n",
            "fold n°1\n",
            "Training until validation scores don't improve for 100 rounds.\n",
            "[100]\ttraining's auc: 0.635347\tvalid_1's auc: 0.511121\n",
            "[200]\ttraining's auc: 0.681405\tvalid_1's auc: 0.514333\n",
            "[300]\ttraining's auc: 0.713812\tvalid_1's auc: 0.515166\n"
          ],
          "name": "stdout"
        },
        {
          "output_type": "error",
          "ename": "KeyboardInterrupt",
          "evalue": "ignored",
          "traceback": [
            "\u001b[0;31m---------------------------------------------------------------------------\u001b[0m",
            "\u001b[0;31mKeyboardInterrupt\u001b[0m                         Traceback (most recent call last)",
            "\u001b[0;32m<ipython-input-36-01822059dc28>\u001b[0m in \u001b[0;36m<module>\u001b[0;34m()\u001b[0m\n\u001b[1;32m     23\u001b[0m \u001b[0;34m\u001b[0m\u001b[0m\n\u001b[1;32m     24\u001b[0m     \u001b[0mnum_round\u001b[0m \u001b[0;34m=\u001b[0m \u001b[0;36m10000\u001b[0m\u001b[0;34m\u001b[0m\u001b[0;34m\u001b[0m\u001b[0m\n\u001b[0;32m---> 25\u001b[0;31m     \u001b[0mclf\u001b[0m \u001b[0;34m=\u001b[0m \u001b[0mlgb\u001b[0m\u001b[0;34m.\u001b[0m\u001b[0mtrain\u001b[0m\u001b[0;34m(\u001b[0m\u001b[0mparam\u001b[0m\u001b[0;34m,\u001b[0m \u001b[0mtrn_data\u001b[0m\u001b[0;34m,\u001b[0m \u001b[0mnum_round\u001b[0m\u001b[0;34m,\u001b[0m \u001b[0mvalid_sets\u001b[0m \u001b[0;34m=\u001b[0m \u001b[0;34m[\u001b[0m\u001b[0mtrn_data\u001b[0m\u001b[0;34m,\u001b[0m \u001b[0mval_data\u001b[0m\u001b[0;34m]\u001b[0m\u001b[0;34m,\u001b[0m \u001b[0mverbose_eval\u001b[0m\u001b[0;34m=\u001b[0m\u001b[0;36m100\u001b[0m\u001b[0;34m,\u001b[0m \u001b[0mearly_stopping_rounds\u001b[0m \u001b[0;34m=\u001b[0m \u001b[0;36m100\u001b[0m\u001b[0;34m)\u001b[0m\u001b[0;34m\u001b[0m\u001b[0;34m\u001b[0m\u001b[0m\n\u001b[0m\u001b[1;32m     26\u001b[0m     \u001b[0moof\u001b[0m\u001b[0;34m[\u001b[0m\u001b[0mval_idx\u001b[0m\u001b[0;34m]\u001b[0m \u001b[0;34m=\u001b[0m \u001b[0mclf\u001b[0m\u001b[0;34m.\u001b[0m\u001b[0mpredict\u001b[0m\u001b[0;34m(\u001b[0m\u001b[0mtrain_test\u001b[0m\u001b[0;34m.\u001b[0m\u001b[0miloc\u001b[0m\u001b[0;34m[\u001b[0m\u001b[0mval_idx\u001b[0m\u001b[0;34m]\u001b[0m\u001b[0;34m[\u001b[0m\u001b[0mfeatures\u001b[0m\u001b[0;34m]\u001b[0m\u001b[0;34m,\u001b[0m \u001b[0mnum_iteration\u001b[0m\u001b[0;34m=\u001b[0m\u001b[0mclf\u001b[0m\u001b[0;34m.\u001b[0m\u001b[0mbest_iteration\u001b[0m\u001b[0;34m)\u001b[0m\u001b[0;34m\u001b[0m\u001b[0;34m\u001b[0m\u001b[0m\n",
            "\u001b[0;32m/usr/local/lib/python3.6/dist-packages/lightgbm/engine.py\u001b[0m in \u001b[0;36mtrain\u001b[0;34m(params, train_set, num_boost_round, valid_sets, valid_names, fobj, feval, init_model, feature_name, categorical_feature, early_stopping_rounds, evals_result, verbose_eval, learning_rates, keep_training_booster, callbacks)\u001b[0m\n\u001b[1;32m    216\u001b[0m                                     evaluation_result_list=None))\n\u001b[1;32m    217\u001b[0m \u001b[0;34m\u001b[0m\u001b[0m\n\u001b[0;32m--> 218\u001b[0;31m         \u001b[0mbooster\u001b[0m\u001b[0;34m.\u001b[0m\u001b[0mupdate\u001b[0m\u001b[0;34m(\u001b[0m\u001b[0mfobj\u001b[0m\u001b[0;34m=\u001b[0m\u001b[0mfobj\u001b[0m\u001b[0;34m)\u001b[0m\u001b[0;34m\u001b[0m\u001b[0;34m\u001b[0m\u001b[0m\n\u001b[0m\u001b[1;32m    219\u001b[0m \u001b[0;34m\u001b[0m\u001b[0m\n\u001b[1;32m    220\u001b[0m         \u001b[0mevaluation_result_list\u001b[0m \u001b[0;34m=\u001b[0m \u001b[0;34m[\u001b[0m\u001b[0;34m]\u001b[0m\u001b[0;34m\u001b[0m\u001b[0;34m\u001b[0m\u001b[0m\n",
            "\u001b[0;32m/usr/local/lib/python3.6/dist-packages/lightgbm/basic.py\u001b[0m in \u001b[0;36mupdate\u001b[0;34m(self, train_set, fobj)\u001b[0m\n\u001b[1;32m   1800\u001b[0m             _safe_call(_LIB.LGBM_BoosterUpdateOneIter(\n\u001b[1;32m   1801\u001b[0m                 \u001b[0mself\u001b[0m\u001b[0;34m.\u001b[0m\u001b[0mhandle\u001b[0m\u001b[0;34m,\u001b[0m\u001b[0;34m\u001b[0m\u001b[0;34m\u001b[0m\u001b[0m\n\u001b[0;32m-> 1802\u001b[0;31m                 ctypes.byref(is_finished)))\n\u001b[0m\u001b[1;32m   1803\u001b[0m             \u001b[0mself\u001b[0m\u001b[0;34m.\u001b[0m\u001b[0m__is_predicted_cur_iter\u001b[0m \u001b[0;34m=\u001b[0m \u001b[0;34m[\u001b[0m\u001b[0;32mFalse\u001b[0m \u001b[0;32mfor\u001b[0m \u001b[0m_\u001b[0m \u001b[0;32min\u001b[0m \u001b[0mrange_\u001b[0m\u001b[0;34m(\u001b[0m\u001b[0mself\u001b[0m\u001b[0;34m.\u001b[0m\u001b[0m__num_dataset\u001b[0m\u001b[0;34m)\u001b[0m\u001b[0;34m]\u001b[0m\u001b[0;34m\u001b[0m\u001b[0;34m\u001b[0m\u001b[0m\n\u001b[1;32m   1804\u001b[0m             \u001b[0;32mreturn\u001b[0m \u001b[0mis_finished\u001b[0m\u001b[0;34m.\u001b[0m\u001b[0mvalue\u001b[0m \u001b[0;34m==\u001b[0m \u001b[0;36m1\u001b[0m\u001b[0;34m\u001b[0m\u001b[0;34m\u001b[0m\u001b[0m\n",
            "\u001b[0;31mKeyboardInterrupt\u001b[0m: "
          ]
        }
      ]
    },
    {
      "metadata": {
        "id": "hoAKDjBep2qH",
        "colab_type": "text"
      },
      "cell_type": "markdown",
      "source": [
        "Let's take a look at the overall oof CV AUC:"
      ]
    },
    {
      "metadata": {
        "id": "0tlxixGup5Zf",
        "colab_type": "code",
        "colab": {}
      },
      "cell_type": "code",
      "source": [
        "metrics.roc_auc_score(target, oof)"
      ],
      "execution_count": 0,
      "outputs": []
    },
    {
      "metadata": {
        "id": "qmo3l3gQp7tQ",
        "colab_type": "text"
      },
      "cell_type": "markdown",
      "source": [
        "AUC of 0.52 is overall not a major issue, but it is slightly over 0.50, which can have an impact when you are chasing the 4th decimal point."
      ]
    },
    {
      "metadata": {
        "id": "VbsNRCK5vyc-",
        "colab_type": "text"
      },
      "cell_type": "markdown",
      "source": [
        "## Lasso Implementation \n",
        "https://www.kaggle.com/baogorek/lasso-regression-with-keras"
      ]
    }
  ]
}