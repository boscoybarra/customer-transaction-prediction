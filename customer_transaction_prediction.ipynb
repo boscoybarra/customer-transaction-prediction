{
  "nbformat": 4,
  "nbformat_minor": 0,
  "metadata": {
    "colab": {
      "name": "customer transaction prediction.ipynb",
      "version": "0.3.2",
      "provenance": [],
      "private_outputs": true,
      "toc_visible": true,
      "include_colab_link": true
    },
    "kernelspec": {
      "name": "python3",
      "display_name": "Python 3"
    },
    "accelerator": "TPU"
  },
  "cells": [
    {
      "cell_type": "markdown",
      "metadata": {
        "id": "view-in-github",
        "colab_type": "text"
      },
      "source": [
        "<a href=\"https://colab.research.google.com/github/boscoybarra/customer-transaction-prediction/blob/master/customer_transaction_prediction.ipynb\" target=\"_parent\"><img src=\"https://colab.research.google.com/assets/colab-badge.svg\" alt=\"Open In Colab\"/></a>"
      ]
    },
    {
      "metadata": {
        "id": "cjH15UJMa-5u",
        "colab_type": "text"
      },
      "cell_type": "markdown",
      "source": [
        "## Downloading Kaggle Dataset and dependencies\n"
      ]
    },
    {
      "metadata": {
        "id": "9JMN4RcC9_cM",
        "colab_type": "code",
        "colab": {}
      },
      "cell_type": "code",
      "source": [
        "# Load the Drive helper and mount\n",
        "from google.colab import drive\n",
        "\n",
        "# This will prompt for authorization.\n",
        "drive.mount('/content/drive/')"
      ],
      "execution_count": 0,
      "outputs": []
    },
    {
      "metadata": {
        "id": "aO95PNXAFH-c",
        "colab_type": "code",
        "colab": {}
      },
      "cell_type": "code",
      "source": [
        "# After executing the cell above, Drive\n",
        "# files will be present in \"/content/drive/My Drive\".\n",
        "!ls \"/content/drive/My Drive\""
      ],
      "execution_count": 0,
      "outputs": []
    },
    {
      "metadata": {
        "id": "Hz_xIW2NFNVS",
        "colab_type": "code",
        "colab": {}
      },
      "cell_type": "code",
      "source": [
        "# Install kaggle pip\n",
        "!pip install -U -q kaggle\n",
        "\n",
        "!mkdir ~/.kaggle/\n",
        "\n",
        "# We copy the json file into a apparently temp file .kaggle\n",
        "!cp \"/content/drive/My Drive/kaggle/kaggle.json\" ~/.kaggle/\n",
        "\n",
        "\n"
      ],
      "execution_count": 0,
      "outputs": []
    },
    {
      "metadata": {
        "id": "EebfAwb-cQZK",
        "colab_type": "code",
        "colab": {}
      },
      "cell_type": "code",
      "source": [
        "!chmod 600 /root/.kaggle/kaggle.json"
      ],
      "execution_count": 0,
      "outputs": []
    },
    {
      "metadata": {
        "id": "qL7KR0GtVr_e",
        "colab_type": "text"
      },
      "cell_type": "markdown",
      "source": [
        "##Download the data "
      ]
    },
    {
      "metadata": {
        "id": "JeG1O6cHcX9o",
        "colab_type": "code",
        "colab": {}
      },
      "cell_type": "code",
      "source": [
        "!kaggle competitions download santander-customer-transaction-prediction\n",
        "!ls\n",
        "\n"
      ],
      "execution_count": 0,
      "outputs": []
    },
    {
      "metadata": {
        "id": "8uRND5an1ThT",
        "colab_type": "text"
      },
      "cell_type": "markdown",
      "source": [
        "#Starting point\n"
      ]
    },
    {
      "metadata": {
        "id": "_Yc29AVXpmV5",
        "colab_type": "code",
        "colab": {}
      },
      "cell_type": "code",
      "source": [
        "import numpy as np # linear algebra\n",
        "import pandas as pd # data processing, CSV file I/O (e.g. pd.read_csv)\n",
        "import lightgbm as lgb\n",
        "from sklearn.model_selection import KFold\n",
        "from sklearn import model_selection, preprocessing, metrics\n",
        "\n",
        "import matplotlib.pyplot as plt\n",
        "from scipy import stats"
      ],
      "execution_count": 0,
      "outputs": []
    },
    {
      "metadata": {
        "id": "6m2Wq0rOpmlL",
        "colab_type": "code",
        "colab": {}
      },
      "cell_type": "code",
      "source": [
        "train = pd.read_csv('/content/drive/My Drive/kaggle/santander-customer-transaction-prediction/train.csv')\n",
        "test = pd.read_csv('/content/drive/My Drive/kaggle/santander-customer-transaction-prediction/test.csv')\n",
        "sample_submission = pd.read_csv('/content/drive/My Drive/kaggle/santander-customer-transaction-prediction/sample_submission.csv')\n",
        "best_features = pd.read_csv('/content/drive/My Drive/kaggle/santander-customer-transaction-prediction/best_features_100.csv')\n",
        "index_features = pd.read_csv('/content/drive/My Drive/kaggle/santander-customer-transaction-prediction/index_features.csv')\n"
      ],
      "execution_count": 0,
      "outputs": []
    },
    {
      "metadata": {
        "id": "OrvePUqphC2_",
        "colab_type": "code",
        "colab": {}
      },
      "cell_type": "code",
      "source": [
        "best_features"
      ],
      "execution_count": 0,
      "outputs": []
    },
    {
      "metadata": {
        "id": "9JMC7FalhhwZ",
        "colab_type": "code",
        "colab": {}
      },
      "cell_type": "code",
      "source": [
        "df = best_features.drop(['importance', 'fold'], axis=1)"
      ],
      "execution_count": 0,
      "outputs": []
    },
    {
      "metadata": {
        "id": "BDhJtcuAxy-p",
        "colab_type": "code",
        "colab": {}
      },
      "cell_type": "code",
      "source": [
        "train"
      ],
      "execution_count": 0,
      "outputs": []
    },
    {
      "metadata": {
        "id": "xJND9woQgFwM",
        "colab_type": "code",
        "colab": {}
      },
      "cell_type": "code",
      "source": [
        "df"
      ],
      "execution_count": 0,
      "outputs": []
    },
    {
      "metadata": {
        "id": "QPAq0PRP1RIo",
        "colab_type": "code",
        "colab": {}
      },
      "cell_type": "code",
      "source": [
        "df = pd.DataFrame(np.array(best_features).reshape(1000,3), columns = list(\"abc\"))"
      ],
      "execution_count": 0,
      "outputs": []
    },
    {
      "metadata": {
        "id": "cA-pYM0M1dsA",
        "colab_type": "code",
        "colab": {}
      },
      "cell_type": "code",
      "source": [
        "df = df.drop(['b','c'], axis=1)"
      ],
      "execution_count": 0,
      "outputs": []
    },
    {
      "metadata": {
        "id": "PQdR31u48tzo",
        "colab_type": "code",
        "colab": {}
      },
      "cell_type": "code",
      "source": [
        "df"
      ],
      "execution_count": 0,
      "outputs": []
    },
    {
      "metadata": {
        "id": "iPA50MOG8w8h",
        "colab_type": "code",
        "colab": {}
      },
      "cell_type": "code",
      "source": [
        "train_trans = train.T"
      ],
      "execution_count": 0,
      "outputs": []
    },
    {
      "metadata": {
        "id": "D89DSYEvLPPx",
        "colab_type": "code",
        "colab": {}
      },
      "cell_type": "code",
      "source": [
        "train"
      ],
      "execution_count": 0,
      "outputs": []
    },
    {
      "metadata": {
        "id": "8q4ZN2vR80_L",
        "colab_type": "code",
        "colab": {}
      },
      "cell_type": "code",
      "source": [
        "train_trans"
      ],
      "execution_count": 0,
      "outputs": []
    },
    {
      "metadata": {
        "id": "mSD5RQwr1xAo",
        "colab_type": "code",
        "colab": {}
      },
      "cell_type": "code",
      "source": [
        "# change df for train and test and include on the list all the vars located inside best_features\n",
        "# hola = train[train['var_5'].isin(['1'])hola ) \n",
        "hola = train[(train.var_27 == -0.4073)]\n",
        "# criterion = train_trans[].map(lambda x: x.endswith(df))"
      ],
      "execution_count": 0,
      "outputs": []
    },
    {
      "metadata": {
        "id": "R8uywOCYM6Rh",
        "colab_type": "code",
        "colab": {}
      },
      "cell_type": "code",
      "source": [
        "hola"
      ],
      "execution_count": 0,
      "outputs": []
    },
    {
      "metadata": {
        "id": "-OzXWcdkF9nD",
        "colab_type": "code",
        "colab": {}
      },
      "cell_type": "code",
      "source": [
        "index_features"
      ],
      "execution_count": 0,
      "outputs": []
    },
    {
      "metadata": {
        "id": "uEAMc0HMFFRV",
        "colab_type": "code",
        "colab": {}
      },
      "cell_type": "code",
      "source": [
        "index_features.drop(0:2, index=1)"
      ],
      "execution_count": 0,
      "outputs": []
    },
    {
      "metadata": {
        "id": "yIcS_f8fEjQq",
        "colab_type": "code",
        "colab": {}
      },
      "cell_type": "code",
      "source": [
        "\n"
      ],
      "execution_count": 0,
      "outputs": []
    },
    {
      "metadata": {
        "id": "84KJ4CNDGWpk",
        "colab_type": "code",
        "colab": {}
      },
      "cell_type": "code",
      "source": [
        "hola.values"
      ],
      "execution_count": 0,
      "outputs": []
    },
    {
      "metadata": {
        "id": "A7rlUSLV55RU",
        "colab_type": "code",
        "colab": {}
      },
      "cell_type": "code",
      "source": [
        "for column in train:\n",
        "  for i in index_features:\n",
        "    hola = train.ix[:,index_features.items()]\n",
        "    new_array = np.concatenate(hola)"
      ],
      "execution_count": 0,
      "outputs": []
    },
    {
      "metadata": {
        "id": "uGLJPdwx-IsW",
        "colab_type": "code",
        "colab": {}
      },
      "cell_type": "code",
      "source": [
        "# targets = train['targets']\n",
        "# target_transactions = targets.sum(axis=None)\n",
        "# print(target_transactions)\n",
        "\n"
      ],
      "execution_count": 0,
      "outputs": []
    },
    {
      "metadata": {
        "id": "qoepYqK-sJJX",
        "colab_type": "code",
        "colab": {}
      },
      "cell_type": "code",
      "source": [
        "train.values"
      ],
      "execution_count": 0,
      "outputs": []
    },
    {
      "metadata": {
        "id": "U3KNrDD-RTdT",
        "colab_type": "code",
        "colab": {}
      },
      "cell_type": "code",
      "source": [
        "# We extract only the first colum values\n",
        "first_best_feature = best_features.values[:,0]"
      ],
      "execution_count": 0,
      "outputs": []
    },
    {
      "metadata": {
        "id": "aVneA6-vVGUi",
        "colab_type": "code",
        "colab": {}
      },
      "cell_type": "code",
      "source": [
        "first_best_feature"
      ],
      "execution_count": 0,
      "outputs": []
    },
    {
      "metadata": {
        "id": "AkAOKGDfhWTt",
        "colab_type": "code",
        "colab": {}
      },
      "cell_type": "code",
      "source": [
        "# #iterate through first column of train and test from values in first_best_feature and extract all column values\n",
        "\n",
        "# first_best_feature.to_csv('first_best_feature.csv', index=False)\n",
        "\n",
        "# feature_importance_df = np.array([])\n",
        "# train_arr_best_features = np.array([])\n",
        "\n",
        "# for key, value in train.items():\n",
        "#   if key in first_best_feature:\n",
        "#     train_arr_best_features = np.append(key, value)\n",
        "# #     not capable of saving the append array into a new one that is compatible with numpy arrays\n",
        "\n",
        "\n",
        "\n",
        "\n",
        "\n",
        "  "
      ],
      "execution_count": 0,
      "outputs": []
    },
    {
      "metadata": {
        "id": "P8Z-WyzooYxY",
        "colab_type": "code",
        "colab": {}
      },
      "cell_type": "code",
      "source": [
        "index_features = pd.read_csv('/content/drive/My Drive/kaggle/santander-customer-transaction-prediction/index_features.csv')\n"
      ],
      "execution_count": 0,
      "outputs": []
    },
    {
      "metadata": {
        "id": "1P1uyOI_fmNJ",
        "colab_type": "code",
        "colab": {}
      },
      "cell_type": "code",
      "source": [
        "index_features\n",
        "index_features = index_features.drop('Unnamed: 1',axis=1)"
      ],
      "execution_count": 0,
      "outputs": []
    },
    {
      "metadata": {
        "id": "3qQrO8auptXq",
        "colab_type": "code",
        "colab": {}
      },
      "cell_type": "code",
      "source": [
        "index_features.head()"
      ],
      "execution_count": 0,
      "outputs": []
    },
    {
      "metadata": {
        "id": "2BNMNmeKfVjb",
        "colab_type": "code",
        "colab": {}
      },
      "cell_type": "code",
      "source": [
        "# first_best_feature = index_features[:,0:]\n",
        "\n",
        "index_features.columns = ['var']"
      ],
      "execution_count": 0,
      "outputs": []
    },
    {
      "metadata": {
        "id": "z_8g9xzAf2lj",
        "colab_type": "code",
        "colab": {}
      },
      "cell_type": "code",
      "source": [
        "index_features"
      ],
      "execution_count": 0,
      "outputs": []
    },
    {
      "metadata": {
        "id": "XKqq3OyRloC3",
        "colab_type": "code",
        "colab": {}
      },
      "cell_type": "code",
      "source": [
        "index_features[:]"
      ],
      "execution_count": 0,
      "outputs": []
    },
    {
      "metadata": {
        "id": "oKyXe5bClQ-H",
        "colab_type": "code",
        "colab": {}
      },
      "cell_type": "code",
      "source": [
        "# for i in train.items():\n",
        "#   if i == index_features:\n",
        "#     train[:,[i]]\n",
        "\n",
        "\n"
      ],
      "execution_count": 0,
      "outputs": []
    },
    {
      "metadata": {
        "id": "chOsJ8cYDGCu",
        "colab_type": "code",
        "colab": {}
      },
      "cell_type": "code",
      "source": [
        "train"
      ],
      "execution_count": 0,
      "outputs": []
    },
    {
      "metadata": {
        "id": "FnQE73MXPsnl",
        "colab_type": "code",
        "colab": {}
      },
      "cell_type": "code",
      "source": [
        ""
      ],
      "execution_count": 0,
      "outputs": []
    },
    {
      "metadata": {
        "id": "580UT0GHBYSd",
        "colab_type": "code",
        "colab": {}
      },
      "cell_type": "code",
      "source": [
        ""
      ],
      "execution_count": 0,
      "outputs": []
    },
    {
      "metadata": {
        "id": "wtV62e_8sT_4",
        "colab_type": "code",
        "colab": {}
      },
      "cell_type": "code",
      "source": [
        "# for n in train:\n",
        "#   x = best_features['Feature'][n]\n",
        "#   if x in list(train):\n",
        "#     extracted_array = train[:, [x]]\n",
        "#     data[:, ['Column Name1','Column Name2']]\n"
      ],
      "execution_count": 0,
      "outputs": []
    },
    {
      "metadata": {
        "id": "cdPQg8iHjOIs",
        "colab_type": "code",
        "colab": {}
      },
      "cell_type": "code",
      "source": [
        "train"
      ],
      "execution_count": 0,
      "outputs": []
    },
    {
      "metadata": {
        "id": "dpqwnuHHHwKb",
        "colab_type": "code",
        "colab": {}
      },
      "cell_type": "code",
      "source": [
        "pre_transactions = train[train.columns[1:]]"
      ],
      "execution_count": 0,
      "outputs": []
    },
    {
      "metadata": {
        "id": "IxZW8dWOH5sn",
        "colab_type": "code",
        "colab": {}
      },
      "cell_type": "code",
      "source": [
        "pre_transactions"
      ],
      "execution_count": 0,
      "outputs": []
    },
    {
      "metadata": {
        "id": "kxTMim1kICZS",
        "colab_type": "code",
        "colab": {}
      },
      "cell_type": "code",
      "source": [
        "new_transactions = []\n",
        "new_transactions = pre_transactions.loc[pre_transactions['target'] == 1]\n"
      ],
      "execution_count": 0,
      "outputs": []
    },
    {
      "metadata": {
        "id": "uQtdcLavK9ui",
        "colab_type": "code",
        "colab": {}
      },
      "cell_type": "code",
      "source": [
        "new_transactions"
      ],
      "execution_count": 0,
      "outputs": []
    },
    {
      "metadata": {
        "id": "Mid4yH7LNeCz",
        "colab_type": "code",
        "colab": {}
      },
      "cell_type": "code",
      "source": [
        "no_transactions = []\n",
        "no_transactions = pre_transactions.loc[pre_transactions['target'] == 0]\n",
        "\n"
      ],
      "execution_count": 0,
      "outputs": []
    },
    {
      "metadata": {
        "id": "eDpvm82tNn8f",
        "colab_type": "code",
        "colab": {}
      },
      "cell_type": "code",
      "source": [
        "no_transactions"
      ],
      "execution_count": 0,
      "outputs": []
    },
    {
      "metadata": {
        "id": "4Wpmr_pANpnL",
        "colab_type": "code",
        "colab": {}
      },
      "cell_type": "code",
      "source": [
        "no_transactions.shape"
      ],
      "execution_count": 0,
      "outputs": []
    },
    {
      "metadata": {
        "id": "O_1NK9mwSCcy",
        "colab_type": "code",
        "colab": {}
      },
      "cell_type": "code",
      "source": [
        "# Shuffle data\n",
        "\n",
        "from sklearn.utils import shuffle\n",
        "no_transactions = shuffle(no_transactions)\n",
        "no_transactions = shuffle(no_transactions)"
      ],
      "execution_count": 0,
      "outputs": []
    },
    {
      "metadata": {
        "id": "FCcvF8ofz_hn",
        "colab_type": "code",
        "colab": {}
      },
      "cell_type": "code",
      "source": [
        "# targets = train['target']\n",
        "# target_transactions = targets.sum(axis=None)\n",
        "# print(target_transactions)"
      ],
      "execution_count": 0,
      "outputs": []
    },
    {
      "metadata": {
        "id": "0XBhBWaevF_Y",
        "colab_type": "code",
        "colab": {}
      },
      "cell_type": "code",
      "source": [
        "# targets"
      ],
      "execution_count": 0,
      "outputs": []
    },
    {
      "metadata": {
        "id": "MPrwkstcuKkg",
        "colab_type": "code",
        "colab": {}
      },
      "cell_type": "code",
      "source": [
        "# train = train[train.columns[2:]]"
      ],
      "execution_count": 0,
      "outputs": []
    },
    {
      "metadata": {
        "id": "ERSQxTly67LW",
        "colab_type": "code",
        "colab": {}
      },
      "cell_type": "code",
      "source": [
        "# features = train.columns"
      ],
      "execution_count": 0,
      "outputs": []
    },
    {
      "metadata": {
        "id": "xoD_hR8iySmD",
        "colab_type": "code",
        "colab": {}
      },
      "cell_type": "code",
      "source": [
        "# train.values\n",
        "train"
      ],
      "execution_count": 0,
      "outputs": []
    },
    {
      "metadata": {
        "id": "XGdC0VRD7C-l",
        "colab_type": "code",
        "colab": {}
      },
      "cell_type": "code",
      "source": [
        "train.shape"
      ],
      "execution_count": 0,
      "outputs": []
    },
    {
      "metadata": {
        "id": "JLoocWXbJaG4",
        "colab_type": "code",
        "colab": {}
      },
      "cell_type": "code",
      "source": [
        "targets"
      ],
      "execution_count": 0,
      "outputs": []
    },
    {
      "metadata": {
        "id": "3xYsIfmY-0gG",
        "colab_type": "code",
        "colab": {}
      },
      "cell_type": "code",
      "source": [
        "targets.shape"
      ],
      "execution_count": 0,
      "outputs": []
    },
    {
      "metadata": {
        "id": "8KJ4bXkXRLIL",
        "colab_type": "code",
        "colab": {}
      },
      "cell_type": "code",
      "source": [
        "# train = np.asarray(train)\n",
        "# targets = np.asarray(targets)"
      ],
      "execution_count": 0,
      "outputs": []
    },
    {
      "metadata": {
        "id": "urolPI3sQ47Z",
        "colab_type": "code",
        "colab": {}
      },
      "cell_type": "code",
      "source": [
        "targets = pd.DataFrame(data=targets, columns=[\"target\"])"
      ],
      "execution_count": 0,
      "outputs": []
    },
    {
      "metadata": {
        "id": "BISNNiN3tJFb",
        "colab_type": "code",
        "colab": {}
      },
      "cell_type": "code",
      "source": [
        "features"
      ],
      "execution_count": 0,
      "outputs": []
    },
    {
      "metadata": {
        "id": "ZKmmsn9k5Omk",
        "colab_type": "code",
        "colab": {}
      },
      "cell_type": "code",
      "source": [
        "targets"
      ],
      "execution_count": 0,
      "outputs": []
    },
    {
      "metadata": {
        "id": "boSIr106zlbs",
        "colab_type": "code",
        "colab": {}
      },
      "cell_type": "code",
      "source": [
        "train"
      ],
      "execution_count": 0,
      "outputs": []
    },
    {
      "metadata": {
        "id": "kbyeROnHNQak",
        "colab_type": "code",
        "colab": {}
      },
      "cell_type": "code",
      "source": [
        "# Need to create new model file?\n",
        "# !touch \"/content/drive/My Drive/kaggle/santander-customer-transaction-prediction/model.h5\""
      ],
      "execution_count": 0,
      "outputs": []
    },
    {
      "metadata": {
        "id": "RSpoTpgVLhND",
        "colab_type": "text"
      },
      "cell_type": "markdown",
      "source": [
        "## Using k-folds"
      ]
    },
    {
      "metadata": {
        "id": "vVjcT_q9FWSa",
        "colab_type": "code",
        "colab": {}
      },
      "cell_type": "code",
      "source": [
        "# Set arrays to values only before running fit\n",
        "train = train.values\n",
        "targets = targets.values"
      ],
      "execution_count": 0,
      "outputs": []
    },
    {
      "metadata": {
        "id": "PT439Hi2MSk6",
        "colab_type": "text"
      },
      "cell_type": "markdown",
      "source": [
        "## Simple Model"
      ]
    },
    {
      "metadata": {
        "id": "xfIffXjJLo9K",
        "colab_type": "code",
        "colab": {}
      },
      "cell_type": "code",
      "source": [
        "new_transactions"
      ],
      "execution_count": 0,
      "outputs": []
    },
    {
      "metadata": {
        "id": "LD2G9ojqLxxy",
        "colab_type": "code",
        "colab": {}
      },
      "cell_type": "code",
      "source": [
        "transactions = new_transactions[new_transactions.columns[1:]]\n",
        "no_transactions = no_transactions[no_transactions.columns[1:]]"
      ],
      "execution_count": 0,
      "outputs": []
    },
    {
      "metadata": {
        "id": "8oCGvU4GfLIa",
        "colab_type": "code",
        "colab": {}
      },
      "cell_type": "code",
      "source": [
        "no_transactions"
      ],
      "execution_count": 0,
      "outputs": []
    },
    {
      "metadata": {
        "id": "l4StpY83L1vT",
        "colab_type": "code",
        "colab": {}
      },
      "cell_type": "code",
      "source": [
        "transactions"
      ],
      "execution_count": 0,
      "outputs": []
    },
    {
      "metadata": {
        "id": "IkI9LRF3ZtEI",
        "colab_type": "code",
        "colab": {}
      },
      "cell_type": "code",
      "source": [
        "def get_targets(bn_no, bn_yes):\n",
        "  b = []\n",
        "  z = np.zeros((2000,1))\n",
        "  b = np.append(bn_no, z, axis=1)\n",
        "\n",
        "  c = []\n",
        "  d = np.ones((2000,1))\n",
        "  c = np.append(bn_yes, d, axis=1)\n",
        "\n",
        "  cb = np.concatenate((c, b), axis=0)\n",
        "  full_array = cb[:,:200]\n",
        "  print(full_array.shape)\n",
        "\n",
        "  targets_01 = cb[:, 200]\n",
        "\n",
        "  targets_01 = pd.DataFrame(data=targets_01, columns=[\"target\"])\n",
        "  \n",
        "  return targets_01, full_array"
      ],
      "execution_count": 0,
      "outputs": []
    },
    {
      "metadata": {
        "id": "_PWamdKEMFqp",
        "colab_type": "code",
        "colab": {}
      },
      "cell_type": "code",
      "source": [
        "# Batch 1\n",
        "b1_no = no_transactions[0:2000]\n",
        "b1_yes = transactions[0:2000]\n",
        "b1_target, X_1 = get_targets(b1_no, b1_yes)\n",
        "\n",
        "# Batch 2\n",
        "b2_no = no_transactions[2000:4000]\n",
        "b2_yes = transactions[2000:4000]\n",
        "b2_target, X_2 = get_targets(b2_no, b2_yes)\n",
        "\n",
        "# Batch 3\n",
        "b3_no = no_transactions[4000:6000]\n",
        "b3_yes = transactions[4000:6000]\n",
        "b3_target, X_3 = get_targets(b3_no, b3_yes)\n",
        "\n",
        "# Batch 4\n",
        "b4_no = no_transactions[6000:8000]\n",
        "b4_yes = transactions[6000:8000]\n",
        "b4_target, X_4 = get_targets(b4_no, b4_yes)\n",
        "\n",
        "# Batch 5\n",
        "b5_no = no_transactions[8000:10000]\n",
        "b5_yes = transactions[8000:10000]\n",
        "b5_target, X_5 = get_targets(b5_no, b5_yes)\n",
        "\n",
        "# Batch 6\n",
        "b6_no = no_transactions[118000:120000]\n",
        "b6_yes = transactions[10000:12000]\n",
        "b6_target, X_6 = get_targets(b6_no, b6_yes)\n",
        "\n",
        "# Batch 7\n",
        "b7_no = no_transactions[140000:142000]\n",
        "b7_yes = transactions[12000:14000]\n",
        "b7_target, X_7 = get_targets(b7_no, b7_yes)\n",
        "\n",
        "# Batch 8\n",
        "b8_no = no_transactions[158000:160000]\n",
        "b8_yes = transactions[14000:16000]\n",
        "b8_target, X_8 = get_targets(b8_no, b8_yes)\n",
        "\n",
        "# Batch 9\n",
        "b9_no = no_transactions[170000:172000]\n",
        "b9_yes = transactions[16000:18000]\n",
        "b9_target, X_9 = get_targets(b9_no, b9_yes)\n",
        "\n",
        "# Batch 10\n",
        "b10_no = no_transactions[176000:178000]\n",
        "b10_yes = transactions[18000:20000]\n",
        "b10_target, X_10 = get_targets(b10_no, b10_yes)"
      ],
      "execution_count": 0,
      "outputs": []
    },
    {
      "metadata": {
        "id": "Ooj7ZEWFr6H1",
        "colab_type": "code",
        "colab": {}
      },
      "cell_type": "code",
      "source": [
        "X_1"
      ],
      "execution_count": 0,
      "outputs": []
    },
    {
      "metadata": {
        "id": "_uOOIc_0rmP_",
        "colab_type": "code",
        "colab": {}
      },
      "cell_type": "code",
      "source": [
        "X_concat = np.concatenate((X_1,X_2,X_3,X_4,X_5,X_6,X_7,X_8,X_9,X_10), axis=0)\n",
        "targets_concat = np.concatenate((b1_target,b2_target,b3_target,b4_target,b5_target,b6_target,b7_target,b8_target,b9_target,b10_target), axis=0)"
      ],
      "execution_count": 0,
      "outputs": []
    },
    {
      "metadata": {
        "id": "_k1J-Z_zslZe",
        "colab_type": "code",
        "colab": {}
      },
      "cell_type": "code",
      "source": [
        "targets_concat"
      ],
      "execution_count": 0,
      "outputs": []
    },
    {
      "metadata": {
        "id": "RmZDG7GvuQrx",
        "colab_type": "code",
        "colab": {}
      },
      "cell_type": "code",
      "source": [
        "\n",
        "# TODO: create new colum on each bX_no and bX_yes with corresponding number and do like the other passing throw the model 10 times"
      ],
      "execution_count": 0,
      "outputs": []
    },
    {
      "metadata": {
        "id": "bhgvDdMGwete",
        "colab_type": "text"
      },
      "cell_type": "markdown",
      "source": [
        ""
      ]
    },
    {
      "metadata": {
        "id": "4lNgW3PxGjtA",
        "colab_type": "code",
        "colab": {}
      },
      "cell_type": "code",
      "source": [
        "# Create the h5 file in case there is no such file\n",
        "!touch \"/content/drive/My Drive/kaggle/santander-customer-transaction-prediction/model.h5\""
      ],
      "execution_count": 0,
      "outputs": []
    },
    {
      "metadata": {
        "id": "_8WnHNuRDPo7",
        "colab_type": "code",
        "colab": {}
      },
      "cell_type": "code",
      "source": [
        "# MLP for Pima Indians Dataset with 10-fold cross validation\n",
        "from keras.models import Sequential\n",
        "from keras.layers import Dense\n",
        "from sklearn.model_selection import StratifiedKFold\n",
        "from keras.metrics import categorical_accuracy\n",
        "from keras.models import load_model\n",
        "# For custom metrics\n",
        "import keras.backend as K\n",
        "\n",
        "def mean_pred(y_true, y_pred):\n",
        "    return K.mean(y_pred)\n",
        "\n",
        "# load pima indians dataset\n",
        "# dataset = numpy.loadtxt(\"pima-indians-diabetes.csv\", delimiter=\",\")\n",
        "# split into input (X) and output (Y) variables\n",
        "X = X_concat\n",
        "Y = targets_concat\n",
        "\n",
        "model = Sequential()\n",
        "model.add(Dense(64, input_dim=200, activation='relu'))\n",
        "model.add(Dense(32, activation='relu'))\n",
        "model.add(Dense(16, activation='relu'))\n",
        "model.add(Dense(1, activation='sigmoid'))\n",
        "# Compile model\n",
        "# model = load_model('/content/drive/My Drive/kaggle/santander-customer-transaction-prediction/model.h5')\n",
        "model.compile(optimizer='rmsprop',\n",
        "              loss='binary_crossentropy',\n",
        "              metrics=['accuracy'])\n",
        "\n"
      ],
      "execution_count": 0,
      "outputs": []
    },
    {
      "metadata": {
        "id": "A_btPyzS61t2",
        "colab_type": "code",
        "colab": {}
      },
      "cell_type": "code",
      "source": [
        "# Fit the model\n",
        "original_histo = model.fit(X, Y, epochs=100, batch_size=12, verbose=1)\n",
        "model.save('/content/drive/My Drive/kaggle/santander-customer-transaction-prediction/model.h5')"
      ],
      "execution_count": 0,
      "outputs": []
    },
    {
      "metadata": {
        "id": "kj1reG83MAvQ",
        "colab_type": "code",
        "colab": {}
      },
      "cell_type": "code",
      "source": [
        "# MLP for Pima Indians Dataset with 10-fold cross validation\n",
        "from keras.models import Sequential\n",
        "from keras.layers import Dense\n",
        "from sklearn.model_selection import StratifiedKFold\n",
        "from keras.metrics import categorical_accuracy\n",
        "from keras.models import load_model\n",
        "# For custom metrics\n",
        "import keras.backend as K\n",
        "\n",
        "def mean_pred(y_true, y_pred):\n",
        "    return K.mean(y_pred)\n",
        "\n",
        "cvscores = []\n",
        "\n",
        "# fix random seed for reproducibility\n",
        "seed = 7\n",
        "np.random.seed(seed)\n",
        "\n",
        "X = X_concat\n",
        "Y = targets_concat\n",
        "# define 10-fold cross validation test harness\n",
        "kfold = StratifiedKFold(n_splits=10, shuffle=True, random_state=seed)\n",
        "cvscores = []\n",
        "\n",
        "for trn_idx, tst_idx in kfold.split(X, Y):\n",
        "  # create model\n",
        "\tmodel = Sequential()\n",
        "\tmodel.add(Dense(64, input_dim=200, activation='relu'))\n",
        "\tmodel.add(Dense(32, activation='relu'))\n",
        "\tmodel.add(Dense(1, activation='sigmoid'))\n",
        "\t# Compile model\n",
        "\tmodel.compile(loss='binary_crossentropy', optimizer='adam', metrics=['accuracy', mean_pred])\n",
        "\t# Fit the model\n",
        "\toriginal_histo = model.fit(X[trn_idx], Y[trn_idx], epochs=70, batch_size=12, verbose=1)\n",
        "\tmodel.save('/content/drive/My Drive/kaggle/santander-customer-transaction-prediction/model.h5')\n",
        "\t# evaluate the model\n",
        "\tscores = model.evaluate(X[tst_idx], Y[tst_idx], verbose=0)\n",
        "\tprint(\"%s: %.2f%%\" % (model.metrics_names[1], scores[1]*100))\n",
        "\tcvscores.append(scores[1] * 100)\n",
        "print(\"%.2f%% (+/- %.2f%%)\" % (numpy.mean(cvscores), numpy.std(cvscores)))\n",
        "\n",
        "\n",
        "\n",
        "\n"
      ],
      "execution_count": 0,
      "outputs": []
    },
    {
      "metadata": {
        "id": "iI2hMY_zIba6",
        "colab_type": "code",
        "colab": {}
      },
      "cell_type": "code",
      "source": [
        "epochs = range(0, 70)\n",
        "original_val_loss = original_histo.history['acc']\n",
        "\n",
        "import matplotlib.pyplot as plt\n",
        "\n",
        "# b+ is for \"blue cross\"\n",
        "plt.plot(epochs, original_val_loss, 'b', label='Original model')\n",
        "# \"bo\" is for \"blue dot\"\n",
        "# plt.plot(epochs, smaller_model_val_loss, 'bo', label='Smaller model')\n",
        "plt.xlabel('Epochs')\n",
        "plt.ylabel('Validation loss')\n",
        "plt.legend()\n",
        "\n",
        "plt.show()"
      ],
      "execution_count": 0,
      "outputs": []
    },
    {
      "metadata": {
        "id": "Xeub8Q0lIeLk",
        "colab_type": "code",
        "colab": {}
      },
      "cell_type": "code",
      "source": [
        "test.shape"
      ],
      "execution_count": 0,
      "outputs": []
    },
    {
      "metadata": {
        "id": "G6bHmtwXpd7C",
        "colab_type": "code",
        "colab": {}
      },
      "cell_type": "code",
      "source": [
        "test = pd.read_csv('/content/drive/My Drive/kaggle/santander-customer-transaction-prediction/test.csv')\n"
      ],
      "execution_count": 0,
      "outputs": []
    },
    {
      "metadata": {
        "id": "fmUaBhmjpgB1",
        "colab_type": "code",
        "colab": {}
      },
      "cell_type": "code",
      "source": [
        "test"
      ],
      "execution_count": 0,
      "outputs": []
    },
    {
      "metadata": {
        "id": "cgWB9CygIipx",
        "colab_type": "code",
        "colab": {}
      },
      "cell_type": "code",
      "source": [
        "test = test[test.columns[1:]]"
      ],
      "execution_count": 0,
      "outputs": []
    },
    {
      "metadata": {
        "id": "mTsHcwJiIqwp",
        "colab_type": "code",
        "colab": {}
      },
      "cell_type": "code",
      "source": [
        "test"
      ],
      "execution_count": 0,
      "outputs": []
    },
    {
      "metadata": {
        "id": "Xw5cfwvFHcNG",
        "colab_type": "code",
        "colab": {}
      },
      "cell_type": "code",
      "source": [
        "# load the model we saved\n",
        "from keras.models import load_model\n",
        "\n",
        "model = load_model('/content/drive/My Drive/kaggle/santander-customer-transaction-prediction/model.h5')\n",
        "model.compile(loss='binary_crossentropy',\n",
        "              optimizer='adam',\n",
        "              metrics=['accuracy'])\n",
        "\n",
        "\n",
        "classes = model.predict(test, batch_size=12, verbose=1)"
      ],
      "execution_count": 0,
      "outputs": []
    },
    {
      "metadata": {
        "id": "efUvmPswIBFI",
        "colab_type": "code",
        "colab": {}
      },
      "cell_type": "code",
      "source": [
        "classes\n"
      ],
      "execution_count": 0,
      "outputs": []
    },
    {
      "metadata": {
        "id": "VpDvUZSzILfW",
        "colab_type": "code",
        "colab": {}
      },
      "cell_type": "code",
      "source": [
        "classes[0]"
      ],
      "execution_count": 0,
      "outputs": []
    },
    {
      "metadata": {
        "id": "mgjcvfvevpQW",
        "colab_type": "code",
        "colab": {}
      },
      "cell_type": "code",
      "source": [
        "final_submission = np.asarray(classes)"
      ],
      "execution_count": 0,
      "outputs": []
    },
    {
      "metadata": {
        "id": "IUw374g9bbO2",
        "colab_type": "code",
        "colab": {}
      },
      "cell_type": "code",
      "source": [
        "final_submission = pd.DataFrame(data=final_submission, columns=[\"p1\"])"
      ],
      "execution_count": 0,
      "outputs": []
    },
    {
      "metadata": {
        "id": "_XEtFmE_b--k",
        "colab_type": "code",
        "colab": {}
      },
      "cell_type": "code",
      "source": [
        "final_submission.head()"
      ],
      "execution_count": 0,
      "outputs": []
    },
    {
      "metadata": {
        "id": "gLC_bis4xrDo",
        "colab_type": "code",
        "colab": {}
      },
      "cell_type": "code",
      "source": [
        "final_submission"
      ],
      "execution_count": 0,
      "outputs": []
    },
    {
      "metadata": {
        "id": "izZ60HwFxrLG",
        "colab_type": "code",
        "colab": {}
      },
      "cell_type": "code",
      "source": [
        "sample_submission.head()"
      ],
      "execution_count": 0,
      "outputs": []
    },
    {
      "metadata": {
        "id": "x2HKtq2lxr_i",
        "colab_type": "code",
        "colab": {}
      },
      "cell_type": "code",
      "source": [
        "sample_submission = pd.read_csv('/content/drive/My Drive/kaggle/santander-customer-transaction-prediction/sample_submission.csv')\n",
        "sample_submission.shape"
      ],
      "execution_count": 0,
      "outputs": []
    },
    {
      "metadata": {
        "id": "6aCoE_8YxsIj",
        "colab_type": "code",
        "colab": {}
      },
      "cell_type": "code",
      "source": [
        "sample_submission['target'] = final_submission['p1']\n",
        "sample_submission.to_csv('submission.csv', index=False)"
      ],
      "execution_count": 0,
      "outputs": []
    },
    {
      "metadata": {
        "id": "4223bEDMxrH3",
        "colab_type": "code",
        "colab": {}
      },
      "cell_type": "code",
      "source": [
        "sample_submission.shape"
      ],
      "execution_count": 0,
      "outputs": []
    },
    {
      "metadata": {
        "id": "i-ae3iMbq3bL",
        "colab_type": "code",
        "colab": {}
      },
      "cell_type": "code",
      "source": [
        "sample_submission.head()"
      ],
      "execution_count": 0,
      "outputs": []
    },
    {
      "metadata": {
        "id": "V5Tlq91Df_Zx",
        "colab_type": "text"
      },
      "cell_type": "markdown",
      "source": [
        "##Plot what we have"
      ]
    },
    {
      "metadata": {
        "id": "5G5RBqk5T8Fq",
        "colab_type": "code",
        "colab": {}
      },
      "cell_type": "code",
      "source": [
        ""
      ],
      "execution_count": 0,
      "outputs": []
    },
    {
      "metadata": {
        "id": "5UHbJuHrT8Vm",
        "colab_type": "code",
        "colab": {}
      },
      "cell_type": "code",
      "source": [
        "# np.random.seed(12345678)\n",
        "# x = np.random.random(10)\n",
        "# y = 1.6*x + np.random.random(10)\n",
        "\n",
        "slope, intercept, r_value, p_value, std_err = stats.linregress(x, y)\n",
        "print(\"slope: %f    intercept: %f\" % (slope, intercept))"
      ],
      "execution_count": 0,
      "outputs": []
    },
    {
      "metadata": {
        "id": "m2Qt9iFAf9XD",
        "colab_type": "code",
        "colab": {}
      },
      "cell_type": "code",
      "source": [
        "print(\"r-squared: %f\" % r_value**2)"
      ],
      "execution_count": 0,
      "outputs": []
    },
    {
      "metadata": {
        "id": "dBWuwUFyf9gB",
        "colab_type": "code",
        "colab": {}
      },
      "cell_type": "code",
      "source": [
        "plt.plot(x, y, 'o', label='original data')\n",
        "plt.plot(x, intercept + slope*x, 'r', label='fitted line')\n",
        "plt.legend()\n",
        "plt.show()"
      ],
      "execution_count": 0,
      "outputs": []
    },
    {
      "metadata": {
        "id": "s7JNR3SfTr35",
        "colab_type": "text"
      },
      "cell_type": "markdown",
      "source": [
        "#### TODO 0: get all values that have a target of 1 and try to generate a regression for all 200 variables plus passing the other 80% of data set that has ceros.\n",
        "\n",
        "\n",
        "#### TODO 1: train with 20098 taregets vs another 20098 random 0 targets ?\n",
        "\n"
      ]
    },
    {
      "metadata": {
        "id": "i_XYGP0kppZU",
        "colab_type": "code",
        "colab": {}
      },
      "cell_type": "code",
      "source": [
        "features"
      ],
      "execution_count": 0,
      "outputs": []
    },
    {
      "metadata": {
        "id": "jShp-VEFppnT",
        "colab_type": "code",
        "colab": {}
      },
      "cell_type": "code",
      "source": [
        "train_test = pd.concat([train, test], axis =0)\n",
        "\n",
        "\n",
        "\n",
        "target = train_test['target'].values\n",
        "\n",
        "test_target = train['target']\n"
      ],
      "execution_count": 0,
      "outputs": []
    },
    {
      "metadata": {
        "id": "l_heEjlipphy",
        "colab_type": "code",
        "colab": {}
      },
      "cell_type": "code",
      "source": [
        "param = {'num_leaves': 50,\n",
        "         'min_data_in_leaf': 30, \n",
        "         'objective':'binary',\n",
        "         'max_depth': 5,\n",
        "         'learning_rate': 0.05,\n",
        "         \"min_child_samples\": 20,\n",
        "         \"boosting\": \"gbdt\",\n",
        "         \"feature_fraction\": 0.9,\n",
        "         \"bagging_freq\": 1,\n",
        "         \"bagging_fraction\": 0.9 ,\n",
        "         \"bagging_seed\": 17,\n",
        "         \"metric\": 'auc',\n",
        "         \"verbosity\": -1}\n",
        "\n",
        "folds = KFold(n_splits=5, shuffle=True, random_state=15)\n",
        "oof = np.zeros(len(train_test))\n",
        "\n",
        "\n",
        "for fold_, (trn_idx, val_idx) in enumerate(folds.split(train_test.values, target)):\n",
        "    print(\"fold n°{}\".format(fold_))\n",
        "    trn_data = lgb.Dataset(train_test.iloc[trn_idx][features], label=target[trn_idx])\n",
        "    val_data = lgb.Dataset(train_test.iloc[val_idx][features], label=target[val_idx])\n",
        "\n",
        "    num_round = 10000\n",
        "    clf = lgb.train(param, trn_data, num_round, valid_sets = [trn_data, val_data], verbose_eval=100, early_stopping_rounds = 100)\n",
        "    oof[val_idx] = clf.predict(train_test.iloc[val_idx][features], num_iteration=clf.best_iteration)"
      ],
      "execution_count": 0,
      "outputs": []
    },
    {
      "metadata": {
        "id": "hoAKDjBep2qH",
        "colab_type": "text"
      },
      "cell_type": "markdown",
      "source": [
        "Let's take a look at the overall oof CV AUC:"
      ]
    },
    {
      "metadata": {
        "id": "0tlxixGup5Zf",
        "colab_type": "code",
        "colab": {}
      },
      "cell_type": "code",
      "source": [
        "metrics.roc_auc_score(target, oof)"
      ],
      "execution_count": 0,
      "outputs": []
    },
    {
      "metadata": {
        "id": "qmo3l3gQp7tQ",
        "colab_type": "text"
      },
      "cell_type": "markdown",
      "source": [
        "AUC of 0.52 is overall not a major issue, but it is slightly over 0.50, which can have an impact when you are chasing the 4th decimal point."
      ]
    },
    {
      "metadata": {
        "id": "VbsNRCK5vyc-",
        "colab_type": "text"
      },
      "cell_type": "markdown",
      "source": [
        "## Lasso Implementation \n",
        "https://www.kaggle.com/baogorek/lasso-regression-with-keras"
      ]
    }
  ]
}