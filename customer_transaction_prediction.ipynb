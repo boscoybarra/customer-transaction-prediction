{
  "nbformat": 4,
  "nbformat_minor": 0,
  "metadata": {
    "colab": {
      "name": "customer transaction prediction.ipynb",
      "version": "0.3.2",
      "provenance": [],
      "toc_visible": true,
      "include_colab_link": true
    },
    "kernelspec": {
      "name": "python3",
      "display_name": "Python 3"
    }
  },
  "cells": [
    {
      "cell_type": "markdown",
      "metadata": {
        "id": "view-in-github",
        "colab_type": "text"
      },
      "source": [
        "<a href=\"https://colab.research.google.com/github/boscoybarra/customer-transaction-prediction/blob/master/customer_transaction_prediction.ipynb\" target=\"_parent\"><img src=\"https://colab.research.google.com/assets/colab-badge.svg\" alt=\"Open In Colab\"/></a>"
      ]
    },
    {
      "metadata": {
        "id": "cjH15UJMa-5u",
        "colab_type": "text"
      },
      "cell_type": "markdown",
      "source": [
        "## Downloading Kaggle Dataset and dependencies\n"
      ]
    },
    {
      "metadata": {
        "id": "9JMN4RcC9_cM",
        "colab_type": "code",
        "outputId": "34737421-8670-4838-a140-8e91b50c0876",
        "colab": {
          "base_uri": "https://localhost:8080/",
          "height": 136
        }
      },
      "cell_type": "code",
      "source": [
        "# Load the Drive helper and mount\n",
        "from google.colab import drive\n",
        "\n",
        "# This will prompt for authorization.\n",
        "drive.mount('/content/drive/')"
      ],
      "execution_count": 1,
      "outputs": [
        {
          "output_type": "stream",
          "text": [
            "Go to this URL in a browser: https://accounts.google.com/o/oauth2/auth?client_id=947318989803-6bn6qk8qdgf4n4g3pfee6491hc0brc4i.apps.googleusercontent.com&redirect_uri=urn%3Aietf%3Awg%3Aoauth%3A2.0%3Aoob&scope=email%20https%3A%2F%2Fwww.googleapis.com%2Fauth%2Fdocs.test%20https%3A%2F%2Fwww.googleapis.com%2Fauth%2Fdrive%20https%3A%2F%2Fwww.googleapis.com%2Fauth%2Fdrive.photos.readonly%20https%3A%2F%2Fwww.googleapis.com%2Fauth%2Fpeopleapi.readonly&response_type=code\n",
            "\n",
            "Enter your authorization code:\n",
            "··········\n",
            "Mounted at /content/drive/\n"
          ],
          "name": "stdout"
        }
      ]
    },
    {
      "metadata": {
        "id": "aO95PNXAFH-c",
        "colab_type": "code",
        "outputId": "a623cd16-8f3a-408e-e7a1-d49ef06194c2",
        "colab": {
          "base_uri": "https://localhost:8080/",
          "height": 182
        }
      },
      "cell_type": "code",
      "source": [
        "# After executing the cell above, Drive\n",
        "# files will be present in \"/content/drive/My Drive\".\n",
        "!ls \"/content/drive/My Drive\""
      ],
      "execution_count": 2,
      "outputs": [
        {
          "output_type": "stream",
          "text": [
            " Budgets\n",
            "'Colab Notebooks'\n",
            "'Contact Clinics in Spain.gsheet'\n",
            " Facturas\n",
            " kaggle\n",
            "'Manual instalación Recall en clínica.gdoc'\n",
            "'RECORDATORIOS: MENSAJES DE TEXTO PARA PACIENTES Shared.gslides'\n",
            "'RECORDATORIOS: MENSAJES DE TEXTO PARA PACIENTES Shared SMALL.gslides'\n"
          ],
          "name": "stdout"
        }
      ]
    },
    {
      "metadata": {
        "id": "Hz_xIW2NFNVS",
        "colab_type": "code",
        "colab": {}
      },
      "cell_type": "code",
      "source": [
        "# Install kaggle pip\n",
        "!pip install -U -q kaggle\n",
        "\n",
        "!mkdir ~/.kaggle/\n",
        "\n",
        "# We copy the json file into a apparently temp file .kaggle\n",
        "!cp \"/content/drive/My Drive/kaggle/kaggle.json\" ~/.kaggle/\n",
        "\n",
        "\n"
      ],
      "execution_count": 0,
      "outputs": []
    },
    {
      "metadata": {
        "id": "EebfAwb-cQZK",
        "colab_type": "code",
        "colab": {}
      },
      "cell_type": "code",
      "source": [
        "!chmod 600 /root/.kaggle/kaggle.json"
      ],
      "execution_count": 0,
      "outputs": []
    },
    {
      "metadata": {
        "id": "qL7KR0GtVr_e",
        "colab_type": "text"
      },
      "cell_type": "markdown",
      "source": [
        "##Download the data "
      ]
    },
    {
      "metadata": {
        "id": "JeG1O6cHcX9o",
        "colab_type": "code",
        "outputId": "22ceacbc-e298-4872-c935-38f43d88fdd8",
        "colab": {
          "base_uri": "https://localhost:8080/",
          "height": 216
        }
      },
      "cell_type": "code",
      "source": [
        "!kaggle competitions download santander-customer-transaction-prediction\n",
        "!ls\n",
        "\n"
      ],
      "execution_count": 5,
      "outputs": [
        {
          "output_type": "stream",
          "text": [
            "Downloading train.csv.zip to /content\n",
            " 97% 119M/122M [00:00<00:00, 143MB/s] \n",
            "100% 122M/122M [00:00<00:00, 157MB/s]\n",
            "Downloading sample_submission.csv.zip to /content\n",
            "  0% 0.00/463k [00:00<?, ?B/s]\n",
            "100% 463k/463k [00:00<00:00, 137MB/s]\n",
            "Downloading test.csv.zip to /content\n",
            " 91% 111M/122M [00:00<00:00, 155MB/s] \n",
            "100% 122M/122M [00:00<00:00, 132MB/s]\n",
            "drive  sample_data  sample_submission.csv.zip  test.csv.zip  train.csv.zip\n"
          ],
          "name": "stdout"
        }
      ]
    },
    {
      "metadata": {
        "id": "8uRND5an1ThT",
        "colab_type": "text"
      },
      "cell_type": "markdown",
      "source": [
        "#Starting point\n"
      ]
    },
    {
      "metadata": {
        "id": "_Yc29AVXpmV5",
        "colab_type": "code",
        "colab": {}
      },
      "cell_type": "code",
      "source": [
        "import numpy as np # linear algebra\n",
        "import pandas as pd # data processing, CSV file I/O (e.g. pd.read_csv)\n",
        "import lightgbm as lgb\n",
        "from sklearn.model_selection import KFold\n",
        "from sklearn import model_selection, preprocessing, metrics\n",
        "\n",
        "import matplotlib.pyplot as plt\n",
        "from scipy import stats"
      ],
      "execution_count": 0,
      "outputs": []
    },
    {
      "metadata": {
        "id": "6m2Wq0rOpmlL",
        "colab_type": "code",
        "colab": {}
      },
      "cell_type": "code",
      "source": [
        "train = pd.read_csv('train.csv.zip', compression='zip', header=0, sep=',', quotechar='\"')\n",
        "test = pd.read_csv('test.csv.zip', compression='zip', header=0, sep=',', quotechar='\"')\n",
        "sample_submission = pd.read_csv('sample_submission.csv.zip', compression='zip', header=0, sep=',', quotechar='\"')\n",
        "# targets = train[train.columns[1:2]]\n",
        "# train = train[train.columns[2:]]\n",
        "# train = train[train.columns[2:]]\n",
        "# test = test[test.columns[1:]]\n"
      ],
      "execution_count": 0,
      "outputs": []
    },
    {
      "metadata": {
        "id": "uGLJPdwx-IsW",
        "colab_type": "code",
        "outputId": "b7294f23-dc50-4fc2-c012-f4f01bde387e",
        "colab": {
          "base_uri": "https://localhost:8080/",
          "height": 68
        }
      },
      "cell_type": "code",
      "source": [
        "target_transactions = targets.sum(axis=None)\n",
        "print(target_transactions)\n",
        "\n",
        "targets.shape"
      ],
      "execution_count": 0,
      "outputs": [
        {
          "output_type": "stream",
          "text": [
            "target    20098\n",
            "dtype: int64\n"
          ],
          "name": "stdout"
        },
        {
          "output_type": "execute_result",
          "data": {
            "text/plain": [
              "(200000, 1)"
            ]
          },
          "metadata": {
            "tags": []
          },
          "execution_count": 113
        }
      ]
    },
    {
      "metadata": {
        "id": "MPrwkstcuKkg",
        "colab_type": "code",
        "colab": {
          "base_uri": "https://localhost:8080/",
          "height": 504
        },
        "outputId": "8537317a-4ab8-466e-d9fb-87f00ae89d65"
      },
      "cell_type": "code",
      "source": [
        "!pip install h2o\n",
        "from h2o.automl import H2OAutoML\n",
        "\n",
        "h2o.init(max_mem_size='16G')"
      ],
      "execution_count": 12,
      "outputs": [
        {
          "output_type": "stream",
          "text": [
            "Collecting h2o\n",
            "\u001b[?25l  Downloading https://files.pythonhosted.org/packages/db/0d/e883b46c2ca0fefd24c15ff49180fe35aeaad12d8e42b0ed6e1be1664db8/h2o-3.22.1.4.tar.gz (120.9MB)\n",
            "\u001b[K    100% |████████████████████████████████| 120.9MB 259kB/s \n",
            "\u001b[?25hRequirement already satisfied: requests in /usr/local/lib/python3.6/dist-packages (from h2o) (2.18.4)\n",
            "Requirement already satisfied: tabulate in /usr/local/lib/python3.6/dist-packages (from h2o) (0.8.3)\n",
            "Requirement already satisfied: future in /usr/local/lib/python3.6/dist-packages (from h2o) (0.16.0)\n",
            "Collecting colorama>=0.3.8 (from h2o)\n",
            "  Downloading https://files.pythonhosted.org/packages/4f/a6/728666f39bfff1719fc94c481890b2106837da9318031f71a8424b662e12/colorama-0.4.1-py2.py3-none-any.whl\n",
            "Requirement already satisfied: chardet<3.1.0,>=3.0.2 in /usr/local/lib/python3.6/dist-packages (from requests->h2o) (3.0.4)\n",
            "Requirement already satisfied: certifi>=2017.4.17 in /usr/local/lib/python3.6/dist-packages (from requests->h2o) (2018.11.29)\n",
            "Requirement already satisfied: idna<2.7,>=2.5 in /usr/local/lib/python3.6/dist-packages (from requests->h2o) (2.6)\n",
            "Requirement already satisfied: urllib3<1.23,>=1.21.1 in /usr/local/lib/python3.6/dist-packages (from requests->h2o) (1.22)\n",
            "Building wheels for collected packages: h2o\n",
            "  Building wheel for h2o (setup.py) ... \u001b[?25ldone\n",
            "\u001b[?25h  Stored in directory: /root/.cache/pip/wheels/76/73/b8/8639930fbc56e9f26fac210f5e65dbe05a0c39396ddaf4a685\n",
            "Successfully built h2o\n",
            "Installing collected packages: colorama, h2o\n",
            "Successfully installed colorama-0.4.1 h2o-3.22.1.4\n"
          ],
          "name": "stdout"
        },
        {
          "output_type": "error",
          "ename": "NameError",
          "evalue": "ignored",
          "traceback": [
            "\u001b[0;31m---------------------------------------------------------------------------\u001b[0m",
            "\u001b[0;31mNameError\u001b[0m                                 Traceback (most recent call last)",
            "\u001b[0;32m<ipython-input-12-3607375a4abc>\u001b[0m in \u001b[0;36m<module>\u001b[0;34m()\u001b[0m\n\u001b[1;32m      2\u001b[0m \u001b[0;32mfrom\u001b[0m \u001b[0mh2o\u001b[0m\u001b[0;34m.\u001b[0m\u001b[0mautoml\u001b[0m \u001b[0;32mimport\u001b[0m \u001b[0mH2OAutoML\u001b[0m\u001b[0;34m\u001b[0m\u001b[0;34m\u001b[0m\u001b[0m\n\u001b[1;32m      3\u001b[0m \u001b[0;34m\u001b[0m\u001b[0m\n\u001b[0;32m----> 4\u001b[0;31m \u001b[0mh2o\u001b[0m\u001b[0;34m.\u001b[0m\u001b[0minit\u001b[0m\u001b[0;34m(\u001b[0m\u001b[0mmax_mem_size\u001b[0m\u001b[0;34m=\u001b[0m\u001b[0;34m'16G'\u001b[0m\u001b[0;34m)\u001b[0m\u001b[0;34m\u001b[0m\u001b[0;34m\u001b[0m\u001b[0m\n\u001b[0m",
            "\u001b[0;31mNameError\u001b[0m: name 'h2o' is not defined"
          ]
        }
      ]
    },
    {
      "metadata": {
        "id": "3FL-febju9sa",
        "colab_type": "code",
        "colab": {
          "base_uri": "https://localhost:8080/",
          "height": 199
        },
        "outputId": "fc15c911-3a7a-446c-8d2e-38982080086c"
      },
      "cell_type": "code",
      "source": [
        "! apt-get install default-jre\n",
        "!java -version"
      ],
      "execution_count": 14,
      "outputs": [
        {
          "output_type": "stream",
          "text": [
            "Reading package lists... Done\n",
            "Building dependency tree       \n",
            "Reading state information... Done\n",
            "default-jre is already the newest version (2:1.10-63ubuntu1~02).\n",
            "default-jre set to manually installed.\n",
            "0 upgraded, 0 newly installed, 0 to remove and 8 not upgraded.\n",
            "openjdk version \"10.0.2\" 2018-07-17\n",
            "OpenJDK Runtime Environment (build 10.0.2+13-Ubuntu-1ubuntu0.18.04.4)\n",
            "OpenJDK 64-Bit Server VM (build 10.0.2+13-Ubuntu-1ubuntu0.18.04.4, mixed mode)\n"
          ],
          "name": "stdout"
        }
      ]
    },
    {
      "metadata": {
        "id": "k99Yf51WvFAZ",
        "colab_type": "code",
        "colab": {
          "base_uri": "https://localhost:8080/",
          "height": 199
        },
        "outputId": "d1e330da-dcc6-4633-aa2b-7881c8ef346f"
      },
      "cell_type": "code",
      "source": [
        "! pip install h2o"
      ],
      "execution_count": 16,
      "outputs": [
        {
          "output_type": "stream",
          "text": [
            "Requirement already satisfied: h2o in /usr/local/lib/python3.6/dist-packages (3.22.1.4)\n",
            "Requirement already satisfied: future in /usr/local/lib/python3.6/dist-packages (from h2o) (0.16.0)\n",
            "Requirement already satisfied: colorama>=0.3.8 in /usr/local/lib/python3.6/dist-packages (from h2o) (0.4.1)\n",
            "Requirement already satisfied: tabulate in /usr/local/lib/python3.6/dist-packages (from h2o) (0.8.3)\n",
            "Requirement already satisfied: requests in /usr/local/lib/python3.6/dist-packages (from h2o) (2.18.4)\n",
            "Requirement already satisfied: chardet<3.1.0,>=3.0.2 in /usr/local/lib/python3.6/dist-packages (from requests->h2o) (3.0.4)\n",
            "Requirement already satisfied: certifi>=2017.4.17 in /usr/local/lib/python3.6/dist-packages (from requests->h2o) (2018.11.29)\n",
            "Requirement already satisfied: urllib3<1.23,>=1.21.1 in /usr/local/lib/python3.6/dist-packages (from requests->h2o) (1.22)\n",
            "Requirement already satisfied: idna<2.7,>=2.5 in /usr/local/lib/python3.6/dist-packages (from requests->h2o) (2.6)\n"
          ],
          "name": "stdout"
        }
      ]
    },
    {
      "metadata": {
        "id": "-2OcIl8bvIBV",
        "colab_type": "code",
        "colab": {}
      },
      "cell_type": "code",
      "source": [
        "import h2o"
      ],
      "execution_count": 0,
      "outputs": []
    },
    {
      "metadata": {
        "id": "GXOB6M1GwG5z",
        "colab_type": "code",
        "colab": {
          "base_uri": "https://localhost:8080/",
          "height": 528
        },
        "outputId": "5f5526b0-a08f-4ff2-8c07-9f72686799f5"
      },
      "cell_type": "code",
      "source": [
        "from h2o.automl import H2OAutoML\n",
        "\n",
        "h2o.init(max_mem_size='16G')"
      ],
      "execution_count": 29,
      "outputs": [
        {
          "output_type": "stream",
          "text": [
            "Checking whether there is an H2O instance running at http://localhost:54321..... not found.\n",
            "Attempting to start a local H2O server...\n",
            "  Java Version: openjdk version \"10.0.2\" 2018-07-17; OpenJDK Runtime Environment (build 10.0.2+13-Ubuntu-1ubuntu0.18.04.4); OpenJDK 64-Bit Server VM (build 10.0.2+13-Ubuntu-1ubuntu0.18.04.4, mixed mode)\n",
            "  Starting server from /usr/local/lib/python3.6/dist-packages/h2o/backend/bin/h2o.jar\n",
            "  Ice root: /tmp/tmpqfiziffi\n",
            "  JVM stdout: /tmp/tmpqfiziffi/h2o_unknownUser_started_from_python.out\n",
            "  JVM stderr: /tmp/tmpqfiziffi/h2o_unknownUser_started_from_python.err\n",
            "  Server is running at http://127.0.0.1:54321\n",
            "Connecting to H2O server at http://127.0.0.1:54321... successful.\n"
          ],
          "name": "stdout"
        },
        {
          "output_type": "display_data",
          "data": {
            "text/html": [
              "<div style=\"overflow:auto\"><table style=\"width:50%\"><tr><td>H2O cluster uptime:</td>\n",
              "<td>02 secs</td></tr>\n",
              "<tr><td>H2O cluster timezone:</td>\n",
              "<td>Etc/UTC</td></tr>\n",
              "<tr><td>H2O data parsing timezone:</td>\n",
              "<td>UTC</td></tr>\n",
              "<tr><td>H2O cluster version:</td>\n",
              "<td>3.22.1.4</td></tr>\n",
              "<tr><td>H2O cluster version age:</td>\n",
              "<td>9 days </td></tr>\n",
              "<tr><td>H2O cluster name:</td>\n",
              "<td>H2O_from_python_unknownUser_eufg7n</td></tr>\n",
              "<tr><td>H2O cluster total nodes:</td>\n",
              "<td>1</td></tr>\n",
              "<tr><td>H2O cluster free memory:</td>\n",
              "<td>16 Gb</td></tr>\n",
              "<tr><td>H2O cluster total cores:</td>\n",
              "<td>2</td></tr>\n",
              "<tr><td>H2O cluster allowed cores:</td>\n",
              "<td>2</td></tr>\n",
              "<tr><td>H2O cluster status:</td>\n",
              "<td>accepting new members, healthy</td></tr>\n",
              "<tr><td>H2O connection url:</td>\n",
              "<td>http://127.0.0.1:54321</td></tr>\n",
              "<tr><td>H2O connection proxy:</td>\n",
              "<td>None</td></tr>\n",
              "<tr><td>H2O internal security:</td>\n",
              "<td>False</td></tr>\n",
              "<tr><td>H2O API Extensions:</td>\n",
              "<td>Amazon S3, XGBoost, Algos, AutoML, Core V3, Core V4</td></tr>\n",
              "<tr><td>Python version:</td>\n",
              "<td>3.6.7 final</td></tr></table></div>"
            ],
            "text/plain": [
              "--------------------------  ---------------------------------------------------\n",
              "H2O cluster uptime:         02 secs\n",
              "H2O cluster timezone:       Etc/UTC\n",
              "H2O data parsing timezone:  UTC\n",
              "H2O cluster version:        3.22.1.4\n",
              "H2O cluster version age:    9 days\n",
              "H2O cluster name:           H2O_from_python_unknownUser_eufg7n\n",
              "H2O cluster total nodes:    1\n",
              "H2O cluster free memory:    16 Gb\n",
              "H2O cluster total cores:    2\n",
              "H2O cluster allowed cores:  2\n",
              "H2O cluster status:         accepting new members, healthy\n",
              "H2O connection url:         http://127.0.0.1:54321\n",
              "H2O connection proxy:\n",
              "H2O internal security:      False\n",
              "H2O API Extensions:         Amazon S3, XGBoost, Algos, AutoML, Core V3, Core V4\n",
              "Python version:             3.6.7 final\n",
              "--------------------------  ---------------------------------------------------"
            ]
          },
          "metadata": {
            "tags": []
          }
        }
      ]
    },
    {
      "metadata": {
        "id": "jL-wGZi3upvc",
        "colab_type": "code",
        "colab": {
          "base_uri": "https://localhost:8080/",
          "height": 3635
        },
        "outputId": "cbe6a634-88de-484c-8b51-99bb5ac8733f"
      },
      "cell_type": "code",
      "source": [
        "train = h2o.import_file(train)"
      ],
      "execution_count": 30,
      "outputs": [
        {
          "output_type": "error",
          "ename": "H2OTypeError",
          "evalue": "ignored",
          "traceback": [
            "\u001b[0;31m---------------------------------------------------------------------------\u001b[0m",
            "\u001b[0;31mH2OTypeError\u001b[0m                              Traceback (most recent call last)",
            "\u001b[0;32m<ipython-input-30-56ba3fc72307>\u001b[0m in \u001b[0;36m<module>\u001b[0;34m()\u001b[0m\n\u001b[0;32m----> 1\u001b[0;31m \u001b[0mtrain\u001b[0m \u001b[0;34m=\u001b[0m \u001b[0mh2o\u001b[0m\u001b[0;34m.\u001b[0m\u001b[0mimport_file\u001b[0m\u001b[0;34m(\u001b[0m\u001b[0mtrain\u001b[0m\u001b[0;34m)\u001b[0m\u001b[0;34m\u001b[0m\u001b[0;34m\u001b[0m\u001b[0m\n\u001b[0m",
            "\u001b[0;32m/usr/local/lib/python3.6/dist-packages/h2o/h2o.py\u001b[0m in \u001b[0;36mimport_file\u001b[0;34m(path, destination_frame, parse, header, sep, col_names, col_types, na_strings, pattern, skipped_columns)\u001b[0m\n\u001b[1;32m    414\u001b[0m                 \"categorical\", \"factor\", \"enum\", \"time\")\n\u001b[1;32m    415\u001b[0m     \u001b[0mnatype\u001b[0m \u001b[0;34m=\u001b[0m \u001b[0mU\u001b[0m\u001b[0;34m(\u001b[0m\u001b[0mstr\u001b[0m\u001b[0;34m,\u001b[0m \u001b[0;34m[\u001b[0m\u001b[0mstr\u001b[0m\u001b[0;34m]\u001b[0m\u001b[0;34m)\u001b[0m\u001b[0;34m\u001b[0m\u001b[0;34m\u001b[0m\u001b[0m\n\u001b[0;32m--> 416\u001b[0;31m     \u001b[0massert_is_type\u001b[0m\u001b[0;34m(\u001b[0m\u001b[0mpath\u001b[0m\u001b[0;34m,\u001b[0m \u001b[0mstr\u001b[0m\u001b[0;34m,\u001b[0m \u001b[0;34m[\u001b[0m\u001b[0mstr\u001b[0m\u001b[0;34m]\u001b[0m\u001b[0;34m)\u001b[0m\u001b[0;34m\u001b[0m\u001b[0;34m\u001b[0m\u001b[0m\n\u001b[0m\u001b[1;32m    417\u001b[0m     \u001b[0massert_is_type\u001b[0m\u001b[0;34m(\u001b[0m\u001b[0mpattern\u001b[0m\u001b[0;34m,\u001b[0m \u001b[0mstr\u001b[0m\u001b[0;34m,\u001b[0m \u001b[0;32mNone\u001b[0m\u001b[0;34m)\u001b[0m\u001b[0;34m\u001b[0m\u001b[0;34m\u001b[0m\u001b[0m\n\u001b[1;32m    418\u001b[0m     \u001b[0massert_is_type\u001b[0m\u001b[0;34m(\u001b[0m\u001b[0mdestination_frame\u001b[0m\u001b[0;34m,\u001b[0m \u001b[0mstr\u001b[0m\u001b[0;34m,\u001b[0m \u001b[0;32mNone\u001b[0m\u001b[0;34m)\u001b[0m\u001b[0;34m\u001b[0m\u001b[0;34m\u001b[0m\u001b[0m\n",
            "\u001b[0;32m/usr/local/lib/python3.6/dist-packages/h2o/utils/typechecks.py\u001b[0m in \u001b[0;36massert_is_type\u001b[0;34m(var, *types, **kwargs)\u001b[0m\n\u001b[1;32m    455\u001b[0m     \u001b[0mvtn\u001b[0m \u001b[0;34m=\u001b[0m \u001b[0m_get_type_name\u001b[0m\u001b[0;34m(\u001b[0m\u001b[0mtype\u001b[0m\u001b[0;34m(\u001b[0m\u001b[0mvar\u001b[0m\u001b[0;34m)\u001b[0m\u001b[0;34m)\u001b[0m\u001b[0;34m\u001b[0m\u001b[0;34m\u001b[0m\u001b[0m\n\u001b[1;32m    456\u001b[0m     raise H2OTypeError(var_name=vname, var_value=var, var_type_name=vtn, exp_type_name=etn, message=message,\n\u001b[0;32m--> 457\u001b[0;31m                        skip_frames=skip_frames)\n\u001b[0m\u001b[1;32m    458\u001b[0m \u001b[0;34m\u001b[0m\u001b[0m\n\u001b[1;32m    459\u001b[0m \u001b[0;34m\u001b[0m\u001b[0m\n",
            "\u001b[0;31mH2OTypeError\u001b[0m: Argument `path` should be a string | list(string), got DataFrame              ID_code  target    var_0   var_1    var_2    var_3    var_4  \\\n0            train_0       0   8.9255 -6.7863  11.9081   5.0930  11.4607   \n1            train_1       0  11.5006 -4.1473  13.8588   5.3890  12.3622   \n2            train_2       0   8.6093 -2.7457  12.0805   7.8928  10.5825   \n3            train_3       0  11.0604 -2.1518   8.9522   7.1957  12.5846   \n4            train_4       0   9.8369 -1.4834  12.8746   6.6375  12.2772   \n5            train_5       0  11.4763 -2.3182  12.6080   8.6264  10.9621   \n6            train_6       0  11.8091 -0.0832   9.3494   4.2916  11.1355   \n7            train_7       0  13.5580 -7.9881  13.8776   7.5985   8.6543   \n8            train_8       0  16.1071  2.4426  13.9307   5.6327   8.8014   \n9            train_9       0  12.5088  1.9743   8.8960   5.4508  13.6043   \n10          train_10       0   5.0702 -0.5447   9.5900   4.2987  12.3910   \n11          train_11       0  12.7188 -7.9750  10.3757   9.0101  12.8570   \n12          train_12       0   8.7671 -4.6154   9.7242   7.4242   9.0254   \n13          train_13       1  16.3699  1.5934  16.7395   7.3330  12.1450   \n14          train_14       0  13.8080  5.0514  17.2611   8.5120  12.8517   \n15          train_15       0   3.9416  2.6562  13.3633   6.8895  12.2806   \n16          train_16       0   5.0615  0.2689  15.1325   3.6587  13.5276   \n17          train_17       0   8.4199 -1.8128   8.1202   5.3955   9.7184   \n18          train_18       0   4.8750  1.2646  11.9190   8.4650  10.7203   \n19          train_19       0   4.4090 -0.7863  15.1828   8.0631  11.2831   \n20          train_20       0  12.6700 -2.0221   6.8930   6.9152   9.5677   \n21          train_21       0   8.3918  1.4806  12.9804   7.5538  11.1531   \n22          train_22       0  10.2031  0.1925  14.0238   7.0345  11.8514   \n23          train_23       0  15.0029 -9.3439  10.3790   8.3226  13.0204   \n24          train_24       0   5.9240 -3.7285  11.0995   4.6969  11.7363   \n25          train_25       0   8.2703 -5.6854  12.6862   7.2755  12.3713   \n26          train_26       0  15.6567 -4.4950  10.4867   3.8187   8.8813   \n27          train_27       0  10.7166 -9.9800  10.9569   6.7660  10.6803   \n28          train_28       0   7.8010  4.5262   8.9291   8.4884  12.8435   \n29          train_29       1   5.3301 -2.6064  13.1913   3.1193   6.6483   \n...              ...     ...      ...     ...      ...      ...      ...   \n199970  train_199970       0  15.5794 -2.5687   9.8811   4.2565  10.7471   \n199971  train_199971       0  14.5745 -3.9178  13.1673   9.2800  10.9593   \n199972  train_199972       0   7.4206 -2.5972  12.0215   8.7882  14.1996   \n199973  train_199973       0   8.7758 -0.4604   8.0874   6.4538  13.0035   \n199974  train_199974       0  16.2010 -5.7847  15.2685   6.5241  11.6020   \n199975  train_199975       0   7.5238  1.0548   9.6265   4.8688   7.1841   \n199976  train_199976       1   7.9663 -2.8485   9.0919   7.3298   9.6690   \n199977  train_199977       0   7.3884 -0.8093   8.9274   7.7227  14.3232   \n199978  train_199978       0  12.2015 -0.8787  16.8069   9.1073  10.3219   \n199979  train_199979       0  10.8208 -2.9344  15.0906   9.7810   9.4014   \n199980  train_199980       0   7.9618  6.2271  13.3326   7.5345  12.5645   \n199981  train_199981       1  12.8140  0.6386  14.1657   7.1044   8.9365   \n199982  train_199982       0  11.8224 -2.3596   9.5937  10.5608  11.1665   \n199983  train_199983       0  15.3063  2.8260  11.4074   4.7992  11.4529   \n199984  train_199984       0  11.3184  0.3745   4.5578   5.8872  10.3655   \n199985  train_199985       0   9.0249 -3.6379  12.3907   5.1915  12.1701   \n199986  train_199986       1  12.0298 -8.7800   7.7071   7.4015   9.2305   \n199987  train_199987       0   8.0438 -1.9184  13.1498   9.2027   8.9886   \n199988  train_199988       0  10.8657 -8.3545   6.1736   7.6057   9.5523   \n199989  train_199989       0  11.7554 -4.5356   9.2269   7.7733  10.6232   \n199990  train_199990       1  14.1475  1.8568  11.0066   3.6779  12.1944   \n199991  train_199991       0   9.9909  2.5523  11.9653   6.3958  13.5497   \n199992  train_199992       0  12.2825  2.6918  15.4684   6.4262  10.9863   \n199993  train_199993       0  13.2152 -5.8006   9.7260   6.5910  12.4612   \n199994  train_199994       0  12.3925 -5.8821  11.2323   3.9237  10.4509   \n199995  train_199995       0  11.4880 -0.4956   8.2622   3.5142  10.3404   \n199996  train_199996       0   4.9149 -2.4484  16.7052   6.6345   8.3096   \n199997  train_199997       0  11.2232 -5.0518  10.5127   5.6456   9.3410   \n199998  train_199998       0   9.7148 -8.6098  13.6104   5.7930  12.5173   \n199999  train_199999       0  10.8762 -5.7105  12.1183   8.0328  11.5577   \n\n          var_5   var_6    var_7   ...     var_190  var_191  var_192  var_193  \\\n0       -9.2834  5.1187  18.6266   ...      4.4354   3.9642   3.1364   1.6910   \n1        7.0433  5.6208  16.5338   ...      7.6421   7.7214   2.5837  10.9516   \n2       -9.0837  6.9427  14.6155   ...      2.9057   9.7905   1.6704   1.6858   \n3       -1.8361  5.8428  14.9250   ...      4.4666   4.7433   0.7178   1.4214   \n4        2.4486  5.9405  19.2514   ...     -1.4905   9.5214  -0.1508   9.1942   \n5        3.5609  4.5322  15.2255   ...     -6.3068   6.6025   5.2912   0.4403   \n6       -8.0198  6.1961  12.0771   ...      8.7830   6.4521   3.5325   0.1777   \n7        0.8310  5.6890  22.3262   ...     13.1700   6.5491   3.9906   5.8061   \n8        6.1630  4.4514  10.1854   ...      1.4298  14.7510   1.6395   1.4181   \n9      -16.2859  6.0637  16.8410   ...      0.5543   6.3160   1.0371   3.6885   \n10     -18.8687  6.0382  14.3797   ...      7.2780   8.0819   0.2139  -0.0761   \n11     -12.0852  5.6464  11.8370   ...     -0.8901   2.6559  -0.0503   5.5946   \n12       1.4247  6.2815  12.3143   ...      0.3782   7.4382   0.0854   1.3444   \n13       5.9004  4.8222  20.9729   ...      7.4002   7.4031   4.3989   4.0978   \n14      -9.1622  5.7327  21.0517   ...      1.0740   8.3220   3.2619   1.6738   \n15     -16.1620  5.6979  14.4573   ...     -3.4195   0.8829  -1.9859   3.9905   \n16      -6.5477  5.2757   9.8710   ...      0.2717   7.2854   0.5670   8.1822   \n17     -17.8390  4.0959  15.2860   ...      7.4363  11.3072   3.7903   0.0290   \n18      -0.6707  5.6103  16.4661   ...      9.1843   2.6812   1.8587   4.6929   \n19      -0.7356  6.3801  16.0218   ...      5.9745   6.3267   2.5156   8.9878   \n20     -11.2672  5.6061  16.2354   ...      0.9841   5.7383  -0.1349   2.7194   \n21     -14.7776  5.9987  15.5148   ...     -0.0412   5.5717   0.7519   5.7839   \n22      13.8830  6.4040  18.0058   ...      1.7022   5.4938  -0.3317   3.3474   \n23      -5.0744  5.2489  11.6845   ...      2.9210   4.3916   5.2208   1.3458   \n24     -20.4102  5.8125  15.9027   ...     -1.3390   8.4943   0.7899   4.3212   \n25      -7.7521  6.7252  18.4270   ...     11.3979   5.9191   0.6406   5.0184   \n26      -6.0295  5.5224  17.6964   ...      5.3764  11.9099   0.7651   6.9705   \n27     -12.9329  4.5012  17.3841   ...      3.4066   8.8651   1.5951   3.0979   \n28      -1.2632  5.0383  13.6339   ...      6.7745   3.0204   0.5552   9.3177   \n29      -6.5659  5.9064  15.2341   ...      5.9215   7.9676   2.3405   1.1482   \n...         ...     ...      ...   ...         ...      ...      ...      ...   \n199970  -2.9749  6.2631  19.6539   ...      5.0701   6.9854   0.9988   1.8417   \n199971   7.7317  5.1604  14.8811   ...      4.7217  15.4709   1.5756   7.7483   \n199972   0.0649  4.7421  19.9268   ...      9.8913   1.2980   0.4834   2.1748   \n199973   0.1872  4.3495  20.0410   ...      4.5471   6.8276   2.5206   9.2046   \n199974  -7.3137  5.7833  18.4535   ...      7.9528   6.3734  -1.3797   9.2147   \n199975 -16.4001  5.3361  13.1120   ...      5.0394   7.5667   3.0855   4.3705   \n199976 -16.7872  4.5094  12.4351   ...     10.7930   4.3876   3.7257   7.7038   \n199977 -11.3203  5.2290  12.0626   ...      3.1050   6.9899   3.5207   0.4404   \n199978   7.0208  6.2587  19.8344   ...     -0.8481   5.5487   2.0673  -5.6931   \n199979  -4.5704  5.3201  16.0858   ...      5.4512  10.1153   0.1237   3.1777   \n199980   1.1205  5.4488  22.1532   ...      4.7823   7.6274   4.7426   4.6682   \n199981  -0.3274  6.5949  14.6078   ...      4.8208   4.9010   2.2513   0.7308   \n199982  -0.7569  4.8932  19.6128   ...      4.0745   3.9657   4.9356   9.2622   \n199983   5.3734  4.5088  15.3278   ...      2.0609   7.8403   4.7942  -3.9589   \n199984   0.7182  5.4431  17.4472   ...      7.2087   6.1096   1.4309   5.4578   \n199985  -8.8978  5.2574  17.9830   ...      7.8321   5.3869   1.4127   9.5404   \n199986 -16.2174  5.9064  17.9268   ...     16.7461   3.1249  -0.3943   8.4059   \n199987   2.7531  4.2194  18.1138   ...      7.1818  10.8590   3.5770   1.2627   \n199988 -15.7626  5.8723  18.9903   ...      5.2774   2.0345  -0.7115   5.1470   \n199989  -2.2480  5.4759  12.4436   ...      9.8766  11.9709   4.0712   6.7856   \n199990 -16.5936  5.3217  14.8508   ...     -6.4708   4.7287   1.9034   7.2324   \n199991  -9.5293  6.0864  14.1789   ...     12.0737   5.2139   0.8094  -0.6585   \n199992   9.9659  4.5030   9.9232   ...      3.9514  10.9040   1.3472   5.6184   \n199993  -7.1652  6.0666  12.9887   ...      3.9357   8.8442   1.8096  -4.8314   \n199994  10.7262  7.0503  18.6968   ...      1.3911   6.8687   3.7788   6.3378   \n199995  11.6081  5.6709  15.1516   ...      6.1415  13.2305   3.9901   0.9388   \n199996 -10.5628  5.8802  21.5940   ...      4.9611   4.6549   0.6998   1.8341   \n199997  -5.4086  4.5555  21.5571   ...      4.0651   5.4414   3.1032   4.8793   \n199998   0.5339  6.0479  17.0152   ...      2.6840   8.6587   2.7337  11.1178   \n199999   0.3488  5.2839  15.2058   ...      8.9842   1.6893   0.1276   0.3766   \n\n        var_194  var_195  var_196  var_197  var_198  var_199  \n0       18.5227  -2.3978   7.8784   8.5635  12.7803  -1.0914  \n1       15.4305   2.0339   8.1267   8.7889  18.3560   1.9518  \n2       21.6042   3.1417  -6.5213   8.2675  14.7222   0.3965  \n3       23.0347  -1.2706  -2.9275  10.2922  17.9697  -8.9996  \n4       13.2876  -1.5121   3.9267   9.5031  17.9974  -8.8104  \n5       14.9452   1.0314  -3.6241   9.7670  12.5809  -4.7602  \n6       18.3314   0.5845   9.1104   9.1143  10.8869  -3.2097  \n7       23.1407  -0.3776   4.2178   9.4237   8.6624   3.4806  \n8       14.8370  -1.9940  -1.0733   8.1975  19.5114   4.8453  \n9       14.8344   0.4467  14.1287   7.9133  16.2375  14.2514  \n10      14.9585  -1.2160   6.6576   9.2553  14.2914  -7.6652  \n11      13.6152   2.4058  -1.7183   9.6745  16.7498  -3.9728  \n12      17.2439  -0.0798   5.7389   8.4897  17.0938   4.6106  \n13      17.3638  -1.3022   9.6846   9.0419  15.6064 -10.8529  \n14      17.4797  -0.0257  -3.5323   9.3439  24.4479  -5.1110  \n15      22.4647   0.5129   6.5273   8.2899  12.9116  -4.9182  \n16      19.5616   0.4365  -3.4975   8.6367  20.2548  11.1524  \n17      16.2954   0.1470   8.9603   9.4560  19.4505  -5.2407  \n18      16.0916  -1.5336  -4.0958   8.5873  17.1516 -22.1940  \n19      16.0550  -2.1962   8.3985   9.1711  14.7352   3.9133  \n20      13.8326   0.5365   9.1935   8.2176  22.4754 -19.9444  \n21      23.1155  -1.2740   2.0738   7.7761  17.4662  11.3979  \n22      11.2204   0.9371  -7.5486   9.5064   8.7281 -25.6523  \n23      18.2940   2.3865  -3.7144   9.4714  12.8480 -10.0357  \n24      17.2716  -0.9999  10.0978  10.2561  14.3032   2.0897  \n25      21.3216  -2.9616   5.7994   9.5360  17.8582  -3.3911  \n26      24.1729  -1.8420   3.4319   7.8821  19.3055  -7.5090  \n27      15.7978   2.6332   9.0833   7.9933  20.2128  -1.7144  \n28      21.0586   0.7162  -3.3638   9.8715  14.0120  -4.5997  \n29      23.2168  -2.0105   3.7600   9.4513  17.4105 -14.6897  \n...         ...      ...      ...      ...      ...      ...  \n199970  13.6253  -1.5671  -3.5311   7.8741  18.4707  -6.4407  \n199971  20.1395  -1.5362   5.1977   7.1448  16.4238  15.5478  \n199972  14.5960   0.8608   3.3343   7.6474  17.9137  -8.8790  \n199973  19.5153  -1.2611   7.6877   8.2211  16.1504  22.6103  \n199974  14.3958   0.0120   8.3628   9.8244  17.6050   3.5219  \n199975  20.4957   0.5891   8.7685   7.3537  20.0787 -15.7676  \n199976  14.7384   0.1561   1.5794   8.4627  14.3604  -1.6688  \n199977  19.5091  -0.8368   2.4603   9.0411  15.8939   1.6908  \n199978  16.5850  -1.9920   3.1963   7.5484  13.1150   6.7866  \n199979  20.9673  -1.5221   6.5048   9.5072  17.3854  -4.0844  \n199980  21.1164   1.1648   1.6012   8.2107  14.5403  -8.7837  \n199981  14.7155   1.1464   5.5158   8.6519  16.0341   7.3809  \n199982  20.6368   1.1022  -1.7418   8.2403  15.0018 -11.7721  \n199983  12.6339   0.6451   3.5126   9.7643  16.9017   6.8054  \n199984  17.4881   0.0463  14.1548  10.1784  17.1267 -16.5440  \n199985  12.3053   2.5935   8.0172   8.1901  18.5124 -15.6321  \n199986  14.3367   3.0991   4.3853   8.8019  15.0031  -0.3659  \n199987  16.9983  -1.5922  -3.5687   8.1765  19.5095 -13.3091  \n199988  15.2491   1.1175   0.3023   8.1970  14.7355   7.4554  \n199989  16.8740  -3.4111   8.6476   6.8686  19.5728  10.0835  \n199990  20.6047   1.7170  -4.0032   9.1627  13.8077  -1.9646  \n199991  17.0548   0.5328  -5.3444   8.5414  13.2895  -6.7896  \n199992  20.5498  -0.2854   7.6252  10.1758  17.4066 -11.5244  \n199993  22.0050   0.3916   6.7302   8.9709  14.5405   6.1149  \n199994  14.4656  -1.4843  -3.9299   9.1164  16.3170  -7.5048  \n199995  18.0249  -1.7939   2.1661   8.5326  16.6660 -17.8661  \n199996  22.2717   1.7337  -2.1651   6.7419  15.9054   0.3388  \n199997  23.5311  -1.5736   1.2832   8.7155  13.8329   4.1995  \n199998  20.4158  -0.0786   6.7980  10.0342  15.5289 -13.9001  \n199999  15.2101  -2.4907  -2.2342   8.1857  12.1284   0.1385  \n\n[200000 rows x 202 columns]"
          ]
        }
      ]
    },
    {
      "metadata": {
        "id": "jBcGKBgrvPty",
        "colab_type": "code",
        "colab": {
          "base_uri": "https://localhost:8080/",
          "height": 3635
        },
        "outputId": "a1b115f0-7564-4e58-add6-75d5c4bb3ffc"
      },
      "cell_type": "code",
      "source": [
        "test = h2o.import_file(test)"
      ],
      "execution_count": 31,
      "outputs": [
        {
          "output_type": "error",
          "ename": "H2OTypeError",
          "evalue": "ignored",
          "traceback": [
            "\u001b[0;31m---------------------------------------------------------------------------\u001b[0m",
            "\u001b[0;31mH2OTypeError\u001b[0m                              Traceback (most recent call last)",
            "\u001b[0;32m<ipython-input-31-5a241ee2e5bb>\u001b[0m in \u001b[0;36m<module>\u001b[0;34m()\u001b[0m\n\u001b[0;32m----> 1\u001b[0;31m \u001b[0mtest\u001b[0m \u001b[0;34m=\u001b[0m \u001b[0mh2o\u001b[0m\u001b[0;34m.\u001b[0m\u001b[0mimport_file\u001b[0m\u001b[0;34m(\u001b[0m\u001b[0mtest\u001b[0m\u001b[0;34m)\u001b[0m\u001b[0;34m\u001b[0m\u001b[0;34m\u001b[0m\u001b[0m\n\u001b[0m",
            "\u001b[0;32m/usr/local/lib/python3.6/dist-packages/h2o/h2o.py\u001b[0m in \u001b[0;36mimport_file\u001b[0;34m(path, destination_frame, parse, header, sep, col_names, col_types, na_strings, pattern, skipped_columns)\u001b[0m\n\u001b[1;32m    414\u001b[0m                 \"categorical\", \"factor\", \"enum\", \"time\")\n\u001b[1;32m    415\u001b[0m     \u001b[0mnatype\u001b[0m \u001b[0;34m=\u001b[0m \u001b[0mU\u001b[0m\u001b[0;34m(\u001b[0m\u001b[0mstr\u001b[0m\u001b[0;34m,\u001b[0m \u001b[0;34m[\u001b[0m\u001b[0mstr\u001b[0m\u001b[0;34m]\u001b[0m\u001b[0;34m)\u001b[0m\u001b[0;34m\u001b[0m\u001b[0;34m\u001b[0m\u001b[0m\n\u001b[0;32m--> 416\u001b[0;31m     \u001b[0massert_is_type\u001b[0m\u001b[0;34m(\u001b[0m\u001b[0mpath\u001b[0m\u001b[0;34m,\u001b[0m \u001b[0mstr\u001b[0m\u001b[0;34m,\u001b[0m \u001b[0;34m[\u001b[0m\u001b[0mstr\u001b[0m\u001b[0;34m]\u001b[0m\u001b[0;34m)\u001b[0m\u001b[0;34m\u001b[0m\u001b[0;34m\u001b[0m\u001b[0m\n\u001b[0m\u001b[1;32m    417\u001b[0m     \u001b[0massert_is_type\u001b[0m\u001b[0;34m(\u001b[0m\u001b[0mpattern\u001b[0m\u001b[0;34m,\u001b[0m \u001b[0mstr\u001b[0m\u001b[0;34m,\u001b[0m \u001b[0;32mNone\u001b[0m\u001b[0;34m)\u001b[0m\u001b[0;34m\u001b[0m\u001b[0;34m\u001b[0m\u001b[0m\n\u001b[1;32m    418\u001b[0m     \u001b[0massert_is_type\u001b[0m\u001b[0;34m(\u001b[0m\u001b[0mdestination_frame\u001b[0m\u001b[0;34m,\u001b[0m \u001b[0mstr\u001b[0m\u001b[0;34m,\u001b[0m \u001b[0;32mNone\u001b[0m\u001b[0;34m)\u001b[0m\u001b[0;34m\u001b[0m\u001b[0;34m\u001b[0m\u001b[0m\n",
            "\u001b[0;32m/usr/local/lib/python3.6/dist-packages/h2o/utils/typechecks.py\u001b[0m in \u001b[0;36massert_is_type\u001b[0;34m(var, *types, **kwargs)\u001b[0m\n\u001b[1;32m    455\u001b[0m     \u001b[0mvtn\u001b[0m \u001b[0;34m=\u001b[0m \u001b[0m_get_type_name\u001b[0m\u001b[0;34m(\u001b[0m\u001b[0mtype\u001b[0m\u001b[0;34m(\u001b[0m\u001b[0mvar\u001b[0m\u001b[0;34m)\u001b[0m\u001b[0;34m)\u001b[0m\u001b[0;34m\u001b[0m\u001b[0;34m\u001b[0m\u001b[0m\n\u001b[1;32m    456\u001b[0m     raise H2OTypeError(var_name=vname, var_value=var, var_type_name=vtn, exp_type_name=etn, message=message,\n\u001b[0;32m--> 457\u001b[0;31m                        skip_frames=skip_frames)\n\u001b[0m\u001b[1;32m    458\u001b[0m \u001b[0;34m\u001b[0m\u001b[0m\n\u001b[1;32m    459\u001b[0m \u001b[0;34m\u001b[0m\u001b[0m\n",
            "\u001b[0;31mH2OTypeError\u001b[0m: Argument `path` should be a string | list(string), got DataFrame             ID_code    var_0    var_1    var_2    var_3    var_4    var_5  \\\n0            test_0  11.0656   7.7798  12.9536   9.4292  11.4327  -2.3805   \n1            test_1   8.5304   1.2543  11.3047   5.1858   9.1974  -4.0117   \n2            test_2   5.4827 -10.3581  10.1407   7.0479  10.2628   9.8052   \n3            test_3   8.5374  -1.3222  12.0220   6.5749   8.8458   3.1744   \n4            test_4  11.7058  -0.1327  14.1295   7.7506   9.1035  -8.5848   \n5            test_5   5.9862  -2.2913   8.6058   7.0685  14.2465  -8.6761   \n6            test_6   8.4624  -6.1065   7.3603   8.2627  12.0104  -7.2073   \n7            test_7  17.3035  -2.4212  13.3989   8.3998  11.0777   9.6449   \n8            test_8   6.9856   0.8402  13.7161   4.7749   8.6784 -13.7607   \n9            test_9  10.3811  -6.9348  14.6690   9.0941  11.9058 -10.8018   \n10          test_10   8.3431  -4.1427   9.1985   9.8229  11.2494   2.9678   \n11          test_11  10.6137  -2.1898   8.9090   3.8014  13.8602  -5.9802   \n12          test_12  12.7465  -4.9467  15.5490   6.4580  13.7572 -25.5371   \n13          test_13  11.7836   1.9979  10.3347   7.8857  13.1020   5.0167   \n14          test_14   7.0360   1.6797   9.3865   3.2605  10.7569  -8.0802   \n15          test_15  14.8595  -4.5378  13.6483   5.6480   9.9144   1.5190   \n16          test_16  14.1732  -5.1490   9.7591   3.7316  10.3700 -21.9202   \n17          test_17   9.0936  -8.7414  17.1160   6.0126   9.2144  -3.6761   \n18          test_18  15.7875   0.1671  10.7782   3.8521   9.1190  11.0196   \n19          test_19  13.3874   1.0716   8.8767   7.8374  11.6404   6.2512   \n20          test_20   8.0259  -4.6740   8.6431   2.2198  11.4555 -14.0227   \n21          test_21  14.3356   0.2317   9.5604   5.7603  10.3184  -6.4721   \n22          test_22  10.4255  -6.1758  12.4846   7.9845   9.7032 -14.5969   \n23          test_23  12.3322  -6.3835   7.2471   5.0403  10.0875  -1.5252   \n24          test_24  14.1844  -9.1044   9.7453   9.2638   9.3302   2.6818   \n25          test_25  10.0029   0.2530   7.5335   6.9343  11.6866  -6.5147   \n26          test_26   6.9056  -4.8626  11.8932   5.3693  11.2551 -18.9716   \n27          test_27   8.7562  -3.0647  11.7990   9.2162  10.9847 -22.4902   \n28          test_28   9.7243  -1.5151  11.5582   5.7360  12.1907   6.9664   \n29          test_29  13.2430   1.2738  10.4245   3.1863  11.4951  -1.4755   \n...             ...      ...      ...      ...      ...      ...      ...   \n199970  test_199970  12.7260  -1.6706  12.3598   9.1114  10.1868  -9.5857   \n199971  test_199971   9.4700  -6.7655  12.6591   9.1842  11.8260   0.0264   \n199972  test_199972  13.3243   1.0870   8.4555   3.6929  11.2423   1.3986   \n199973  test_199973  14.2830  -1.8421  11.3664   8.5772   8.8645 -13.8986   \n199974  test_199974   4.5171  -5.2068   7.6007   8.1426  10.4433 -17.2322   \n199975  test_199975  13.4796   2.7000  10.9653   9.1581  13.2959  -3.0995   \n199976  test_199976  12.6337  -6.9793   9.8703   9.9180  10.8092   2.5809   \n199977  test_199977  10.8078  -4.6108   9.0021   9.8910  12.4514  -3.7566   \n199978  test_199978   9.9317  -2.2815  11.1707   5.6826  12.7396  -4.0659   \n199979  test_199979  10.5933  -1.2672  13.6817   6.3789  12.8649  -5.4964   \n199980  test_199980  13.4136   5.3912   9.6202   8.5025  12.0951  11.3431   \n199981  test_199981   7.9218  -5.7464  11.4171   6.7972  11.6260  -8.7730   \n199982  test_199982   7.2189   1.6606  10.4651   4.4382  10.5562  -5.2083   \n199983  test_199983  11.8527   5.4321  12.7268  10.2392  12.4740 -14.6939   \n199984  test_199984  12.7445  -6.1135   9.9046   7.5790  14.8852   4.5083   \n199985  test_199985  14.8983   2.1302   7.4747   7.1744  11.8252  13.1758   \n199986  test_199986  19.2884  -2.8384  11.9149   6.6611  12.3112  12.9244   \n199987  test_199987  11.2942   3.6321  15.3300   6.6904  10.9223  -5.6537   \n199988  test_199988   6.4535  -2.1707  10.7623   8.1571   7.9365   4.6091   \n199989  test_199989   9.0436  -3.0491  10.8737   7.8789  11.0275 -10.1812   \n199990  test_199990   5.5416   1.7340   9.6938   5.0126  11.3049 -15.9906   \n199991  test_199991   8.7935  -4.0646   9.9480   8.6947  11.0497  -0.5129   \n199992  test_199992  16.4229  -5.0254  13.1385   5.4599  13.1347  -2.6212   \n199993  test_199993  14.6764  -8.1066   7.1167   2.4138  10.3845 -11.9327   \n199994  test_199994   8.2964  -2.3119  11.2139   9.1357   8.5339   4.0350   \n199995  test_199995  13.1678   1.0136  10.4333   6.7997   8.5974  -4.1641   \n199996  test_199996   9.7171  -9.1462   7.3443   9.1421  12.8936   3.0191   \n199997  test_199997  11.6360   2.2769  11.2074   7.7649  12.6796  11.3224   \n199998  test_199998  13.5745  -0.5134  13.6584   7.4855  11.2241 -11.3037   \n199999  test_199999  10.4664   1.8070  10.2277   6.0654  10.0258   1.0789   \n\n         var_6    var_7   var_8   ...     var_190  var_191  var_192  var_193  \\\n0       5.8493  18.2675  2.1337   ...     -2.1556  11.8495  -1.4300   2.4508   \n1       6.0196  18.6316 -4.4131   ...     10.6165   8.8349   0.9403  10.1282   \n2       4.8950  20.2537  1.5233   ...     -0.7484  10.9935   1.9803   2.1800   \n3       4.9397  20.5660  3.3755   ...      9.5702   9.0766   1.6580   3.5813   \n4       6.8595  10.6048  2.9890   ...      4.2259   9.1723   1.2835   3.3778   \n5       4.2467  14.7632  1.8790   ...     -2.1115   7.1178  -0.4249   8.8781   \n6       4.1670  13.0809 -4.3004   ...     12.3609   6.8661   4.0971   8.8484   \n7       5.9596  17.8477 -4.8068   ...      4.4676   4.4214   0.9303   1.4994   \n8       4.3386  14.5843  2.5883   ...     -3.4657   7.8754   2.4698  -0.0362   \n9       3.4508  20.2816 -1.4112   ...      1.8052  11.0723   0.8907   4.7680   \n10      5.5184  15.6290  2.8032   ...      1.9040   6.7916   0.5810  -2.1353   \n11      5.5515  15.4716 -0.1714   ...     13.1683   4.0625  -0.1537   7.9787   \n12      4.4893  15.1682  3.1754   ...      7.8803   4.3879   1.9888  -0.6670   \n13      4.9548  23.6527  3.5911   ...      2.9624   7.3561   3.2395   3.9152   \n14      4.7885  15.0583  0.6459   ...     -0.7003   3.0835   2.7034   0.9803   \n15      5.0358  13.4524 -2.5419   ...      2.6735   5.8526   4.8517   2.5020   \n16      7.7130  18.8749  0.4680   ...      0.8640   5.9058   1.3140   4.8961   \n17      4.6477  20.1053  1.7687   ...      6.6018   7.7219   0.4559   2.7977   \n18      6.1113  18.4368 -1.0728   ...      6.7408  13.1753   0.2111   6.6279   \n19      4.8837  18.2178  4.3871   ...     -2.2262  11.8869   1.6137   4.7306   \n20      6.9192  17.8559  0.4283   ...     -0.6869   3.9088  -0.2736   5.4434   \n21      4.6898  13.7783  1.8342   ...     10.5084   6.8724   1.5538   4.6148   \n22      4.4173  19.3606 -0.5899   ...      7.7860   4.7884   5.0819  -5.1081   \n23      5.8230  17.9494 -3.8454   ...      2.2038  11.1389   1.4025  -0.4134   \n24      5.4711  18.5414  2.2065   ...      4.9466   9.4174   0.7743   4.5556   \n25      6.7327  19.8941 -6.6497   ...     -2.1072   5.1404   1.2851   2.2366   \n26      5.5991  18.9809  5.5612   ...     -0.7638   6.7125   0.3169   6.0765   \n27      4.2991  13.9800  3.3233   ...     -0.7497   4.7817   1.3885  -1.3448   \n28      4.4125  17.4770 -3.9683   ...      6.4360  11.2645   3.1891  -0.0828   \n29      5.1005  17.1687  1.7115   ...     -2.3786   7.8381   0.9822   2.2038   \n...        ...      ...     ...   ...         ...      ...      ...      ...   \n199970  5.3494  23.6362  2.0626   ...     10.6793   9.5029  -0.1536   1.9221   \n199971  5.0633  20.7034  2.4171   ...      4.4258  11.5775   1.4309   8.0710   \n199972  4.4765  19.1021 -2.6573   ...     -0.3722   9.2868   3.1847   8.8422   \n199973  4.1603  19.4591  5.6445   ...      5.5744   9.2002   3.3686   6.2250   \n199974  4.4205  20.3407 -1.0196   ...     -0.3355   3.4422   3.0645   1.2469   \n199975  5.1483  20.9766  1.2932   ...      4.0747   4.1240   2.5431   6.2910   \n199976  6.7764  18.3443  4.1498   ...      2.7140  11.0722   1.2368   0.6363   \n199977  4.2958  19.9677  0.8806   ...      0.5085   3.9763  -0.6260  -0.8544   \n199978  6.2569  12.7697 -2.1645   ...     -3.8076   3.5345   1.4136   7.5265   \n199979  6.4800  13.5986  4.0315   ...      6.0298   6.5479   1.1899   2.2901   \n199980  5.8323  12.1429 -3.1511   ...     -2.8294   3.1563   3.5659   8.0195   \n199981  5.4601  12.1401  5.1918   ...     11.7834   8.5276   1.8640   3.0752   \n199982  4.7197  10.7883 -8.1002   ...      8.9002   3.4636   1.7597   0.9145   \n199983  6.6544  14.1274 -0.4182   ...      2.6351   4.4724   1.9564   5.5905   \n199984  6.3353  21.5936 -4.0102   ...      0.6067   9.9345   3.0712  -4.1932   \n199985  5.1614  13.7914 -4.8184   ...     -1.0659   4.2747   1.3472   7.6731   \n199986  5.6492  16.0449  5.3597   ...     -3.0704   3.9924   2.8872   3.3142   \n199987  6.0221  11.7757 -0.5163   ...     -0.1123   8.1185   1.3789   9.1349   \n199988  4.9564  11.4483  2.8938   ...      3.8250   8.3243   1.0464  -0.0645   \n199989  6.1978  16.4603  4.4421   ...      4.6640   5.6620   1.0286   7.5683   \n199990  5.0937  17.7960 -3.1050   ...      1.1663   5.4021   1.4266   0.7912   \n199991  5.6410  21.5338  5.6578   ...     -4.7798   7.4542   4.8159   8.6821   \n199992  4.7829  14.7163  0.0779   ...      5.1330   4.3740   0.2961  11.8655   \n199993  4.7563  16.0455  0.4510   ...      5.0961   7.7472   2.8127   6.6012   \n199994  5.7000  11.0102  4.9089   ...      9.8487  10.0753  -0.4822   7.7094   \n199995  4.8579  14.7625 -2.7239   ...      2.0544   9.6849   4.6734  -1.3660   \n199996  5.6888  18.8862  5.0915   ...      5.0071   6.6548   1.8197   2.4104   \n199997  5.3883  18.3794  1.6603   ...      5.1536   2.6498   2.4937  -0.0637   \n199998  4.1959  16.8280  5.3208   ...      3.4259   8.5012   2.2713   5.7621   \n199999  4.8879  14.4892 -0.5902   ...      0.1398   9.2828   1.3601   4.8985   \n\n        var_194  var_195  var_196  var_197  var_198  var_199  \n0       13.7112   2.4669   4.3654  10.7200  15.4722  -8.7197  \n1       15.5765   0.4773  -1.4852   9.8714  19.1293 -20.9760  \n2       12.9813   2.1281  -7.1086   7.0618  19.8956 -23.1794  \n3       15.1874   3.1656   3.9567   9.2295  13.0168  -4.2108  \n4       19.5542  -0.2860  -5.1612   7.2882  13.9260  -9.1846  \n5       14.9438  -2.2151  -6.0233   9.8117  17.1127  10.8240  \n6       17.5010   0.0295   7.7443   9.1509  18.4736   5.1499  \n7       15.2648  -1.7931   6.5316  10.4855  23.4631   0.7283  \n8       16.7144   0.1221  -1.4328   9.9207  16.9865  -3.3304  \n9       15.1425   0.6075  -4.4447   9.5788  15.8146   9.3457  \n10      23.2482   0.8738   4.6857  10.1361  12.1140  -2.4978  \n11      18.4518   0.1000  -7.8212   9.2355  15.0721  -7.3475  \n12      17.6003  -0.7705   6.5424   8.9599  16.9317 -14.0779  \n13      16.6549   0.4106  -2.1647  10.0379  20.5904   6.0166  \n14      18.8216  -0.8522  10.3456   8.2077  17.6097  -0.9141  \n15      22.8224  -0.9325   8.6849  10.2848  17.4932   6.0800  \n16      20.1087   1.1051   7.7184   9.3406  21.1746  -2.0098  \n17      21.4898  -0.2385   8.1878   9.3114  23.0545  -2.3171  \n18      19.2890  -0.0982   7.5500   9.3848  14.4007  11.2567  \n19      15.0826  -0.2445   2.1377   8.1116  20.5129   5.4945  \n20      19.9933  -0.6241  11.7708   7.8690  18.1980  -3.7655  \n21      13.1176   0.0117   9.3434  10.7644  18.0992  -7.6905  \n22      16.3797  -0.1113   4.3362   9.0132  16.9635   3.2523  \n23      16.9806   0.1357  13.9872   8.2489  22.4405  -5.4524  \n24      17.7824  -0.2536   7.3867   7.9695  12.6078   7.3475  \n25      23.5212   1.3798   7.6392   6.9239  18.6460 -17.7609  \n26      17.6562   2.1001  -1.5770   8.0712  16.6316   7.8962  \n27      23.1983  -1.5301   3.9577   8.7277  16.8255 -18.6596  \n28      18.2102   1.2457   1.9391   8.6899  14.5739  16.2884  \n29      20.3427   1.1092  15.0418   8.4667  15.1478   6.2962  \n...         ...      ...      ...      ...      ...      ...  \n199970  11.4131   0.6650  -5.2401   9.1059  19.3888  -7.6292  \n199971  15.0869  -0.9276  -0.5783   8.2742  18.2273  -1.0124  \n199972  15.4298  -1.3178  -9.4033   9.7116  15.5697  -0.7362  \n199973  21.0475  -2.0668   0.7093   7.8924  16.0279   7.8535  \n199974  14.8673  -0.4562  13.9675   8.0088  14.3127  -1.2940  \n199975  14.6021  -3.0392   4.8943   8.7922  19.6428 -24.7859  \n199976  17.7793   1.1790  -2.0814  10.6610  11.5385 -23.6067  \n199977  21.5958   0.3250   7.5404  10.0748  16.0592 -14.0012  \n199978  20.9985   1.7101   7.9362   7.7696  10.9202 -23.5055  \n199979  17.0941  -0.1193  13.9055   8.3203  13.0791  -5.1262  \n199980  16.4657   1.9204   7.3301   9.7953  16.9352   0.2655  \n199981  11.1675  -0.5150  -0.5399   8.1402  19.2653 -30.3989  \n199982  15.3558   1.3406   4.2422   8.3144  19.3602  -3.0895  \n199983  13.4550  -1.7590   3.6424   9.2620  14.0587   5.5770  \n199984  15.1205  -1.0041  -3.9171   9.1933  13.7584   4.3670  \n199985  19.6489   0.0318   8.7171   8.9479  12.8983   8.3530  \n199986  22.5225   0.9812   0.1020   8.3441  14.5823   0.7454  \n199987  16.4063  -0.6592  -0.6248   7.9463  14.1967   9.8560  \n199988  18.6666   0.6250  -4.3485   9.4572  13.1265  -6.5024  \n199989  14.6333  -1.2757  -0.3525   8.1526   9.0933   0.8644  \n199990  20.6181   0.5917  11.6931   9.6883  12.6723 -16.4310  \n199991  22.1764   0.0088  -1.2475   8.6422  13.7302 -21.5712  \n199992  16.2761   0.0447  -6.0102  10.3218   8.2577   5.2651  \n199993  15.3706  -0.4293   6.8485  10.4270  17.4970 -13.0074  \n199994  21.5594  -1.2662   4.1468   7.6434  13.0871  -4.3982  \n199995  12.8721   1.2013  -4.6195   9.1568  18.2102   4.8801  \n199996  18.9037  -0.9337   2.9995   9.1112  18.1740 -20.7689  \n199997  20.0609  -1.1742  -4.1524   9.1933  11.7905 -22.2762  \n199998  17.0056   1.1763  -2.3761   8.1079   8.7735  -0.2122  \n199999  20.0926  -1.3048  -2.5981  10.3378  14.3340  -7.7094  \n\n[200000 rows x 201 columns]"
          ]
        }
      ]
    },
    {
      "metadata": {
        "id": "x1pNMj_NvVCX",
        "colab_type": "code",
        "colab": {
          "base_uri": "https://localhost:8080/",
          "height": 258
        },
        "outputId": "d5e9288f-40d6-4c7f-86bf-b3f57c4ac178"
      },
      "cell_type": "code",
      "source": [
        "train.head()"
      ],
      "execution_count": 20,
      "outputs": [
        {
          "output_type": "execute_result",
          "data": {
            "text/html": [
              "<div>\n",
              "<style scoped>\n",
              "    .dataframe tbody tr th:only-of-type {\n",
              "        vertical-align: middle;\n",
              "    }\n",
              "\n",
              "    .dataframe tbody tr th {\n",
              "        vertical-align: top;\n",
              "    }\n",
              "\n",
              "    .dataframe thead th {\n",
              "        text-align: right;\n",
              "    }\n",
              "</style>\n",
              "<table border=\"1\" class=\"dataframe\">\n",
              "  <thead>\n",
              "    <tr style=\"text-align: right;\">\n",
              "      <th></th>\n",
              "      <th>ID_code</th>\n",
              "      <th>target</th>\n",
              "      <th>var_0</th>\n",
              "      <th>var_1</th>\n",
              "      <th>var_2</th>\n",
              "      <th>var_3</th>\n",
              "      <th>var_4</th>\n",
              "      <th>var_5</th>\n",
              "      <th>var_6</th>\n",
              "      <th>var_7</th>\n",
              "      <th>...</th>\n",
              "      <th>var_190</th>\n",
              "      <th>var_191</th>\n",
              "      <th>var_192</th>\n",
              "      <th>var_193</th>\n",
              "      <th>var_194</th>\n",
              "      <th>var_195</th>\n",
              "      <th>var_196</th>\n",
              "      <th>var_197</th>\n",
              "      <th>var_198</th>\n",
              "      <th>var_199</th>\n",
              "    </tr>\n",
              "  </thead>\n",
              "  <tbody>\n",
              "    <tr>\n",
              "      <th>0</th>\n",
              "      <td>train_0</td>\n",
              "      <td>0</td>\n",
              "      <td>8.9255</td>\n",
              "      <td>-6.7863</td>\n",
              "      <td>11.9081</td>\n",
              "      <td>5.0930</td>\n",
              "      <td>11.4607</td>\n",
              "      <td>-9.2834</td>\n",
              "      <td>5.1187</td>\n",
              "      <td>18.6266</td>\n",
              "      <td>...</td>\n",
              "      <td>4.4354</td>\n",
              "      <td>3.9642</td>\n",
              "      <td>3.1364</td>\n",
              "      <td>1.6910</td>\n",
              "      <td>18.5227</td>\n",
              "      <td>-2.3978</td>\n",
              "      <td>7.8784</td>\n",
              "      <td>8.5635</td>\n",
              "      <td>12.7803</td>\n",
              "      <td>-1.0914</td>\n",
              "    </tr>\n",
              "    <tr>\n",
              "      <th>1</th>\n",
              "      <td>train_1</td>\n",
              "      <td>0</td>\n",
              "      <td>11.5006</td>\n",
              "      <td>-4.1473</td>\n",
              "      <td>13.8588</td>\n",
              "      <td>5.3890</td>\n",
              "      <td>12.3622</td>\n",
              "      <td>7.0433</td>\n",
              "      <td>5.6208</td>\n",
              "      <td>16.5338</td>\n",
              "      <td>...</td>\n",
              "      <td>7.6421</td>\n",
              "      <td>7.7214</td>\n",
              "      <td>2.5837</td>\n",
              "      <td>10.9516</td>\n",
              "      <td>15.4305</td>\n",
              "      <td>2.0339</td>\n",
              "      <td>8.1267</td>\n",
              "      <td>8.7889</td>\n",
              "      <td>18.3560</td>\n",
              "      <td>1.9518</td>\n",
              "    </tr>\n",
              "    <tr>\n",
              "      <th>2</th>\n",
              "      <td>train_2</td>\n",
              "      <td>0</td>\n",
              "      <td>8.6093</td>\n",
              "      <td>-2.7457</td>\n",
              "      <td>12.0805</td>\n",
              "      <td>7.8928</td>\n",
              "      <td>10.5825</td>\n",
              "      <td>-9.0837</td>\n",
              "      <td>6.9427</td>\n",
              "      <td>14.6155</td>\n",
              "      <td>...</td>\n",
              "      <td>2.9057</td>\n",
              "      <td>9.7905</td>\n",
              "      <td>1.6704</td>\n",
              "      <td>1.6858</td>\n",
              "      <td>21.6042</td>\n",
              "      <td>3.1417</td>\n",
              "      <td>-6.5213</td>\n",
              "      <td>8.2675</td>\n",
              "      <td>14.7222</td>\n",
              "      <td>0.3965</td>\n",
              "    </tr>\n",
              "    <tr>\n",
              "      <th>3</th>\n",
              "      <td>train_3</td>\n",
              "      <td>0</td>\n",
              "      <td>11.0604</td>\n",
              "      <td>-2.1518</td>\n",
              "      <td>8.9522</td>\n",
              "      <td>7.1957</td>\n",
              "      <td>12.5846</td>\n",
              "      <td>-1.8361</td>\n",
              "      <td>5.8428</td>\n",
              "      <td>14.9250</td>\n",
              "      <td>...</td>\n",
              "      <td>4.4666</td>\n",
              "      <td>4.7433</td>\n",
              "      <td>0.7178</td>\n",
              "      <td>1.4214</td>\n",
              "      <td>23.0347</td>\n",
              "      <td>-1.2706</td>\n",
              "      <td>-2.9275</td>\n",
              "      <td>10.2922</td>\n",
              "      <td>17.9697</td>\n",
              "      <td>-8.9996</td>\n",
              "    </tr>\n",
              "    <tr>\n",
              "      <th>4</th>\n",
              "      <td>train_4</td>\n",
              "      <td>0</td>\n",
              "      <td>9.8369</td>\n",
              "      <td>-1.4834</td>\n",
              "      <td>12.8746</td>\n",
              "      <td>6.6375</td>\n",
              "      <td>12.2772</td>\n",
              "      <td>2.4486</td>\n",
              "      <td>5.9405</td>\n",
              "      <td>19.2514</td>\n",
              "      <td>...</td>\n",
              "      <td>-1.4905</td>\n",
              "      <td>9.5214</td>\n",
              "      <td>-0.1508</td>\n",
              "      <td>9.1942</td>\n",
              "      <td>13.2876</td>\n",
              "      <td>-1.5121</td>\n",
              "      <td>3.9267</td>\n",
              "      <td>9.5031</td>\n",
              "      <td>17.9974</td>\n",
              "      <td>-8.8104</td>\n",
              "    </tr>\n",
              "  </tbody>\n",
              "</table>\n",
              "<p>5 rows × 202 columns</p>\n",
              "</div>"
            ],
            "text/plain": [
              "   ID_code  target    var_0   var_1    var_2   var_3    var_4   var_5   var_6  \\\n",
              "0  train_0       0   8.9255 -6.7863  11.9081  5.0930  11.4607 -9.2834  5.1187   \n",
              "1  train_1       0  11.5006 -4.1473  13.8588  5.3890  12.3622  7.0433  5.6208   \n",
              "2  train_2       0   8.6093 -2.7457  12.0805  7.8928  10.5825 -9.0837  6.9427   \n",
              "3  train_3       0  11.0604 -2.1518   8.9522  7.1957  12.5846 -1.8361  5.8428   \n",
              "4  train_4       0   9.8369 -1.4834  12.8746  6.6375  12.2772  2.4486  5.9405   \n",
              "\n",
              "     var_7   ...     var_190  var_191  var_192  var_193  var_194  var_195  \\\n",
              "0  18.6266   ...      4.4354   3.9642   3.1364   1.6910  18.5227  -2.3978   \n",
              "1  16.5338   ...      7.6421   7.7214   2.5837  10.9516  15.4305   2.0339   \n",
              "2  14.6155   ...      2.9057   9.7905   1.6704   1.6858  21.6042   3.1417   \n",
              "3  14.9250   ...      4.4666   4.7433   0.7178   1.4214  23.0347  -1.2706   \n",
              "4  19.2514   ...     -1.4905   9.5214  -0.1508   9.1942  13.2876  -1.5121   \n",
              "\n",
              "   var_196  var_197  var_198  var_199  \n",
              "0   7.8784   8.5635  12.7803  -1.0914  \n",
              "1   8.1267   8.7889  18.3560   1.9518  \n",
              "2  -6.5213   8.2675  14.7222   0.3965  \n",
              "3  -2.9275  10.2922  17.9697  -8.9996  \n",
              "4   3.9267   9.5031  17.9974  -8.8104  \n",
              "\n",
              "[5 rows x 202 columns]"
            ]
          },
          "metadata": {
            "tags": []
          },
          "execution_count": 20
        }
      ]
    },
    {
      "metadata": {
        "id": "mjpaLb8FvXbe",
        "colab_type": "code",
        "colab": {}
      },
      "cell_type": "code",
      "source": [
        ""
      ],
      "execution_count": 0,
      "outputs": []
    },
    {
      "metadata": {
        "id": "1gIWhBMUvXmk",
        "colab_type": "code",
        "colab": {
          "base_uri": "https://localhost:8080/",
          "height": 34
        },
        "outputId": "5b53e91f-0f14-4e2e-d16d-6f23751acd13"
      },
      "cell_type": "code",
      "source": [
        "train.shape"
      ],
      "execution_count": 21,
      "outputs": [
        {
          "output_type": "execute_result",
          "data": {
            "text/plain": [
              "(200000, 202)"
            ]
          },
          "metadata": {
            "tags": []
          },
          "execution_count": 21
        }
      ]
    },
    {
      "metadata": {
        "id": "80T2Ivkcvar_",
        "colab_type": "code",
        "colab": {
          "base_uri": "https://localhost:8080/",
          "height": 258
        },
        "outputId": "19e16992-716c-4ea4-d88e-9f4a29285fe2"
      },
      "cell_type": "code",
      "source": [
        "test.head()"
      ],
      "execution_count": 22,
      "outputs": [
        {
          "output_type": "execute_result",
          "data": {
            "text/html": [
              "<div>\n",
              "<style scoped>\n",
              "    .dataframe tbody tr th:only-of-type {\n",
              "        vertical-align: middle;\n",
              "    }\n",
              "\n",
              "    .dataframe tbody tr th {\n",
              "        vertical-align: top;\n",
              "    }\n",
              "\n",
              "    .dataframe thead th {\n",
              "        text-align: right;\n",
              "    }\n",
              "</style>\n",
              "<table border=\"1\" class=\"dataframe\">\n",
              "  <thead>\n",
              "    <tr style=\"text-align: right;\">\n",
              "      <th></th>\n",
              "      <th>ID_code</th>\n",
              "      <th>var_0</th>\n",
              "      <th>var_1</th>\n",
              "      <th>var_2</th>\n",
              "      <th>var_3</th>\n",
              "      <th>var_4</th>\n",
              "      <th>var_5</th>\n",
              "      <th>var_6</th>\n",
              "      <th>var_7</th>\n",
              "      <th>var_8</th>\n",
              "      <th>...</th>\n",
              "      <th>var_190</th>\n",
              "      <th>var_191</th>\n",
              "      <th>var_192</th>\n",
              "      <th>var_193</th>\n",
              "      <th>var_194</th>\n",
              "      <th>var_195</th>\n",
              "      <th>var_196</th>\n",
              "      <th>var_197</th>\n",
              "      <th>var_198</th>\n",
              "      <th>var_199</th>\n",
              "    </tr>\n",
              "  </thead>\n",
              "  <tbody>\n",
              "    <tr>\n",
              "      <th>0</th>\n",
              "      <td>test_0</td>\n",
              "      <td>11.0656</td>\n",
              "      <td>7.7798</td>\n",
              "      <td>12.9536</td>\n",
              "      <td>9.4292</td>\n",
              "      <td>11.4327</td>\n",
              "      <td>-2.3805</td>\n",
              "      <td>5.8493</td>\n",
              "      <td>18.2675</td>\n",
              "      <td>2.1337</td>\n",
              "      <td>...</td>\n",
              "      <td>-2.1556</td>\n",
              "      <td>11.8495</td>\n",
              "      <td>-1.4300</td>\n",
              "      <td>2.4508</td>\n",
              "      <td>13.7112</td>\n",
              "      <td>2.4669</td>\n",
              "      <td>4.3654</td>\n",
              "      <td>10.7200</td>\n",
              "      <td>15.4722</td>\n",
              "      <td>-8.7197</td>\n",
              "    </tr>\n",
              "    <tr>\n",
              "      <th>1</th>\n",
              "      <td>test_1</td>\n",
              "      <td>8.5304</td>\n",
              "      <td>1.2543</td>\n",
              "      <td>11.3047</td>\n",
              "      <td>5.1858</td>\n",
              "      <td>9.1974</td>\n",
              "      <td>-4.0117</td>\n",
              "      <td>6.0196</td>\n",
              "      <td>18.6316</td>\n",
              "      <td>-4.4131</td>\n",
              "      <td>...</td>\n",
              "      <td>10.6165</td>\n",
              "      <td>8.8349</td>\n",
              "      <td>0.9403</td>\n",
              "      <td>10.1282</td>\n",
              "      <td>15.5765</td>\n",
              "      <td>0.4773</td>\n",
              "      <td>-1.4852</td>\n",
              "      <td>9.8714</td>\n",
              "      <td>19.1293</td>\n",
              "      <td>-20.9760</td>\n",
              "    </tr>\n",
              "    <tr>\n",
              "      <th>2</th>\n",
              "      <td>test_2</td>\n",
              "      <td>5.4827</td>\n",
              "      <td>-10.3581</td>\n",
              "      <td>10.1407</td>\n",
              "      <td>7.0479</td>\n",
              "      <td>10.2628</td>\n",
              "      <td>9.8052</td>\n",
              "      <td>4.8950</td>\n",
              "      <td>20.2537</td>\n",
              "      <td>1.5233</td>\n",
              "      <td>...</td>\n",
              "      <td>-0.7484</td>\n",
              "      <td>10.9935</td>\n",
              "      <td>1.9803</td>\n",
              "      <td>2.1800</td>\n",
              "      <td>12.9813</td>\n",
              "      <td>2.1281</td>\n",
              "      <td>-7.1086</td>\n",
              "      <td>7.0618</td>\n",
              "      <td>19.8956</td>\n",
              "      <td>-23.1794</td>\n",
              "    </tr>\n",
              "    <tr>\n",
              "      <th>3</th>\n",
              "      <td>test_3</td>\n",
              "      <td>8.5374</td>\n",
              "      <td>-1.3222</td>\n",
              "      <td>12.0220</td>\n",
              "      <td>6.5749</td>\n",
              "      <td>8.8458</td>\n",
              "      <td>3.1744</td>\n",
              "      <td>4.9397</td>\n",
              "      <td>20.5660</td>\n",
              "      <td>3.3755</td>\n",
              "      <td>...</td>\n",
              "      <td>9.5702</td>\n",
              "      <td>9.0766</td>\n",
              "      <td>1.6580</td>\n",
              "      <td>3.5813</td>\n",
              "      <td>15.1874</td>\n",
              "      <td>3.1656</td>\n",
              "      <td>3.9567</td>\n",
              "      <td>9.2295</td>\n",
              "      <td>13.0168</td>\n",
              "      <td>-4.2108</td>\n",
              "    </tr>\n",
              "    <tr>\n",
              "      <th>4</th>\n",
              "      <td>test_4</td>\n",
              "      <td>11.7058</td>\n",
              "      <td>-0.1327</td>\n",
              "      <td>14.1295</td>\n",
              "      <td>7.7506</td>\n",
              "      <td>9.1035</td>\n",
              "      <td>-8.5848</td>\n",
              "      <td>6.8595</td>\n",
              "      <td>10.6048</td>\n",
              "      <td>2.9890</td>\n",
              "      <td>...</td>\n",
              "      <td>4.2259</td>\n",
              "      <td>9.1723</td>\n",
              "      <td>1.2835</td>\n",
              "      <td>3.3778</td>\n",
              "      <td>19.5542</td>\n",
              "      <td>-0.2860</td>\n",
              "      <td>-5.1612</td>\n",
              "      <td>7.2882</td>\n",
              "      <td>13.9260</td>\n",
              "      <td>-9.1846</td>\n",
              "    </tr>\n",
              "  </tbody>\n",
              "</table>\n",
              "<p>5 rows × 201 columns</p>\n",
              "</div>"
            ],
            "text/plain": [
              "  ID_code    var_0    var_1    var_2   var_3    var_4   var_5   var_6  \\\n",
              "0  test_0  11.0656   7.7798  12.9536  9.4292  11.4327 -2.3805  5.8493   \n",
              "1  test_1   8.5304   1.2543  11.3047  5.1858   9.1974 -4.0117  6.0196   \n",
              "2  test_2   5.4827 -10.3581  10.1407  7.0479  10.2628  9.8052  4.8950   \n",
              "3  test_3   8.5374  -1.3222  12.0220  6.5749   8.8458  3.1744  4.9397   \n",
              "4  test_4  11.7058  -0.1327  14.1295  7.7506   9.1035 -8.5848  6.8595   \n",
              "\n",
              "     var_7   var_8   ...     var_190  var_191  var_192  var_193  var_194  \\\n",
              "0  18.2675  2.1337   ...     -2.1556  11.8495  -1.4300   2.4508  13.7112   \n",
              "1  18.6316 -4.4131   ...     10.6165   8.8349   0.9403  10.1282  15.5765   \n",
              "2  20.2537  1.5233   ...     -0.7484  10.9935   1.9803   2.1800  12.9813   \n",
              "3  20.5660  3.3755   ...      9.5702   9.0766   1.6580   3.5813  15.1874   \n",
              "4  10.6048  2.9890   ...      4.2259   9.1723   1.2835   3.3778  19.5542   \n",
              "\n",
              "   var_195  var_196  var_197  var_198  var_199  \n",
              "0   2.4669   4.3654  10.7200  15.4722  -8.7197  \n",
              "1   0.4773  -1.4852   9.8714  19.1293 -20.9760  \n",
              "2   2.1281  -7.1086   7.0618  19.8956 -23.1794  \n",
              "3   3.1656   3.9567   9.2295  13.0168  -4.2108  \n",
              "4  -0.2860  -5.1612   7.2882  13.9260  -9.1846  \n",
              "\n",
              "[5 rows x 201 columns]"
            ]
          },
          "metadata": {
            "tags": []
          },
          "execution_count": 22
        }
      ]
    },
    {
      "metadata": {
        "id": "dVQ8XJlCvdMf",
        "colab_type": "code",
        "colab": {
          "base_uri": "https://localhost:8080/",
          "height": 34
        },
        "outputId": "6e75d640-0288-4838-caed-27d6fe50750a"
      },
      "cell_type": "code",
      "source": [
        "test.shape"
      ],
      "execution_count": 23,
      "outputs": [
        {
          "output_type": "execute_result",
          "data": {
            "text/plain": [
              "(200000, 201)"
            ]
          },
          "metadata": {
            "tags": []
          },
          "execution_count": 23
        }
      ]
    },
    {
      "metadata": {
        "id": "FYOrzQNrvdXD",
        "colab_type": "code",
        "colab": {}
      },
      "cell_type": "code",
      "source": [
        "x = test.columns[1:]\n",
        "y = 'target'"
      ],
      "execution_count": 0,
      "outputs": []
    },
    {
      "metadata": {
        "id": "VdoV3ijBvddr",
        "colab_type": "code",
        "colab": {
          "base_uri": "https://localhost:8080/",
          "height": 119
        },
        "outputId": "4d41c216-93ce-4815-d998-33dd265b5072"
      },
      "cell_type": "code",
      "source": [
        "x"
      ],
      "execution_count": 25,
      "outputs": [
        {
          "output_type": "execute_result",
          "data": {
            "text/plain": [
              "Index(['var_0', 'var_1', 'var_2', 'var_3', 'var_4', 'var_5', 'var_6', 'var_7',\n",
              "       'var_8', 'var_9',\n",
              "       ...\n",
              "       'var_190', 'var_191', 'var_192', 'var_193', 'var_194', 'var_195',\n",
              "       'var_196', 'var_197', 'var_198', 'var_199'],\n",
              "      dtype='object', length=200)"
            ]
          },
          "metadata": {
            "tags": []
          },
          "execution_count": 25
        }
      ]
    },
    {
      "metadata": {
        "id": "HQQQ1PScvdho",
        "colab_type": "code",
        "colab": {
          "base_uri": "https://localhost:8080/",
          "height": 34
        },
        "outputId": "7818b4f6-19c8-4b4f-9747-c4e037f3727d"
      },
      "cell_type": "code",
      "source": [
        "y"
      ],
      "execution_count": 26,
      "outputs": [
        {
          "output_type": "execute_result",
          "data": {
            "text/plain": [
              "'target'"
            ]
          },
          "metadata": {
            "tags": []
          },
          "execution_count": 26
        }
      ]
    },
    {
      "metadata": {
        "id": "mgjcvfvevpQW",
        "colab_type": "code",
        "colab": {
          "base_uri": "https://localhost:8080/",
          "height": 283
        },
        "outputId": "e7d789c9-cce9-400c-c494-1640aa1c2b60"
      },
      "cell_type": "code",
      "source": [
        "# For binary classification, response should be a factor\n",
        "train[y] = train[y].asfactor()"
      ],
      "execution_count": 32,
      "outputs": [
        {
          "output_type": "error",
          "ename": "AttributeError",
          "evalue": "ignored",
          "traceback": [
            "\u001b[0;31m---------------------------------------------------------------------------\u001b[0m",
            "\u001b[0;31mAttributeError\u001b[0m                            Traceback (most recent call last)",
            "\u001b[0;32m<ipython-input-32-ad7818ad40a3>\u001b[0m in \u001b[0;36m<module>\u001b[0;34m()\u001b[0m\n\u001b[0;32m----> 1\u001b[0;31m \u001b[0mtrain\u001b[0m\u001b[0;34m[\u001b[0m\u001b[0my\u001b[0m\u001b[0;34m]\u001b[0m \u001b[0;34m=\u001b[0m \u001b[0mtrain\u001b[0m\u001b[0;34m[\u001b[0m\u001b[0my\u001b[0m\u001b[0;34m]\u001b[0m\u001b[0;34m.\u001b[0m\u001b[0masfactor\u001b[0m\u001b[0;34m(\u001b[0m\u001b[0;34m)\u001b[0m\u001b[0;34m\u001b[0m\u001b[0;34m\u001b[0m\u001b[0m\n\u001b[0m",
            "\u001b[0;32m/usr/local/lib/python3.6/dist-packages/pandas/core/generic.py\u001b[0m in \u001b[0;36m__getattr__\u001b[0;34m(self, name)\u001b[0m\n\u001b[1;32m   3612\u001b[0m             \u001b[0;32mif\u001b[0m \u001b[0mname\u001b[0m \u001b[0;32min\u001b[0m \u001b[0mself\u001b[0m\u001b[0;34m.\u001b[0m\u001b[0m_info_axis\u001b[0m\u001b[0;34m:\u001b[0m\u001b[0;34m\u001b[0m\u001b[0;34m\u001b[0m\u001b[0m\n\u001b[1;32m   3613\u001b[0m                 \u001b[0;32mreturn\u001b[0m \u001b[0mself\u001b[0m\u001b[0;34m[\u001b[0m\u001b[0mname\u001b[0m\u001b[0;34m]\u001b[0m\u001b[0;34m\u001b[0m\u001b[0;34m\u001b[0m\u001b[0m\n\u001b[0;32m-> 3614\u001b[0;31m             \u001b[0;32mreturn\u001b[0m \u001b[0mobject\u001b[0m\u001b[0;34m.\u001b[0m\u001b[0m__getattribute__\u001b[0m\u001b[0;34m(\u001b[0m\u001b[0mself\u001b[0m\u001b[0;34m,\u001b[0m \u001b[0mname\u001b[0m\u001b[0;34m)\u001b[0m\u001b[0;34m\u001b[0m\u001b[0;34m\u001b[0m\u001b[0m\n\u001b[0m\u001b[1;32m   3615\u001b[0m \u001b[0;34m\u001b[0m\u001b[0m\n\u001b[1;32m   3616\u001b[0m     \u001b[0;32mdef\u001b[0m \u001b[0m__setattr__\u001b[0m\u001b[0;34m(\u001b[0m\u001b[0mself\u001b[0m\u001b[0;34m,\u001b[0m \u001b[0mname\u001b[0m\u001b[0;34m,\u001b[0m \u001b[0mvalue\u001b[0m\u001b[0;34m)\u001b[0m\u001b[0;34m:\u001b[0m\u001b[0;34m\u001b[0m\u001b[0;34m\u001b[0m\u001b[0m\n",
            "\u001b[0;31mAttributeError\u001b[0m: 'Series' object has no attribute 'asfactor'"
          ]
        }
      ]
    },
    {
      "metadata": {
        "id": "isMqe3iTv7HX",
        "colab_type": "code",
        "colab": {
          "base_uri": "https://localhost:8080/",
          "height": 563
        },
        "outputId": "0c915d9f-e4a3-4239-8823-9c97a3786d2d"
      },
      "cell_type": "code",
      "source": [
        "aml = H2OAutoML(max_models=180, seed=47, max_runtime_secs=31000)\n",
        "aml.train(x=x, y=y, training_frame=train)"
      ],
      "execution_count": 28,
      "outputs": [
        {
          "output_type": "error",
          "ename": "H2OConnectionError",
          "evalue": "ignored",
          "traceback": [
            "\u001b[0;31m---------------------------------------------------------------------------\u001b[0m",
            "\u001b[0;31mH2OConnectionError\u001b[0m                        Traceback (most recent call last)",
            "\u001b[0;32m<ipython-input-28-1e8dd284aea2>\u001b[0m in \u001b[0;36m<module>\u001b[0;34m()\u001b[0m\n\u001b[0;32m----> 1\u001b[0;31m \u001b[0maml\u001b[0m \u001b[0;34m=\u001b[0m \u001b[0mH2OAutoML\u001b[0m\u001b[0;34m(\u001b[0m\u001b[0mmax_models\u001b[0m\u001b[0;34m=\u001b[0m\u001b[0;36m180\u001b[0m\u001b[0;34m,\u001b[0m \u001b[0mseed\u001b[0m\u001b[0;34m=\u001b[0m\u001b[0;36m47\u001b[0m\u001b[0;34m,\u001b[0m \u001b[0mmax_runtime_secs\u001b[0m\u001b[0;34m=\u001b[0m\u001b[0;36m31000\u001b[0m\u001b[0;34m)\u001b[0m\u001b[0;34m\u001b[0m\u001b[0;34m\u001b[0m\u001b[0m\n\u001b[0m\u001b[1;32m      2\u001b[0m \u001b[0maml\u001b[0m\u001b[0;34m.\u001b[0m\u001b[0mtrain\u001b[0m\u001b[0;34m(\u001b[0m\u001b[0mx\u001b[0m\u001b[0;34m=\u001b[0m\u001b[0mx\u001b[0m\u001b[0;34m,\u001b[0m \u001b[0my\u001b[0m\u001b[0;34m=\u001b[0m\u001b[0my\u001b[0m\u001b[0;34m,\u001b[0m \u001b[0mtraining_frame\u001b[0m\u001b[0;34m=\u001b[0m\u001b[0mtrain\u001b[0m\u001b[0;34m)\u001b[0m\u001b[0;34m\u001b[0m\u001b[0;34m\u001b[0m\u001b[0m\n",
            "\u001b[0;32m/usr/local/lib/python3.6/dist-packages/h2o/automl/autoh2o.py\u001b[0m in \u001b[0;36m__init__\u001b[0;34m(self, nfolds, balance_classes, class_sampling_factors, max_after_balance_size, max_runtime_secs, max_models, stopping_metric, stopping_tolerance, stopping_rounds, seed, project_name, exclude_algos, keep_cross_validation_predictions, keep_cross_validation_models, keep_cross_validation_fold_assignment, sort_metric, export_checkpoints_dir)\u001b[0m\n\u001b[1;32m    105\u001b[0m         \u001b[0;31m# Check if H2O jar contains AutoML\u001b[0m\u001b[0;34m\u001b[0m\u001b[0;34m\u001b[0m\u001b[0;34m\u001b[0m\u001b[0m\n\u001b[1;32m    106\u001b[0m         \u001b[0;32mtry\u001b[0m\u001b[0;34m:\u001b[0m\u001b[0;34m\u001b[0m\u001b[0;34m\u001b[0m\u001b[0m\n\u001b[0;32m--> 107\u001b[0;31m             \u001b[0mh2o\u001b[0m\u001b[0;34m.\u001b[0m\u001b[0mapi\u001b[0m\u001b[0;34m(\u001b[0m\u001b[0;34m\"GET /3/Metadata/schemas/AutoMLV99\"\u001b[0m\u001b[0;34m)\u001b[0m\u001b[0;34m\u001b[0m\u001b[0;34m\u001b[0m\u001b[0m\n\u001b[0m\u001b[1;32m    108\u001b[0m         \u001b[0;32mexcept\u001b[0m \u001b[0mh2o\u001b[0m\u001b[0;34m.\u001b[0m\u001b[0mexceptions\u001b[0m\u001b[0;34m.\u001b[0m\u001b[0mH2OResponseError\u001b[0m \u001b[0;32mas\u001b[0m \u001b[0me\u001b[0m\u001b[0;34m:\u001b[0m\u001b[0;34m\u001b[0m\u001b[0;34m\u001b[0m\u001b[0m\n\u001b[1;32m    109\u001b[0m             \u001b[0mprint\u001b[0m\u001b[0;34m(\u001b[0m\u001b[0me\u001b[0m\u001b[0;34m)\u001b[0m\u001b[0;34m\u001b[0m\u001b[0;34m\u001b[0m\u001b[0m\n",
            "\u001b[0;32m/usr/local/lib/python3.6/dist-packages/h2o/h2o.py\u001b[0m in \u001b[0;36mapi\u001b[0;34m(endpoint, data, json, filename, save_to)\u001b[0m\n\u001b[1;32m    102\u001b[0m     \"\"\"\n\u001b[1;32m    103\u001b[0m     \u001b[0;31m# type checks are performed in H2OConnection class\u001b[0m\u001b[0;34m\u001b[0m\u001b[0;34m\u001b[0m\u001b[0;34m\u001b[0m\u001b[0m\n\u001b[0;32m--> 104\u001b[0;31m     \u001b[0m_check_connection\u001b[0m\u001b[0;34m(\u001b[0m\u001b[0;34m)\u001b[0m\u001b[0;34m\u001b[0m\u001b[0;34m\u001b[0m\u001b[0m\n\u001b[0m\u001b[1;32m    105\u001b[0m     \u001b[0;32mreturn\u001b[0m \u001b[0mh2oconn\u001b[0m\u001b[0;34m.\u001b[0m\u001b[0mrequest\u001b[0m\u001b[0;34m(\u001b[0m\u001b[0mendpoint\u001b[0m\u001b[0;34m,\u001b[0m \u001b[0mdata\u001b[0m\u001b[0;34m=\u001b[0m\u001b[0mdata\u001b[0m\u001b[0;34m,\u001b[0m \u001b[0mjson\u001b[0m\u001b[0;34m=\u001b[0m\u001b[0mjson\u001b[0m\u001b[0;34m,\u001b[0m \u001b[0mfilename\u001b[0m\u001b[0;34m=\u001b[0m\u001b[0mfilename\u001b[0m\u001b[0;34m,\u001b[0m \u001b[0msave_to\u001b[0m\u001b[0;34m=\u001b[0m\u001b[0msave_to\u001b[0m\u001b[0;34m)\u001b[0m\u001b[0;34m\u001b[0m\u001b[0;34m\u001b[0m\u001b[0m\n\u001b[1;32m    106\u001b[0m \u001b[0;34m\u001b[0m\u001b[0m\n",
            "\u001b[0;32m/usr/local/lib/python3.6/dist-packages/h2o/h2o.py\u001b[0m in \u001b[0;36m_check_connection\u001b[0;34m()\u001b[0m\n\u001b[1;32m   1472\u001b[0m \u001b[0;32mdef\u001b[0m \u001b[0m_check_connection\u001b[0m\u001b[0;34m(\u001b[0m\u001b[0;34m)\u001b[0m\u001b[0;34m:\u001b[0m\u001b[0;34m\u001b[0m\u001b[0;34m\u001b[0m\u001b[0m\n\u001b[1;32m   1473\u001b[0m     \u001b[0;32mif\u001b[0m \u001b[0;32mnot\u001b[0m \u001b[0mh2oconn\u001b[0m \u001b[0;32mor\u001b[0m \u001b[0;32mnot\u001b[0m \u001b[0mh2oconn\u001b[0m\u001b[0;34m.\u001b[0m\u001b[0mcluster\u001b[0m\u001b[0;34m:\u001b[0m\u001b[0;34m\u001b[0m\u001b[0;34m\u001b[0m\u001b[0m\n\u001b[0;32m-> 1474\u001b[0;31m         \u001b[0;32mraise\u001b[0m \u001b[0mH2OConnectionError\u001b[0m\u001b[0;34m(\u001b[0m\u001b[0;34m\"Not connected to a cluster. Did you run `h2o.connect()`?\"\u001b[0m\u001b[0;34m)\u001b[0m\u001b[0;34m\u001b[0m\u001b[0;34m\u001b[0m\u001b[0m\n\u001b[0m\u001b[1;32m   1475\u001b[0m \u001b[0;34m\u001b[0m\u001b[0m\n\u001b[1;32m   1476\u001b[0m \u001b[0;32mdef\u001b[0m \u001b[0m_connect_with_conf\u001b[0m\u001b[0;34m(\u001b[0m\u001b[0mconn_conf\u001b[0m\u001b[0;34m)\u001b[0m\u001b[0;34m:\u001b[0m\u001b[0;34m\u001b[0m\u001b[0;34m\u001b[0m\u001b[0m\n",
            "\u001b[0;31mH2OConnectionError\u001b[0m: Not connected to a cluster. Did you run `h2o.connect()`?"
          ]
        }
      ]
    },
    {
      "metadata": {
        "id": "NNQlawu8vpaS",
        "colab_type": "code",
        "colab": {
          "base_uri": "https://localhost:8080/",
          "height": 444
        },
        "outputId": "0fc129af-2d7d-4357-f2e1-66cdb8387119"
      },
      "cell_type": "code",
      "source": [
        "aml = H2OAutoML(max_models=180, seed=47, max_runtime_secs=31000)\n",
        "aml.train(x=x, y=y, training_frame=train)"
      ],
      "execution_count": 33,
      "outputs": [
        {
          "output_type": "error",
          "ename": "AttributeError",
          "evalue": "ignored",
          "traceback": [
            "\u001b[0;31m---------------------------------------------------------------------------\u001b[0m",
            "\u001b[0;31mAttributeError\u001b[0m                            Traceback (most recent call last)",
            "\u001b[0;32m<ipython-input-33-1e8dd284aea2>\u001b[0m in \u001b[0;36m<module>\u001b[0;34m()\u001b[0m\n\u001b[1;32m      1\u001b[0m \u001b[0maml\u001b[0m \u001b[0;34m=\u001b[0m \u001b[0mH2OAutoML\u001b[0m\u001b[0;34m(\u001b[0m\u001b[0mmax_models\u001b[0m\u001b[0;34m=\u001b[0m\u001b[0;36m180\u001b[0m\u001b[0;34m,\u001b[0m \u001b[0mseed\u001b[0m\u001b[0;34m=\u001b[0m\u001b[0;36m47\u001b[0m\u001b[0;34m,\u001b[0m \u001b[0mmax_runtime_secs\u001b[0m\u001b[0;34m=\u001b[0m\u001b[0;36m31000\u001b[0m\u001b[0;34m)\u001b[0m\u001b[0;34m\u001b[0m\u001b[0;34m\u001b[0m\u001b[0m\n\u001b[0;32m----> 2\u001b[0;31m \u001b[0maml\u001b[0m\u001b[0;34m.\u001b[0m\u001b[0mtrain\u001b[0m\u001b[0;34m(\u001b[0m\u001b[0mx\u001b[0m\u001b[0;34m=\u001b[0m\u001b[0mx\u001b[0m\u001b[0;34m,\u001b[0m \u001b[0my\u001b[0m\u001b[0;34m=\u001b[0m\u001b[0my\u001b[0m\u001b[0;34m,\u001b[0m \u001b[0mtraining_frame\u001b[0m\u001b[0;34m=\u001b[0m\u001b[0mtrain\u001b[0m\u001b[0;34m)\u001b[0m\u001b[0;34m\u001b[0m\u001b[0;34m\u001b[0m\u001b[0m\n\u001b[0m",
            "\u001b[0;32m/usr/local/lib/python3.6/dist-packages/h2o/automl/autoh2o.py\u001b[0m in \u001b[0;36mtrain\u001b[0;34m(self, x, y, training_frame, fold_column, weights_column, validation_frame, leaderboard_frame)\u001b[0m\n\u001b[1;32m    285\u001b[0m         \u001b[0;34m>>\u001b[0m\u001b[0;34m>\u001b[0m \u001b[0maml\u001b[0m\u001b[0;34m.\u001b[0m\u001b[0mtrain\u001b[0m\u001b[0;34m(\u001b[0m\u001b[0my\u001b[0m\u001b[0;34m=\u001b[0m\u001b[0my\u001b[0m\u001b[0;34m,\u001b[0m \u001b[0mtraining_frame\u001b[0m\u001b[0;34m=\u001b[0m\u001b[0mtrain\u001b[0m\u001b[0;34m)\u001b[0m\u001b[0;34m\u001b[0m\u001b[0;34m\u001b[0m\u001b[0m\n\u001b[1;32m    286\u001b[0m         \"\"\"\n\u001b[0;32m--> 287\u001b[0;31m         \u001b[0mncols\u001b[0m \u001b[0;34m=\u001b[0m \u001b[0mtraining_frame\u001b[0m\u001b[0;34m.\u001b[0m\u001b[0mncols\u001b[0m\u001b[0;34m\u001b[0m\u001b[0;34m\u001b[0m\u001b[0m\n\u001b[0m\u001b[1;32m    288\u001b[0m         \u001b[0mnames\u001b[0m \u001b[0;34m=\u001b[0m \u001b[0mtraining_frame\u001b[0m\u001b[0;34m.\u001b[0m\u001b[0mnames\u001b[0m\u001b[0;34m\u001b[0m\u001b[0;34m\u001b[0m\u001b[0m\n\u001b[1;32m    289\u001b[0m \u001b[0;34m\u001b[0m\u001b[0m\n",
            "\u001b[0;32m/usr/local/lib/python3.6/dist-packages/pandas/core/generic.py\u001b[0m in \u001b[0;36m__getattr__\u001b[0;34m(self, name)\u001b[0m\n\u001b[1;32m   3612\u001b[0m             \u001b[0;32mif\u001b[0m \u001b[0mname\u001b[0m \u001b[0;32min\u001b[0m \u001b[0mself\u001b[0m\u001b[0;34m.\u001b[0m\u001b[0m_info_axis\u001b[0m\u001b[0;34m:\u001b[0m\u001b[0;34m\u001b[0m\u001b[0;34m\u001b[0m\u001b[0m\n\u001b[1;32m   3613\u001b[0m                 \u001b[0;32mreturn\u001b[0m \u001b[0mself\u001b[0m\u001b[0;34m[\u001b[0m\u001b[0mname\u001b[0m\u001b[0;34m]\u001b[0m\u001b[0;34m\u001b[0m\u001b[0;34m\u001b[0m\u001b[0m\n\u001b[0;32m-> 3614\u001b[0;31m             \u001b[0;32mreturn\u001b[0m \u001b[0mobject\u001b[0m\u001b[0;34m.\u001b[0m\u001b[0m__getattribute__\u001b[0m\u001b[0;34m(\u001b[0m\u001b[0mself\u001b[0m\u001b[0;34m,\u001b[0m \u001b[0mname\u001b[0m\u001b[0;34m)\u001b[0m\u001b[0;34m\u001b[0m\u001b[0;34m\u001b[0m\u001b[0m\n\u001b[0m\u001b[1;32m   3615\u001b[0m \u001b[0;34m\u001b[0m\u001b[0m\n\u001b[1;32m   3616\u001b[0m     \u001b[0;32mdef\u001b[0m \u001b[0m__setattr__\u001b[0m\u001b[0;34m(\u001b[0m\u001b[0mself\u001b[0m\u001b[0;34m,\u001b[0m \u001b[0mname\u001b[0m\u001b[0;34m,\u001b[0m \u001b[0mvalue\u001b[0m\u001b[0;34m)\u001b[0m\u001b[0;34m:\u001b[0m\u001b[0;34m\u001b[0m\u001b[0;34m\u001b[0m\u001b[0m\n",
            "\u001b[0;31mAttributeError\u001b[0m: 'DataFrame' object has no attribute 'ncols'"
          ]
        }
      ]
    },
    {
      "metadata": {
        "id": "mP4Wm3Ghvpjm",
        "colab_type": "code",
        "colab": {
          "base_uri": "https://localhost:8080/",
          "height": 51
        },
        "outputId": "b9608f59-db17-4cb1-f892-deb83a1a0441"
      },
      "cell_type": "code",
      "source": [
        "# View the AutoML Leaderboard\n",
        "lb = aml.leaderboard\n",
        "lb.head(rows=lb.nrows)  # Print all rows instead of default (10 rows)"
      ],
      "execution_count": 34,
      "outputs": [
        {
          "output_type": "stream",
          "text": [
            "Parse progress: |█████████████████████████████████████████████████████████| 100%\n",
            "This H2OFrame is empty.\n"
          ],
          "name": "stdout"
        },
        {
          "output_type": "execute_result",
          "data": {
            "text/plain": [
              ""
            ]
          },
          "metadata": {
            "tags": []
          },
          "execution_count": 34
        }
      ]
    },
    {
      "metadata": {
        "id": "skPjal4ivphG",
        "colab_type": "code",
        "colab": {
          "base_uri": "https://localhost:8080/",
          "height": 402
        },
        "outputId": "8e9ae7ec-9b4a-48cc-c669-7f41e13a12ce"
      },
      "cell_type": "code",
      "source": [
        "preds = aml.predict(test)"
      ],
      "execution_count": 35,
      "outputs": [
        {
          "output_type": "error",
          "ename": "TypeError",
          "evalue": "ignored",
          "traceback": [
            "\u001b[0;31m---------------------------------------------------------------------------\u001b[0m",
            "\u001b[0;31mTypeError\u001b[0m                                 Traceback (most recent call last)",
            "\u001b[0;32m<ipython-input-35-9e239aabe3d2>\u001b[0m in \u001b[0;36m<module>\u001b[0;34m()\u001b[0m\n\u001b[0;32m----> 1\u001b[0;31m \u001b[0mpreds\u001b[0m \u001b[0;34m=\u001b[0m \u001b[0maml\u001b[0m\u001b[0;34m.\u001b[0m\u001b[0mpredict\u001b[0m\u001b[0;34m(\u001b[0m\u001b[0mtest\u001b[0m\u001b[0;34m)\u001b[0m\u001b[0;34m\u001b[0m\u001b[0;34m\u001b[0m\u001b[0m\n\u001b[0m",
            "\u001b[0;32m/usr/local/lib/python3.6/dist-packages/h2o/automl/autoh2o.py\u001b[0m in \u001b[0;36mpredict\u001b[0;34m(self, test_data)\u001b[0m\n\u001b[1;32m    400\u001b[0m \u001b[0;34m\u001b[0m\u001b[0m\n\u001b[1;32m    401\u001b[0m         \"\"\"\n\u001b[0;32m--> 402\u001b[0;31m         \u001b[0;32mif\u001b[0m \u001b[0mself\u001b[0m\u001b[0;34m.\u001b[0m\u001b[0m_fetch\u001b[0m\u001b[0;34m(\u001b[0m\u001b[0;34m)\u001b[0m\u001b[0;34m:\u001b[0m\u001b[0;34m\u001b[0m\u001b[0;34m\u001b[0m\u001b[0m\n\u001b[0m\u001b[1;32m    403\u001b[0m             \u001b[0mself\u001b[0m\u001b[0;34m.\u001b[0m\u001b[0m_model\u001b[0m \u001b[0;34m=\u001b[0m \u001b[0mh2o\u001b[0m\u001b[0;34m.\u001b[0m\u001b[0mget_model\u001b[0m\u001b[0;34m(\u001b[0m\u001b[0mself\u001b[0m\u001b[0;34m.\u001b[0m\u001b[0m_leader_id\u001b[0m\u001b[0;34m)\u001b[0m\u001b[0;34m\u001b[0m\u001b[0;34m\u001b[0m\u001b[0m\n\u001b[1;32m    404\u001b[0m             \u001b[0;32mreturn\u001b[0m \u001b[0mself\u001b[0m\u001b[0;34m.\u001b[0m\u001b[0m_model\u001b[0m\u001b[0;34m.\u001b[0m\u001b[0mpredict\u001b[0m\u001b[0;34m(\u001b[0m\u001b[0mtest_data\u001b[0m\u001b[0;34m)\u001b[0m\u001b[0;34m\u001b[0m\u001b[0;34m\u001b[0m\u001b[0m\n",
            "\u001b[0;32m/usr/local/lib/python3.6/dist-packages/h2o/automl/autoh2o.py\u001b[0m in \u001b[0;36m_fetch\u001b[0;34m(self)\u001b[0m\n\u001b[1;32m    439\u001b[0m     \u001b[0;31m#-------------------------------------------------------------------------------------------------------------------\u001b[0m\u001b[0;34m\u001b[0m\u001b[0;34m\u001b[0m\u001b[0;34m\u001b[0m\u001b[0m\n\u001b[1;32m    440\u001b[0m     \u001b[0;32mdef\u001b[0m \u001b[0m_fetch\u001b[0m\u001b[0;34m(\u001b[0m\u001b[0mself\u001b[0m\u001b[0;34m)\u001b[0m\u001b[0;34m:\u001b[0m\u001b[0;34m\u001b[0m\u001b[0;34m\u001b[0m\u001b[0m\n\u001b[0;32m--> 441\u001b[0;31m         \u001b[0mres\u001b[0m \u001b[0;34m=\u001b[0m \u001b[0mh2o\u001b[0m\u001b[0;34m.\u001b[0m\u001b[0mapi\u001b[0m\u001b[0;34m(\u001b[0m\u001b[0;34m\"GET /99/AutoML/\"\u001b[0m \u001b[0;34m+\u001b[0m \u001b[0mself\u001b[0m\u001b[0;34m.\u001b[0m\u001b[0mproject_name\u001b[0m\u001b[0;34m)\u001b[0m\u001b[0;34m\u001b[0m\u001b[0;34m\u001b[0m\u001b[0m\n\u001b[0m\u001b[1;32m    442\u001b[0m         \u001b[0mleaderboard_list\u001b[0m \u001b[0;34m=\u001b[0m \u001b[0;34m[\u001b[0m\u001b[0mkey\u001b[0m\u001b[0;34m[\u001b[0m\u001b[0;34m\"name\"\u001b[0m\u001b[0;34m]\u001b[0m \u001b[0;32mfor\u001b[0m \u001b[0mkey\u001b[0m \u001b[0;32min\u001b[0m \u001b[0mres\u001b[0m\u001b[0;34m[\u001b[0m\u001b[0;34m'leaderboard'\u001b[0m\u001b[0;34m]\u001b[0m\u001b[0;34m[\u001b[0m\u001b[0;34m'models'\u001b[0m\u001b[0;34m]\u001b[0m\u001b[0;34m]\u001b[0m\u001b[0;34m\u001b[0m\u001b[0;34m\u001b[0m\u001b[0m\n\u001b[1;32m    443\u001b[0m \u001b[0;34m\u001b[0m\u001b[0m\n",
            "\u001b[0;31mTypeError\u001b[0m: must be str, not NoneType"
          ]
        }
      ]
    },
    {
      "metadata": {
        "id": "gLC_bis4xrDo",
        "colab_type": "code",
        "colab": {
          "base_uri": "https://localhost:8080/",
          "height": 164
        },
        "outputId": "3a58a5f0-64ab-4ab6-b6b9-e34484a2f7a5"
      },
      "cell_type": "code",
      "source": [
        "preds['p1'].as_data_frame().values.flatten().shape"
      ],
      "execution_count": 36,
      "outputs": [
        {
          "output_type": "error",
          "ename": "NameError",
          "evalue": "ignored",
          "traceback": [
            "\u001b[0;31m---------------------------------------------------------------------------\u001b[0m",
            "\u001b[0;31mNameError\u001b[0m                                 Traceback (most recent call last)",
            "\u001b[0;32m<ipython-input-36-04183bb0ec9a>\u001b[0m in \u001b[0;36m<module>\u001b[0;34m()\u001b[0m\n\u001b[0;32m----> 1\u001b[0;31m \u001b[0mpreds\u001b[0m\u001b[0;34m[\u001b[0m\u001b[0;34m'p1'\u001b[0m\u001b[0;34m]\u001b[0m\u001b[0;34m.\u001b[0m\u001b[0mas_data_frame\u001b[0m\u001b[0;34m(\u001b[0m\u001b[0;34m)\u001b[0m\u001b[0;34m.\u001b[0m\u001b[0mvalues\u001b[0m\u001b[0;34m.\u001b[0m\u001b[0mflatten\u001b[0m\u001b[0;34m(\u001b[0m\u001b[0;34m)\u001b[0m\u001b[0;34m.\u001b[0m\u001b[0mshape\u001b[0m\u001b[0;34m\u001b[0m\u001b[0;34m\u001b[0m\u001b[0m\n\u001b[0m",
            "\u001b[0;31mNameError\u001b[0m: name 'preds' is not defined"
          ]
        }
      ]
    },
    {
      "metadata": {
        "id": "izZ60HwFxrLG",
        "colab_type": "code",
        "colab": {
          "base_uri": "https://localhost:8080/",
          "height": 164
        },
        "outputId": "a0c59f73-0d9f-432a-9b61-4e83f2efefff"
      },
      "cell_type": "code",
      "source": [
        "preds"
      ],
      "execution_count": 37,
      "outputs": [
        {
          "output_type": "error",
          "ename": "NameError",
          "evalue": "ignored",
          "traceback": [
            "\u001b[0;31m---------------------------------------------------------------------------\u001b[0m",
            "\u001b[0;31mNameError\u001b[0m                                 Traceback (most recent call last)",
            "\u001b[0;32m<ipython-input-37-c66c8509e20f>\u001b[0m in \u001b[0;36m<module>\u001b[0;34m()\u001b[0m\n\u001b[0;32m----> 1\u001b[0;31m \u001b[0mpreds\u001b[0m\u001b[0;34m\u001b[0m\u001b[0;34m\u001b[0m\u001b[0m\n\u001b[0m",
            "\u001b[0;31mNameError\u001b[0m: name 'preds' is not defined"
          ]
        }
      ]
    },
    {
      "metadata": {
        "id": "x2HKtq2lxr_i",
        "colab_type": "code",
        "colab": {
          "base_uri": "https://localhost:8080/",
          "height": 869
        },
        "outputId": "ce36fd53-6620-42a2-eed8-d27ca5822489"
      },
      "cell_type": "code",
      "source": [
        "  sample_submission = pd.read_csv('../input/sample_submission.csv')\n",
        "sample_submission.shape"
      ],
      "execution_count": 38,
      "outputs": [
        {
          "output_type": "error",
          "ename": "FileNotFoundError",
          "evalue": "ignored",
          "traceback": [
            "\u001b[0;31m---------------------------------------------------------------------------\u001b[0m",
            "\u001b[0;31mFileNotFoundError\u001b[0m                         Traceback (most recent call last)",
            "\u001b[0;32m<ipython-input-38-b39cde91c86d>\u001b[0m in \u001b[0;36m<module>\u001b[0;34m()\u001b[0m\n\u001b[0;32m----> 1\u001b[0;31m \u001b[0msample_submission\u001b[0m \u001b[0;34m=\u001b[0m \u001b[0mpd\u001b[0m\u001b[0;34m.\u001b[0m\u001b[0mread_csv\u001b[0m\u001b[0;34m(\u001b[0m\u001b[0;34m'../input/sample_submission.csv'\u001b[0m\u001b[0;34m)\u001b[0m\u001b[0;34m\u001b[0m\u001b[0;34m\u001b[0m\u001b[0m\n\u001b[0m\u001b[1;32m      2\u001b[0m \u001b[0msample_submission\u001b[0m\u001b[0;34m.\u001b[0m\u001b[0mshape\u001b[0m\u001b[0;34m\u001b[0m\u001b[0;34m\u001b[0m\u001b[0m\n",
            "\u001b[0;32m/usr/local/lib/python3.6/dist-packages/pandas/io/parsers.py\u001b[0m in \u001b[0;36mparser_f\u001b[0;34m(filepath_or_buffer, sep, delimiter, header, names, index_col, usecols, squeeze, prefix, mangle_dupe_cols, dtype, engine, converters, true_values, false_values, skipinitialspace, skiprows, nrows, na_values, keep_default_na, na_filter, verbose, skip_blank_lines, parse_dates, infer_datetime_format, keep_date_col, date_parser, dayfirst, iterator, chunksize, compression, thousands, decimal, lineterminator, quotechar, quoting, escapechar, comment, encoding, dialect, tupleize_cols, error_bad_lines, warn_bad_lines, skipfooter, skip_footer, doublequote, delim_whitespace, as_recarray, compact_ints, use_unsigned, low_memory, buffer_lines, memory_map, float_precision)\u001b[0m\n\u001b[1;32m    707\u001b[0m                     skip_blank_lines=skip_blank_lines)\n\u001b[1;32m    708\u001b[0m \u001b[0;34m\u001b[0m\u001b[0m\n\u001b[0;32m--> 709\u001b[0;31m         \u001b[0;32mreturn\u001b[0m \u001b[0m_read\u001b[0m\u001b[0;34m(\u001b[0m\u001b[0mfilepath_or_buffer\u001b[0m\u001b[0;34m,\u001b[0m \u001b[0mkwds\u001b[0m\u001b[0;34m)\u001b[0m\u001b[0;34m\u001b[0m\u001b[0;34m\u001b[0m\u001b[0m\n\u001b[0m\u001b[1;32m    710\u001b[0m \u001b[0;34m\u001b[0m\u001b[0m\n\u001b[1;32m    711\u001b[0m     \u001b[0mparser_f\u001b[0m\u001b[0;34m.\u001b[0m\u001b[0m__name__\u001b[0m \u001b[0;34m=\u001b[0m \u001b[0mname\u001b[0m\u001b[0;34m\u001b[0m\u001b[0;34m\u001b[0m\u001b[0m\n",
            "\u001b[0;32m/usr/local/lib/python3.6/dist-packages/pandas/io/parsers.py\u001b[0m in \u001b[0;36m_read\u001b[0;34m(filepath_or_buffer, kwds)\u001b[0m\n\u001b[1;32m    447\u001b[0m \u001b[0;34m\u001b[0m\u001b[0m\n\u001b[1;32m    448\u001b[0m     \u001b[0;31m# Create the parser.\u001b[0m\u001b[0;34m\u001b[0m\u001b[0;34m\u001b[0m\u001b[0;34m\u001b[0m\u001b[0m\n\u001b[0;32m--> 449\u001b[0;31m     \u001b[0mparser\u001b[0m \u001b[0;34m=\u001b[0m \u001b[0mTextFileReader\u001b[0m\u001b[0;34m(\u001b[0m\u001b[0mfilepath_or_buffer\u001b[0m\u001b[0;34m,\u001b[0m \u001b[0;34m**\u001b[0m\u001b[0mkwds\u001b[0m\u001b[0;34m)\u001b[0m\u001b[0;34m\u001b[0m\u001b[0;34m\u001b[0m\u001b[0m\n\u001b[0m\u001b[1;32m    450\u001b[0m \u001b[0;34m\u001b[0m\u001b[0m\n\u001b[1;32m    451\u001b[0m     \u001b[0;32mif\u001b[0m \u001b[0mchunksize\u001b[0m \u001b[0;32mor\u001b[0m \u001b[0miterator\u001b[0m\u001b[0;34m:\u001b[0m\u001b[0;34m\u001b[0m\u001b[0;34m\u001b[0m\u001b[0m\n",
            "\u001b[0;32m/usr/local/lib/python3.6/dist-packages/pandas/io/parsers.py\u001b[0m in \u001b[0;36m__init__\u001b[0;34m(self, f, engine, **kwds)\u001b[0m\n\u001b[1;32m    816\u001b[0m             \u001b[0mself\u001b[0m\u001b[0;34m.\u001b[0m\u001b[0moptions\u001b[0m\u001b[0;34m[\u001b[0m\u001b[0;34m'has_index_names'\u001b[0m\u001b[0;34m]\u001b[0m \u001b[0;34m=\u001b[0m \u001b[0mkwds\u001b[0m\u001b[0;34m[\u001b[0m\u001b[0;34m'has_index_names'\u001b[0m\u001b[0;34m]\u001b[0m\u001b[0;34m\u001b[0m\u001b[0;34m\u001b[0m\u001b[0m\n\u001b[1;32m    817\u001b[0m \u001b[0;34m\u001b[0m\u001b[0m\n\u001b[0;32m--> 818\u001b[0;31m         \u001b[0mself\u001b[0m\u001b[0;34m.\u001b[0m\u001b[0m_make_engine\u001b[0m\u001b[0;34m(\u001b[0m\u001b[0mself\u001b[0m\u001b[0;34m.\u001b[0m\u001b[0mengine\u001b[0m\u001b[0;34m)\u001b[0m\u001b[0;34m\u001b[0m\u001b[0;34m\u001b[0m\u001b[0m\n\u001b[0m\u001b[1;32m    819\u001b[0m \u001b[0;34m\u001b[0m\u001b[0m\n\u001b[1;32m    820\u001b[0m     \u001b[0;32mdef\u001b[0m \u001b[0mclose\u001b[0m\u001b[0;34m(\u001b[0m\u001b[0mself\u001b[0m\u001b[0;34m)\u001b[0m\u001b[0;34m:\u001b[0m\u001b[0;34m\u001b[0m\u001b[0;34m\u001b[0m\u001b[0m\n",
            "\u001b[0;32m/usr/local/lib/python3.6/dist-packages/pandas/io/parsers.py\u001b[0m in \u001b[0;36m_make_engine\u001b[0;34m(self, engine)\u001b[0m\n\u001b[1;32m   1047\u001b[0m     \u001b[0;32mdef\u001b[0m \u001b[0m_make_engine\u001b[0m\u001b[0;34m(\u001b[0m\u001b[0mself\u001b[0m\u001b[0;34m,\u001b[0m \u001b[0mengine\u001b[0m\u001b[0;34m=\u001b[0m\u001b[0;34m'c'\u001b[0m\u001b[0;34m)\u001b[0m\u001b[0;34m:\u001b[0m\u001b[0;34m\u001b[0m\u001b[0;34m\u001b[0m\u001b[0m\n\u001b[1;32m   1048\u001b[0m         \u001b[0;32mif\u001b[0m \u001b[0mengine\u001b[0m \u001b[0;34m==\u001b[0m \u001b[0;34m'c'\u001b[0m\u001b[0;34m:\u001b[0m\u001b[0;34m\u001b[0m\u001b[0;34m\u001b[0m\u001b[0m\n\u001b[0;32m-> 1049\u001b[0;31m             \u001b[0mself\u001b[0m\u001b[0;34m.\u001b[0m\u001b[0m_engine\u001b[0m \u001b[0;34m=\u001b[0m \u001b[0mCParserWrapper\u001b[0m\u001b[0;34m(\u001b[0m\u001b[0mself\u001b[0m\u001b[0;34m.\u001b[0m\u001b[0mf\u001b[0m\u001b[0;34m,\u001b[0m \u001b[0;34m**\u001b[0m\u001b[0mself\u001b[0m\u001b[0;34m.\u001b[0m\u001b[0moptions\u001b[0m\u001b[0;34m)\u001b[0m\u001b[0;34m\u001b[0m\u001b[0;34m\u001b[0m\u001b[0m\n\u001b[0m\u001b[1;32m   1050\u001b[0m         \u001b[0;32melse\u001b[0m\u001b[0;34m:\u001b[0m\u001b[0;34m\u001b[0m\u001b[0;34m\u001b[0m\u001b[0m\n\u001b[1;32m   1051\u001b[0m             \u001b[0;32mif\u001b[0m \u001b[0mengine\u001b[0m \u001b[0;34m==\u001b[0m \u001b[0;34m'python'\u001b[0m\u001b[0;34m:\u001b[0m\u001b[0;34m\u001b[0m\u001b[0;34m\u001b[0m\u001b[0m\n",
            "\u001b[0;32m/usr/local/lib/python3.6/dist-packages/pandas/io/parsers.py\u001b[0m in \u001b[0;36m__init__\u001b[0;34m(self, src, **kwds)\u001b[0m\n\u001b[1;32m   1693\u001b[0m         \u001b[0mkwds\u001b[0m\u001b[0;34m[\u001b[0m\u001b[0;34m'allow_leading_cols'\u001b[0m\u001b[0;34m]\u001b[0m \u001b[0;34m=\u001b[0m \u001b[0mself\u001b[0m\u001b[0;34m.\u001b[0m\u001b[0mindex_col\u001b[0m \u001b[0;32mis\u001b[0m \u001b[0;32mnot\u001b[0m \u001b[0;32mFalse\u001b[0m\u001b[0;34m\u001b[0m\u001b[0;34m\u001b[0m\u001b[0m\n\u001b[1;32m   1694\u001b[0m \u001b[0;34m\u001b[0m\u001b[0m\n\u001b[0;32m-> 1695\u001b[0;31m         \u001b[0mself\u001b[0m\u001b[0;34m.\u001b[0m\u001b[0m_reader\u001b[0m \u001b[0;34m=\u001b[0m \u001b[0mparsers\u001b[0m\u001b[0;34m.\u001b[0m\u001b[0mTextReader\u001b[0m\u001b[0;34m(\u001b[0m\u001b[0msrc\u001b[0m\u001b[0;34m,\u001b[0m \u001b[0;34m**\u001b[0m\u001b[0mkwds\u001b[0m\u001b[0;34m)\u001b[0m\u001b[0;34m\u001b[0m\u001b[0;34m\u001b[0m\u001b[0m\n\u001b[0m\u001b[1;32m   1696\u001b[0m \u001b[0;34m\u001b[0m\u001b[0m\n\u001b[1;32m   1697\u001b[0m         \u001b[0;31m# XXX\u001b[0m\u001b[0;34m\u001b[0m\u001b[0;34m\u001b[0m\u001b[0;34m\u001b[0m\u001b[0m\n",
            "\u001b[0;32mpandas/_libs/parsers.pyx\u001b[0m in \u001b[0;36mpandas._libs.parsers.TextReader.__cinit__\u001b[0;34m()\u001b[0m\n",
            "\u001b[0;32mpandas/_libs/parsers.pyx\u001b[0m in \u001b[0;36mpandas._libs.parsers.TextReader._setup_parser_source\u001b[0;34m()\u001b[0m\n",
            "\u001b[0;31mFileNotFoundError\u001b[0m: File b'../input/sample_submission.csv' does not exist"
          ]
        }
      ]
    },
    {
      "metadata": {
        "id": "6aCoE_8YxsIj",
        "colab_type": "code",
        "colab": {
          "base_uri": "https://localhost:8080/",
          "height": 181
        },
        "outputId": "51ee2b2c-9e1e-4b64-8bab-b74892c64a72"
      },
      "cell_type": "code",
      "source": [
        "sample_submission['target'] = preds['p1'].as_data_frame().values\n",
        "sample_submission.to_csv('submission.csv', index=False)"
      ],
      "execution_count": 39,
      "outputs": [
        {
          "output_type": "error",
          "ename": "NameError",
          "evalue": "ignored",
          "traceback": [
            "\u001b[0;31m---------------------------------------------------------------------------\u001b[0m",
            "\u001b[0;31mNameError\u001b[0m                                 Traceback (most recent call last)",
            "\u001b[0;32m<ipython-input-39-cc3648286846>\u001b[0m in \u001b[0;36m<module>\u001b[0;34m()\u001b[0m\n\u001b[0;32m----> 1\u001b[0;31m \u001b[0msample_submission\u001b[0m\u001b[0;34m[\u001b[0m\u001b[0;34m'target'\u001b[0m\u001b[0;34m]\u001b[0m \u001b[0;34m=\u001b[0m \u001b[0mpreds\u001b[0m\u001b[0;34m[\u001b[0m\u001b[0;34m'p1'\u001b[0m\u001b[0;34m]\u001b[0m\u001b[0;34m.\u001b[0m\u001b[0mas_data_frame\u001b[0m\u001b[0;34m(\u001b[0m\u001b[0;34m)\u001b[0m\u001b[0;34m.\u001b[0m\u001b[0mvalues\u001b[0m\u001b[0;34m\u001b[0m\u001b[0;34m\u001b[0m\u001b[0m\n\u001b[0m\u001b[1;32m      2\u001b[0m \u001b[0msample_submission\u001b[0m\u001b[0;34m.\u001b[0m\u001b[0mto_csv\u001b[0m\u001b[0;34m(\u001b[0m\u001b[0;34m'submission.csv'\u001b[0m\u001b[0;34m,\u001b[0m \u001b[0mindex\u001b[0m\u001b[0;34m=\u001b[0m\u001b[0;32mFalse\u001b[0m\u001b[0;34m)\u001b[0m\u001b[0;34m\u001b[0m\u001b[0;34m\u001b[0m\u001b[0m\n",
            "\u001b[0;31mNameError\u001b[0m: name 'preds' is not defined"
          ]
        }
      ]
    },
    {
      "metadata": {
        "id": "4223bEDMxrH3",
        "colab_type": "code",
        "colab": {}
      },
      "cell_type": "code",
      "source": [
        ""
      ],
      "execution_count": 0,
      "outputs": []
    },
    {
      "metadata": {
        "id": "UMZst24avpej",
        "colab_type": "code",
        "colab": {}
      },
      "cell_type": "code",
      "source": [
        ""
      ],
      "execution_count": 0,
      "outputs": []
    },
    {
      "metadata": {
        "id": "whiQlvzUjQvs",
        "colab_type": "code",
        "outputId": "4fefb805-e596-4df7-f0aa-ff8bfe3fa3d1",
        "colab": {
          "base_uri": "https://localhost:8080/",
          "height": 1275
        }
      },
      "cell_type": "code",
      "source": [
        "x = targets[1:]\n",
        "y = train[:1]\n",
        "\n",
        "print(y)\n",
        "print(x)\n",
        "\n"
      ],
      "execution_count": 0,
      "outputs": [
        {
          "output_type": "stream",
          "text": [
            "    var_0   var_1    var_2  var_3    var_4   var_5   var_6    var_7  var_8  \\\n",
            "0  8.9255 -6.7863  11.9081  5.093  11.4607 -9.2834  5.1187  18.6266  -4.92   \n",
            "\n",
            "   var_9   ...     var_190  var_191  var_192  var_193  var_194  var_195  \\\n",
            "0  5.747   ...      4.4354   3.9642   3.1364    1.691  18.5227  -2.3978   \n",
            "\n",
            "   var_196  var_197  var_198  var_199  \n",
            "0   7.8784   8.5635  12.7803  -1.0914  \n",
            "\n",
            "[1 rows x 200 columns]\n",
            "        target\n",
            "1            0\n",
            "2            0\n",
            "3            0\n",
            "4            0\n",
            "5            0\n",
            "6            0\n",
            "7            0\n",
            "8            0\n",
            "9            0\n",
            "10           0\n",
            "11           0\n",
            "12           0\n",
            "13           1\n",
            "14           0\n",
            "15           0\n",
            "16           0\n",
            "17           0\n",
            "18           0\n",
            "19           0\n",
            "20           0\n",
            "21           0\n",
            "22           0\n",
            "23           0\n",
            "24           0\n",
            "25           0\n",
            "26           0\n",
            "27           0\n",
            "28           0\n",
            "29           1\n",
            "30           0\n",
            "...        ...\n",
            "199970       0\n",
            "199971       0\n",
            "199972       0\n",
            "199973       0\n",
            "199974       0\n",
            "199975       0\n",
            "199976       1\n",
            "199977       0\n",
            "199978       0\n",
            "199979       0\n",
            "199980       0\n",
            "199981       1\n",
            "199982       0\n",
            "199983       0\n",
            "199984       0\n",
            "199985       0\n",
            "199986       1\n",
            "199987       0\n",
            "199988       0\n",
            "199989       0\n",
            "199990       1\n",
            "199991       0\n",
            "199992       0\n",
            "199993       0\n",
            "199994       0\n",
            "199995       0\n",
            "199996       0\n",
            "199997       0\n",
            "199998       0\n",
            "199999       0\n",
            "\n",
            "[199999 rows x 1 columns]\n"
          ],
          "name": "stdout"
        }
      ]
    },
    {
      "metadata": {
        "id": "V5Tlq91Df_Zx",
        "colab_type": "text"
      },
      "cell_type": "markdown",
      "source": [
        "##Plot what we have"
      ]
    },
    {
      "metadata": {
        "id": "5G5RBqk5T8Fq",
        "colab_type": "code",
        "colab": {}
      },
      "cell_type": "code",
      "source": [
        ""
      ],
      "execution_count": 0,
      "outputs": []
    },
    {
      "metadata": {
        "id": "5UHbJuHrT8Vm",
        "colab_type": "code",
        "outputId": "4059136a-93ec-4fd8-988c-4b929d690315",
        "colab": {
          "base_uri": "https://localhost:8080/",
          "height": 476
        }
      },
      "cell_type": "code",
      "source": [
        "# np.random.seed(12345678)\n",
        "# x = np.random.random(10)\n",
        "# y = 1.6*x + np.random.random(10)\n",
        "\n",
        "slope, intercept, r_value, p_value, std_err = stats.linregress(x, y)\n",
        "print(\"slope: %f    intercept: %f\" % (slope, intercept))"
      ],
      "execution_count": 0,
      "outputs": [
        {
          "output_type": "error",
          "ename": "ValueError",
          "evalue": "ignored",
          "traceback": [
            "\u001b[0;31m---------------------------------------------------------------------------\u001b[0m",
            "\u001b[0;31mValueError\u001b[0m                                Traceback (most recent call last)",
            "\u001b[0;32m<ipython-input-24-f095bcfeec97>\u001b[0m in \u001b[0;36m<module>\u001b[0;34m()\u001b[0m\n\u001b[1;32m      1\u001b[0m \u001b[0;34m\u001b[0m\u001b[0m\n\u001b[0;32m----> 2\u001b[0;31m \u001b[0mslope\u001b[0m\u001b[0;34m,\u001b[0m \u001b[0mintercept\u001b[0m\u001b[0;34m,\u001b[0m \u001b[0mr_value\u001b[0m\u001b[0;34m,\u001b[0m \u001b[0mp_value\u001b[0m\u001b[0;34m,\u001b[0m \u001b[0mstd_err\u001b[0m \u001b[0;34m=\u001b[0m \u001b[0mstats\u001b[0m\u001b[0;34m.\u001b[0m\u001b[0mlinregress\u001b[0m\u001b[0;34m(\u001b[0m\u001b[0mx\u001b[0m\u001b[0;34m,\u001b[0m \u001b[0my\u001b[0m\u001b[0;34m)\u001b[0m\u001b[0;34m\u001b[0m\u001b[0;34m\u001b[0m\u001b[0m\n\u001b[0m\u001b[1;32m      3\u001b[0m \u001b[0mprint\u001b[0m\u001b[0;34m(\u001b[0m\u001b[0;34m\"slope: %f    intercept: %f\"\u001b[0m \u001b[0;34m%\u001b[0m \u001b[0;34m(\u001b[0m\u001b[0mslope\u001b[0m\u001b[0;34m,\u001b[0m \u001b[0mintercept\u001b[0m\u001b[0;34m)\u001b[0m\u001b[0;34m)\u001b[0m\u001b[0;34m\u001b[0m\u001b[0;34m\u001b[0m\u001b[0m\n",
            "\u001b[0;32m/usr/local/lib/python3.6/dist-packages/scipy/stats/_stats_mstats_common.py\u001b[0m in \u001b[0;36mlinregress\u001b[0;34m(x, y)\u001b[0m\n\u001b[1;32m     91\u001b[0m \u001b[0;34m\u001b[0m\u001b[0m\n\u001b[1;32m     92\u001b[0m     \u001b[0;31m# average sum of squares:\u001b[0m\u001b[0;34m\u001b[0m\u001b[0;34m\u001b[0m\u001b[0;34m\u001b[0m\u001b[0m\n\u001b[0;32m---> 93\u001b[0;31m     \u001b[0mssxm\u001b[0m\u001b[0;34m,\u001b[0m \u001b[0mssxym\u001b[0m\u001b[0;34m,\u001b[0m \u001b[0mssyxm\u001b[0m\u001b[0;34m,\u001b[0m \u001b[0mssym\u001b[0m \u001b[0;34m=\u001b[0m \u001b[0mnp\u001b[0m\u001b[0;34m.\u001b[0m\u001b[0mcov\u001b[0m\u001b[0;34m(\u001b[0m\u001b[0mx\u001b[0m\u001b[0;34m,\u001b[0m \u001b[0my\u001b[0m\u001b[0;34m,\u001b[0m \u001b[0mbias\u001b[0m\u001b[0;34m=\u001b[0m\u001b[0;36m1\u001b[0m\u001b[0;34m)\u001b[0m\u001b[0;34m.\u001b[0m\u001b[0mflat\u001b[0m\u001b[0;34m\u001b[0m\u001b[0;34m\u001b[0m\u001b[0m\n\u001b[0m\u001b[1;32m     94\u001b[0m     \u001b[0mr_num\u001b[0m \u001b[0;34m=\u001b[0m \u001b[0mssxym\u001b[0m\u001b[0;34m\u001b[0m\u001b[0;34m\u001b[0m\u001b[0m\n\u001b[1;32m     95\u001b[0m     \u001b[0mr_den\u001b[0m \u001b[0;34m=\u001b[0m \u001b[0mnp\u001b[0m\u001b[0;34m.\u001b[0m\u001b[0msqrt\u001b[0m\u001b[0;34m(\u001b[0m\u001b[0mssxm\u001b[0m \u001b[0;34m*\u001b[0m \u001b[0mssym\u001b[0m\u001b[0;34m)\u001b[0m\u001b[0;34m\u001b[0m\u001b[0;34m\u001b[0m\u001b[0m\n",
            "\u001b[0;32m/usr/local/lib/python3.6/dist-packages/numpy/lib/function_base.py\u001b[0m in \u001b[0;36mcov\u001b[0;34m(m, y, rowvar, bias, ddof, fweights, aweights)\u001b[0m\n\u001b[1;32m   3042\u001b[0m         \u001b[0;32mif\u001b[0m \u001b[0;32mnot\u001b[0m \u001b[0mrowvar\u001b[0m \u001b[0;32mand\u001b[0m \u001b[0my\u001b[0m\u001b[0;34m.\u001b[0m\u001b[0mshape\u001b[0m\u001b[0;34m[\u001b[0m\u001b[0;36m0\u001b[0m\u001b[0;34m]\u001b[0m \u001b[0;34m!=\u001b[0m \u001b[0;36m1\u001b[0m\u001b[0;34m:\u001b[0m\u001b[0;34m\u001b[0m\u001b[0;34m\u001b[0m\u001b[0m\n\u001b[1;32m   3043\u001b[0m             \u001b[0my\u001b[0m \u001b[0;34m=\u001b[0m \u001b[0my\u001b[0m\u001b[0;34m.\u001b[0m\u001b[0mT\u001b[0m\u001b[0;34m\u001b[0m\u001b[0;34m\u001b[0m\u001b[0m\n\u001b[0;32m-> 3044\u001b[0;31m         \u001b[0mX\u001b[0m \u001b[0;34m=\u001b[0m \u001b[0mnp\u001b[0m\u001b[0;34m.\u001b[0m\u001b[0mconcatenate\u001b[0m\u001b[0;34m(\u001b[0m\u001b[0;34m(\u001b[0m\u001b[0mX\u001b[0m\u001b[0;34m,\u001b[0m \u001b[0my\u001b[0m\u001b[0;34m)\u001b[0m\u001b[0;34m,\u001b[0m \u001b[0maxis\u001b[0m\u001b[0;34m=\u001b[0m\u001b[0;36m0\u001b[0m\u001b[0;34m)\u001b[0m\u001b[0;34m\u001b[0m\u001b[0;34m\u001b[0m\u001b[0m\n\u001b[0m\u001b[1;32m   3045\u001b[0m \u001b[0;34m\u001b[0m\u001b[0m\n\u001b[1;32m   3046\u001b[0m     \u001b[0;32mif\u001b[0m \u001b[0mddof\u001b[0m \u001b[0;32mis\u001b[0m \u001b[0;32mNone\u001b[0m\u001b[0;34m:\u001b[0m\u001b[0;34m\u001b[0m\u001b[0;34m\u001b[0m\u001b[0m\n",
            "\u001b[0;31mValueError\u001b[0m: all the input array dimensions except for the concatenation axis must match exactly"
          ]
        }
      ]
    },
    {
      "metadata": {
        "id": "m2Qt9iFAf9XD",
        "colab_type": "code",
        "outputId": "145652a0-ea58-414a-80be-959e0de26b43",
        "colab": {
          "base_uri": "https://localhost:8080/",
          "height": 164
        }
      },
      "cell_type": "code",
      "source": [
        "print(\"r-squared: %f\" % r_value**2)"
      ],
      "execution_count": 0,
      "outputs": [
        {
          "output_type": "error",
          "ename": "NameError",
          "evalue": "ignored",
          "traceback": [
            "\u001b[0;31m---------------------------------------------------------------------------\u001b[0m",
            "\u001b[0;31mNameError\u001b[0m                                 Traceback (most recent call last)",
            "\u001b[0;32m<ipython-input-3-fb211a1c5232>\u001b[0m in \u001b[0;36m<module>\u001b[0;34m()\u001b[0m\n\u001b[0;32m----> 1\u001b[0;31m \u001b[0mprint\u001b[0m\u001b[0;34m(\u001b[0m\u001b[0;34m\"r-squared: %f\"\u001b[0m \u001b[0;34m%\u001b[0m \u001b[0mr_value\u001b[0m\u001b[0;34m**\u001b[0m\u001b[0;36m2\u001b[0m\u001b[0;34m)\u001b[0m\u001b[0;34m\u001b[0m\u001b[0;34m\u001b[0m\u001b[0m\n\u001b[0m",
            "\u001b[0;31mNameError\u001b[0m: name 'r_value' is not defined"
          ]
        }
      ]
    },
    {
      "metadata": {
        "id": "dBWuwUFyf9gB",
        "colab_type": "code",
        "outputId": "6efafcb0-a0e8-41e9-e8ec-b7bd602415bf",
        "colab": {
          "base_uri": "https://localhost:8080/",
          "height": 215
        }
      },
      "cell_type": "code",
      "source": [
        "plt.plot(x, y, 'o', label='original data')\n",
        "plt.plot(x, intercept + slope*x, 'r', label='fitted line')\n",
        "plt.legend()\n",
        "plt.show()"
      ],
      "execution_count": 0,
      "outputs": [
        {
          "output_type": "error",
          "ename": "NameError",
          "evalue": "ignored",
          "traceback": [
            "\u001b[0;31m---------------------------------------------------------------------------\u001b[0m",
            "\u001b[0;31mNameError\u001b[0m                                 Traceback (most recent call last)",
            "\u001b[0;32m<ipython-input-4-5b6fa673db72>\u001b[0m in \u001b[0;36m<module>\u001b[0;34m()\u001b[0m\n\u001b[0;32m----> 1\u001b[0;31m \u001b[0mplt\u001b[0m\u001b[0;34m.\u001b[0m\u001b[0mplot\u001b[0m\u001b[0;34m(\u001b[0m\u001b[0mx\u001b[0m\u001b[0;34m,\u001b[0m \u001b[0my\u001b[0m\u001b[0;34m,\u001b[0m \u001b[0;34m'o'\u001b[0m\u001b[0;34m,\u001b[0m \u001b[0mlabel\u001b[0m\u001b[0;34m=\u001b[0m\u001b[0;34m'original data'\u001b[0m\u001b[0;34m)\u001b[0m\u001b[0;34m\u001b[0m\u001b[0;34m\u001b[0m\u001b[0m\n\u001b[0m\u001b[1;32m      2\u001b[0m \u001b[0mplt\u001b[0m\u001b[0;34m.\u001b[0m\u001b[0mplot\u001b[0m\u001b[0;34m(\u001b[0m\u001b[0mx\u001b[0m\u001b[0;34m,\u001b[0m \u001b[0mintercept\u001b[0m \u001b[0;34m+\u001b[0m \u001b[0mslope\u001b[0m\u001b[0;34m*\u001b[0m\u001b[0mx\u001b[0m\u001b[0;34m,\u001b[0m \u001b[0;34m'r'\u001b[0m\u001b[0;34m,\u001b[0m \u001b[0mlabel\u001b[0m\u001b[0;34m=\u001b[0m\u001b[0;34m'fitted line'\u001b[0m\u001b[0;34m)\u001b[0m\u001b[0;34m\u001b[0m\u001b[0;34m\u001b[0m\u001b[0m\n\u001b[1;32m      3\u001b[0m \u001b[0mplt\u001b[0m\u001b[0;34m.\u001b[0m\u001b[0mlegend\u001b[0m\u001b[0;34m(\u001b[0m\u001b[0;34m)\u001b[0m\u001b[0;34m\u001b[0m\u001b[0;34m\u001b[0m\u001b[0m\n\u001b[1;32m      4\u001b[0m \u001b[0mplt\u001b[0m\u001b[0;34m.\u001b[0m\u001b[0mshow\u001b[0m\u001b[0;34m(\u001b[0m\u001b[0;34m)\u001b[0m\u001b[0;34m\u001b[0m\u001b[0;34m\u001b[0m\u001b[0m\n",
            "\u001b[0;31mNameError\u001b[0m: name 'x' is not defined"
          ]
        }
      ]
    },
    {
      "metadata": {
        "id": "s7JNR3SfTr35",
        "colab_type": "text"
      },
      "cell_type": "markdown",
      "source": [
        "#### TODO 0: get all values that have a target of 1 and try to generate a regression for all 200 variables plus passing the other 80% of data set that has ceros.\n",
        "\n",
        "\n",
        "#### TODO 1: train with 20098 taregets vs another 20098 random 0 targets ?\n",
        "\n"
      ]
    },
    {
      "metadata": {
        "id": "i_XYGP0kppZU",
        "colab_type": "code",
        "outputId": "a63b9dc3-8b37-43df-bdf1-8ab54610a05e",
        "colab": {
          "base_uri": "https://localhost:8080/",
          "height": 139
        }
      },
      "cell_type": "code",
      "source": [
        "features"
      ],
      "execution_count": 0,
      "outputs": [
        {
          "output_type": "execute_result",
          "data": {
            "text/plain": [
              "Index(['var_0', 'var_1', 'var_2', 'var_3', 'var_4', 'var_5', 'var_6', 'var_7',\n",
              "       'var_8', 'var_9',\n",
              "       ...\n",
              "       'var_190', 'var_191', 'var_192', 'var_193', 'var_194', 'var_195',\n",
              "       'var_196', 'var_197', 'var_198', 'var_199'],\n",
              "      dtype='object', length=200)"
            ]
          },
          "metadata": {
            "tags": []
          },
          "execution_count": 114
        }
      ]
    },
    {
      "metadata": {
        "id": "jShp-VEFppnT",
        "colab_type": "code",
        "colab": {}
      },
      "cell_type": "code",
      "source": [
        "train_test = pd.concat([train, test], axis =0)\n",
        "\n",
        "\n",
        "\n",
        "target = train_test['target'].values\n",
        "\n",
        "test_target = train['target']\n"
      ],
      "execution_count": 0,
      "outputs": []
    },
    {
      "metadata": {
        "id": "l_heEjlipphy",
        "colab_type": "code",
        "outputId": "61342ad2-2f43-4d4c-e9d7-306d2618debe",
        "colab": {
          "base_uri": "https://localhost:8080/",
          "height": 720
        }
      },
      "cell_type": "code",
      "source": [
        "param = {'num_leaves': 50,\n",
        "         'min_data_in_leaf': 30, \n",
        "         'objective':'binary',\n",
        "         'max_depth': 5,\n",
        "         'learning_rate': 0.05,\n",
        "         \"min_child_samples\": 20,\n",
        "         \"boosting\": \"gbdt\",\n",
        "         \"feature_fraction\": 0.9,\n",
        "         \"bagging_freq\": 1,\n",
        "         \"bagging_fraction\": 0.9 ,\n",
        "         \"bagging_seed\": 17,\n",
        "         \"metric\": 'auc',\n",
        "         \"verbosity\": -1}\n",
        "\n",
        "folds = KFold(n_splits=5, shuffle=True, random_state=15)\n",
        "oof = np.zeros(len(train_test))\n",
        "\n",
        "\n",
        "for fold_, (trn_idx, val_idx) in enumerate(folds.split(train_test.values, target)):\n",
        "    print(\"fold n°{}\".format(fold_))\n",
        "    trn_data = lgb.Dataset(train_test.iloc[trn_idx][features], label=target[trn_idx])\n",
        "    val_data = lgb.Dataset(train_test.iloc[val_idx][features], label=target[val_idx])\n",
        "\n",
        "    num_round = 10000\n",
        "    clf = lgb.train(param, trn_data, num_round, valid_sets = [trn_data, val_data], verbose_eval=100, early_stopping_rounds = 100)\n",
        "    oof[val_idx] = clf.predict(train_test.iloc[val_idx][features], num_iteration=clf.best_iteration)"
      ],
      "execution_count": 0,
      "outputs": [
        {
          "output_type": "stream",
          "text": [
            "fold n°0\n",
            "Training until validation scores don't improve for 100 rounds.\n",
            "[100]\ttraining's auc: 0.633934\tvalid_1's auc: 0.511805\n",
            "[200]\ttraining's auc: 0.680832\tvalid_1's auc: 0.512238\n",
            "Early stopping, best iteration is:\n",
            "[128]\ttraining's auc: 0.649589\tvalid_1's auc: 0.512908\n",
            "fold n°1\n",
            "Training until validation scores don't improve for 100 rounds.\n",
            "[100]\ttraining's auc: 0.635347\tvalid_1's auc: 0.511121\n",
            "[200]\ttraining's auc: 0.681405\tvalid_1's auc: 0.514333\n",
            "[300]\ttraining's auc: 0.713812\tvalid_1's auc: 0.515166\n"
          ],
          "name": "stdout"
        },
        {
          "output_type": "error",
          "ename": "KeyboardInterrupt",
          "evalue": "ignored",
          "traceback": [
            "\u001b[0;31m---------------------------------------------------------------------------\u001b[0m",
            "\u001b[0;31mKeyboardInterrupt\u001b[0m                         Traceback (most recent call last)",
            "\u001b[0;32m<ipython-input-36-01822059dc28>\u001b[0m in \u001b[0;36m<module>\u001b[0;34m()\u001b[0m\n\u001b[1;32m     23\u001b[0m \u001b[0;34m\u001b[0m\u001b[0m\n\u001b[1;32m     24\u001b[0m     \u001b[0mnum_round\u001b[0m \u001b[0;34m=\u001b[0m \u001b[0;36m10000\u001b[0m\u001b[0;34m\u001b[0m\u001b[0;34m\u001b[0m\u001b[0m\n\u001b[0;32m---> 25\u001b[0;31m     \u001b[0mclf\u001b[0m \u001b[0;34m=\u001b[0m \u001b[0mlgb\u001b[0m\u001b[0;34m.\u001b[0m\u001b[0mtrain\u001b[0m\u001b[0;34m(\u001b[0m\u001b[0mparam\u001b[0m\u001b[0;34m,\u001b[0m \u001b[0mtrn_data\u001b[0m\u001b[0;34m,\u001b[0m \u001b[0mnum_round\u001b[0m\u001b[0;34m,\u001b[0m \u001b[0mvalid_sets\u001b[0m \u001b[0;34m=\u001b[0m \u001b[0;34m[\u001b[0m\u001b[0mtrn_data\u001b[0m\u001b[0;34m,\u001b[0m \u001b[0mval_data\u001b[0m\u001b[0;34m]\u001b[0m\u001b[0;34m,\u001b[0m \u001b[0mverbose_eval\u001b[0m\u001b[0;34m=\u001b[0m\u001b[0;36m100\u001b[0m\u001b[0;34m,\u001b[0m \u001b[0mearly_stopping_rounds\u001b[0m \u001b[0;34m=\u001b[0m \u001b[0;36m100\u001b[0m\u001b[0;34m)\u001b[0m\u001b[0;34m\u001b[0m\u001b[0;34m\u001b[0m\u001b[0m\n\u001b[0m\u001b[1;32m     26\u001b[0m     \u001b[0moof\u001b[0m\u001b[0;34m[\u001b[0m\u001b[0mval_idx\u001b[0m\u001b[0;34m]\u001b[0m \u001b[0;34m=\u001b[0m \u001b[0mclf\u001b[0m\u001b[0;34m.\u001b[0m\u001b[0mpredict\u001b[0m\u001b[0;34m(\u001b[0m\u001b[0mtrain_test\u001b[0m\u001b[0;34m.\u001b[0m\u001b[0miloc\u001b[0m\u001b[0;34m[\u001b[0m\u001b[0mval_idx\u001b[0m\u001b[0;34m]\u001b[0m\u001b[0;34m[\u001b[0m\u001b[0mfeatures\u001b[0m\u001b[0;34m]\u001b[0m\u001b[0;34m,\u001b[0m \u001b[0mnum_iteration\u001b[0m\u001b[0;34m=\u001b[0m\u001b[0mclf\u001b[0m\u001b[0;34m.\u001b[0m\u001b[0mbest_iteration\u001b[0m\u001b[0;34m)\u001b[0m\u001b[0;34m\u001b[0m\u001b[0;34m\u001b[0m\u001b[0m\n",
            "\u001b[0;32m/usr/local/lib/python3.6/dist-packages/lightgbm/engine.py\u001b[0m in \u001b[0;36mtrain\u001b[0;34m(params, train_set, num_boost_round, valid_sets, valid_names, fobj, feval, init_model, feature_name, categorical_feature, early_stopping_rounds, evals_result, verbose_eval, learning_rates, keep_training_booster, callbacks)\u001b[0m\n\u001b[1;32m    216\u001b[0m                                     evaluation_result_list=None))\n\u001b[1;32m    217\u001b[0m \u001b[0;34m\u001b[0m\u001b[0m\n\u001b[0;32m--> 218\u001b[0;31m         \u001b[0mbooster\u001b[0m\u001b[0;34m.\u001b[0m\u001b[0mupdate\u001b[0m\u001b[0;34m(\u001b[0m\u001b[0mfobj\u001b[0m\u001b[0;34m=\u001b[0m\u001b[0mfobj\u001b[0m\u001b[0;34m)\u001b[0m\u001b[0;34m\u001b[0m\u001b[0;34m\u001b[0m\u001b[0m\n\u001b[0m\u001b[1;32m    219\u001b[0m \u001b[0;34m\u001b[0m\u001b[0m\n\u001b[1;32m    220\u001b[0m         \u001b[0mevaluation_result_list\u001b[0m \u001b[0;34m=\u001b[0m \u001b[0;34m[\u001b[0m\u001b[0;34m]\u001b[0m\u001b[0;34m\u001b[0m\u001b[0;34m\u001b[0m\u001b[0m\n",
            "\u001b[0;32m/usr/local/lib/python3.6/dist-packages/lightgbm/basic.py\u001b[0m in \u001b[0;36mupdate\u001b[0;34m(self, train_set, fobj)\u001b[0m\n\u001b[1;32m   1800\u001b[0m             _safe_call(_LIB.LGBM_BoosterUpdateOneIter(\n\u001b[1;32m   1801\u001b[0m                 \u001b[0mself\u001b[0m\u001b[0;34m.\u001b[0m\u001b[0mhandle\u001b[0m\u001b[0;34m,\u001b[0m\u001b[0;34m\u001b[0m\u001b[0;34m\u001b[0m\u001b[0m\n\u001b[0;32m-> 1802\u001b[0;31m                 ctypes.byref(is_finished)))\n\u001b[0m\u001b[1;32m   1803\u001b[0m             \u001b[0mself\u001b[0m\u001b[0;34m.\u001b[0m\u001b[0m__is_predicted_cur_iter\u001b[0m \u001b[0;34m=\u001b[0m \u001b[0;34m[\u001b[0m\u001b[0;32mFalse\u001b[0m \u001b[0;32mfor\u001b[0m \u001b[0m_\u001b[0m \u001b[0;32min\u001b[0m \u001b[0mrange_\u001b[0m\u001b[0;34m(\u001b[0m\u001b[0mself\u001b[0m\u001b[0;34m.\u001b[0m\u001b[0m__num_dataset\u001b[0m\u001b[0;34m)\u001b[0m\u001b[0;34m]\u001b[0m\u001b[0;34m\u001b[0m\u001b[0;34m\u001b[0m\u001b[0m\n\u001b[1;32m   1804\u001b[0m             \u001b[0;32mreturn\u001b[0m \u001b[0mis_finished\u001b[0m\u001b[0;34m.\u001b[0m\u001b[0mvalue\u001b[0m \u001b[0;34m==\u001b[0m \u001b[0;36m1\u001b[0m\u001b[0;34m\u001b[0m\u001b[0;34m\u001b[0m\u001b[0m\n",
            "\u001b[0;31mKeyboardInterrupt\u001b[0m: "
          ]
        }
      ]
    },
    {
      "metadata": {
        "id": "hoAKDjBep2qH",
        "colab_type": "text"
      },
      "cell_type": "markdown",
      "source": [
        "Let's take a look at the overall oof CV AUC:"
      ]
    },
    {
      "metadata": {
        "id": "0tlxixGup5Zf",
        "colab_type": "code",
        "colab": {}
      },
      "cell_type": "code",
      "source": [
        "metrics.roc_auc_score(target, oof)"
      ],
      "execution_count": 0,
      "outputs": []
    },
    {
      "metadata": {
        "id": "qmo3l3gQp7tQ",
        "colab_type": "text"
      },
      "cell_type": "markdown",
      "source": [
        "AUC of 0.52 is overall not a major issue, but it is slightly over 0.50, which can have an impact when you are chasing the 4th decimal point."
      ]
    },
    {
      "metadata": {
        "id": "VbsNRCK5vyc-",
        "colab_type": "text"
      },
      "cell_type": "markdown",
      "source": [
        "## Lasso Implementation \n",
        "https://www.kaggle.com/baogorek/lasso-regression-with-keras"
      ]
    }
  ]
}